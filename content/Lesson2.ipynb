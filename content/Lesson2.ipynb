{
 "cells": [
  {
   "cell_type": "markdown",
   "id": "333c40bd-e038-46c2-a937-4b0c437b10af",
   "metadata": {},
   "source": [
    "# Lesson 2: More Operators and Some Conditionals\n",
    "\n",
    "___"
   ]
  },
  {
   "cell_type": "markdown",
   "id": "7bfb79d3-c288-4689-ad67-f29e3c077552",
   "metadata": {},
   "source": [
    "In this lesson, we cover quite a lot of ground, so buckle up.\n",
    "\n",
    "## Assigning & Changing Variables\n",
    "We've talked a bit about *variables*, but the real power in variables is that that are variable, changeable. But so far we've mentioned variables in a static sense. So how do we change variables.\n",
    "\n",
    "Let's start by directly changing it exactly how we want to:"
   ]
  },
  {
   "cell_type": "code",
   "execution_count": 8,
   "id": "d2f05249-9bb3-4d8a-9f9c-3fc1199b5839",
   "metadata": {},
   "outputs": [
    {
     "name": "stdout",
     "output_type": "stream",
     "text": [
      "<class 'int'> 0\n",
      "<class 'float'> 1.5\n"
     ]
    }
   ],
   "source": [
    "num = 0 # this is an initiallization of the variable num (0 is a good starting point in general)\n",
    "print(type(num),num)\n",
    "num = num + 1.5 # this changes num, increasing it by a fixed amount 1.5. this should also change the type of num\n",
    "print(type(num),num)"
   ]
  },
  {
   "cell_type": "markdown",
   "id": "fb87c231-3429-4873-a81b-fea6d652373a",
   "metadata": {},
   "source": [
    "Hmmm, yes, nice. So, we can change the value of variables after assigning them. Now what? Well, now let's talk about *increment operators*.\n",
    "\n",
    "## Increment Operators\n",
    "\n",
    "An increment operator updates the value of a variable whenever called (exectued)."
   ]
  },
  {
   "cell_type": "code",
   "execution_count": 9,
   "id": "1ae82aa5-918d-4533-8a95-1012c4e207ce",
   "metadata": {},
   "outputs": [
    {
     "data": {
      "text/plain": [
       "6.1"
      ]
     },
     "execution_count": 9,
     "metadata": {},
     "output_type": "execute_result"
    }
   ],
   "source": [
    "x = 2\n",
    "x += 4.1\n",
    "x"
   ]
  },
  {
   "cell_type": "markdown",
   "id": "cc6921ff-7640-48b6-883f-f025080ff38f",
   "metadata": {},
   "source": [
    "> **Note:** In order to directly outpute the value of any variable without calling the `print()` function, just type the variable at the end of your script/program and it will be outputted at the end of execution."
   ]
  },
  {
   "cell_type": "markdown",
   "id": "b203c760-1e1b-48ba-821c-09f74d6e8b9f",
   "metadata": {},
   "source": [
    "Basically, what's going on here is that we told the machine what `x` was, then told it to update `x`. And we can do this as many times as we like, which will be useful when we need to keep track of things."
   ]
  },
  {
   "cell_type": "code",
   "execution_count": 10,
   "id": "f7da431f-f13a-40b9-9c23-adc05f9846cf",
   "metadata": {},
   "outputs": [
    {
     "data": {
      "text/plain": [
       "6"
      ]
     },
     "execution_count": 10,
     "metadata": {},
     "output_type": "execute_result"
    }
   ],
   "source": [
    "x = 0\n",
    "x += 1\n",
    "x += 1\n",
    "x += 1\n",
    "x += 1\n",
    "x += 1\n",
    "x += 1\n",
    "x"
   ]
  },
  {
   "cell_type": "markdown",
   "id": "619e977d-8cb2-46d0-af37-476ee27ce47e",
   "metadata": {},
   "source": [
    "## Type Conversion\n",
    "\n",
    "Suppose you have a variable of one type, and you want to convert it to another. For example, say you have a string, `\"42\"`, and you want to convert it to an integer. This would happen if you were reading information from a text file, which by definition is full of strings, and you wanted to convert some string to a number. You would use something like the following code:"
   ]
  },
  {
   "cell_type": "code",
   "execution_count": 12,
   "id": "a3ce4458-33c8-4ca1-a25d-149aaa3809e3",
   "metadata": {},
   "outputs": [
    {
     "name": "stdout",
     "output_type": "stream",
     "text": [
      "42 <class 'int'>\n"
     ]
    }
   ],
   "source": [
    "num_str = \"42\"\n",
    "num = int(num_str)\n",
    "print(num, type(num))"
   ]
  },
  {
   "cell_type": "markdown",
   "id": "202b9fc7-2f3d-43c4-95a4-0206fa4942c2",
   "metadata": {},
   "source": [
    "Simiarly, we can convert from `int` back to `str`:"
   ]
  },
  {
   "cell_type": "code",
   "execution_count": 13,
   "id": "dee78b81-715e-4400-a698-675e8b192063",
   "metadata": {},
   "outputs": [
    {
     "data": {
      "text/plain": [
       "'42'"
      ]
     },
     "execution_count": 13,
     "metadata": {},
     "output_type": "execute_result"
    }
   ],
   "source": [
    "str(num)"
   ]
  },
  {
   "cell_type": "markdown",
   "id": "d03850ff-1f65-4d4c-8a92-814a3cb3b9a8",
   "metadata": {},
   "source": [
    "Keep in mind that while `float` to `int` conversion is possible, a machine doesn't understand the concept of rounding as a human does. Way back in grade school, you were taught to round up and down. By default, a machine *always* rounds down:"
   ]
  },
  {
   "cell_type": "code",
   "execution_count": 15,
   "id": "35bdd18b-d934-40da-907b-9885a2a352ff",
   "metadata": {},
   "outputs": [
    {
     "data": {
      "text/plain": [
       "3"
      ]
     },
     "execution_count": 15,
     "metadata": {},
     "output_type": "execute_result"
    }
   ],
   "source": [
    "int(3.7)"
   ]
  },
  {
   "cell_type": "markdown",
   "id": "c9bc9536-ca43-4760-9c90-cd90843759f9",
   "metadata": {},
   "source": [
    "And when combining strings and integers and conversions between, keep in mind the type you're working with when printing the output via `print()`."
   ]
  },
  {
   "cell_type": "code",
   "execution_count": 16,
   "id": "bb4b69bb-da13-4db8-8389-411d81a1df1b",
   "metadata": {},
   "outputs": [
    {
     "name": "stdout",
     "output_type": "stream",
     "text": [
      "42\n",
      "6\n"
     ]
    }
   ],
   "source": [
    "print('4' + '2')\n",
    "print(int('4') + int('2'))"
   ]
  },
  {
   "cell_type": "markdown",
   "id": "18b5631f-155c-4c07-bf22-664673eb7fa0",
   "metadata": {},
   "source": [
    "___"
   ]
  },
  {
   "cell_type": "markdown",
   "id": "85f4fd54-f086-4794-8992-31f6d236a412",
   "metadata": {},
   "source": [
    "## Conditional Operators\n",
    "\n",
    "Along with the good ol' arithmetic operators, machines also understand **conditional operators** which are used together to produce **conditional statements**.\n",
    "\n",
    "\"If you eat all your veggies, then you can have dessert.\" is a **conditional statement** of the *if-then* variety.\n",
    "\n",
    "The operators we'll use to create conditional statements are **relational operators**, **identity operators**, and **logical operators**.\n",
    "\n",
    "## Relational Operators\n",
    "\n",
    "Also called **comparison operators**, since **relational operators** are use to compare (or relate) two values/variables to one another. This could be testing if they are equal, if one is bigger than another, etc. The result of such an operation is either `True` or `False`, usually called a **Boolean** or *Bool* for short."
   ]
  },
  {
   "cell_type": "code",
   "execution_count": 18,
   "id": "714c0c58-4961-41f6-b4f1-7a4d8588772e",
   "metadata": {},
   "outputs": [
    {
     "data": {
      "text/plain": [
       "bool"
      ]
     },
     "execution_count": 18,
     "metadata": {},
     "output_type": "execute_result"
    }
   ],
   "source": [
    "type(True)"
   ]
  },
  {
   "cell_type": "code",
   "execution_count": 19,
   "id": "6a451478-dc94-460c-823b-e9c2b865eada",
   "metadata": {},
   "outputs": [
    {
     "data": {
      "text/plain": [
       "bool"
      ]
     },
     "execution_count": 19,
     "metadata": {},
     "output_type": "execute_result"
    }
   ],
   "source": [
    "type(False)"
   ]
  },
  {
   "cell_type": "markdown",
   "id": "78ee708c-be2e-4ffc-a532-0461e2f2000d",
   "metadata": {},
   "source": [
    "Every relational operator has an English equivalent you can use to read in place of the operator. See the table below.\n",
    "\n",
    "| **Python** | **English**                    |\n",
    "|:----------:|:------------------------------:|\n",
    "| `==`       | is equal to                    |\n",
    "| `!=`       | is not equal to                |\n",
    "| `>`        | is greater than                |\n",
    "| `<`        | is less than                   |\n",
    "| `>=`       | is greater than or equal to    |\n",
    "| `<=`       | is less than or equal to       |"
   ]
  },
  {
   "cell_type": "code",
   "execution_count": 20,
   "id": "0ce56aa2-7e35-4530-8a81-7c796620e3d2",
   "metadata": {},
   "outputs": [
    {
     "data": {
      "text/plain": [
       "True"
      ]
     },
     "execution_count": 20,
     "metadata": {},
     "output_type": "execute_result"
    }
   ],
   "source": [
    "num = 5\n",
    "num == 5"
   ]
  },
  {
   "cell_type": "code",
   "execution_count": 22,
   "id": "d8c30fcb-4911-45c4-9aaa-734297a5b957",
   "metadata": {},
   "outputs": [
    {
     "data": {
      "text/plain": [
       "False"
      ]
     },
     "execution_count": 22,
     "metadata": {},
     "output_type": "execute_result"
    }
   ],
   "source": [
    "5 < 4"
   ]
  },
  {
   "cell_type": "code",
   "execution_count": 23,
   "id": "9d72488c-f2d8-48c2-aabe-8856f2c7105c",
   "metadata": {},
   "outputs": [
    {
     "data": {
      "text/plain": [
       "True"
      ]
     },
     "execution_count": 23,
     "metadata": {},
     "output_type": "execute_result"
    }
   ],
   "source": [
    "-17 > -209"
   ]
  },
  {
   "cell_type": "code",
   "execution_count": 24,
   "id": "228f4523-5f49-4858-b44a-d88bc6f39f8a",
   "metadata": {},
   "outputs": [
    {
     "data": {
      "text/plain": [
       "True"
      ]
     },
     "execution_count": 24,
     "metadata": {},
     "output_type": "execute_result"
    }
   ],
   "source": [
    "-17 >= -209"
   ]
  },
  {
   "cell_type": "code",
   "execution_count": 25,
   "id": "4ed226c5-e656-4475-adc4-0e92e7c2fd9e",
   "metadata": {},
   "outputs": [
    {
     "data": {
      "text/plain": [
       "False"
      ]
     },
     "execution_count": 25,
     "metadata": {},
     "output_type": "execute_result"
    }
   ],
   "source": [
    "'JamesMaxwell' == 'James Maxwell'"
   ]
  },
  {
   "cell_type": "code",
   "execution_count": 28,
   "id": "5840bb7c-75bf-46b4-8854-87a500353eb6",
   "metadata": {},
   "outputs": [
    {
     "data": {
      "text/plain": [
       "True"
      ]
     },
     "execution_count": 28,
     "metadata": {},
     "output_type": "execute_result"
    }
   ],
   "source": [
    "'James' + 'Maxwell' != 'James Maxwell'"
   ]
  },
  {
   "cell_type": "markdown",
   "id": "c6aef187-0341-45aa-9d16-dd814bbcb57b",
   "metadata": {},
   "source": [
    "### Chaining relational operators\n",
    "\r\n",
    "Python allos thew chaining of relational operators For example, we can test if a variable is within a certain range (useful for error analysis):."
   ]
  },
  {
   "cell_type": "code",
   "execution_count": 29,
   "id": "fbe5d9c9-2b33-4806-8d68-c5d095f2091c",
   "metadata": {},
   "outputs": [
    {
     "data": {
      "text/plain": [
       "True"
      ]
     },
     "execution_count": 29,
     "metadata": {},
     "output_type": "execute_result"
    }
   ],
   "source": [
    "1 < 2 < 4.6 < 15"
   ]
  },
  {
   "cell_type": "code",
   "execution_count": 30,
   "id": "da5b587c-36fa-4845-b012-47d96a0ac101",
   "metadata": {},
   "outputs": [
    {
     "data": {
      "text/plain": [
       "False"
      ]
     },
     "execution_count": 30,
     "metadata": {},
     "output_type": "execute_result"
    }
   ],
   "source": [
    "1 < 2 < -4.6"
   ]
  },
  {
   "cell_type": "markdown",
   "id": "a1f8303f-bcaf-438d-9874-b3b761a46718",
   "metadata": {},
   "source": [
    "One thing I'd warn you away from is mixing relational operators, even if a mixture is \"legal\" and true."
   ]
  },
  {
   "cell_type": "code",
   "execution_count": 33,
   "id": "6cd6da81-194f-423a-bcff-81451c7a96ec",
   "metadata": {},
   "outputs": [
    {
     "data": {
      "text/plain": [
       "True"
      ]
     },
     "execution_count": 33,
     "metadata": {},
     "output_type": "execute_result"
    }
   ],
   "source": [
    "4 < 4.6 > 3"
   ]
  },
  {
   "cell_type": "markdown",
   "id": "6673e157-bdf2-4ef1-bc79-324fbe3d654e",
   "metadata": {},
   "source": [
    "___"
   ]
  },
  {
   "cell_type": "markdown",
   "id": "c5758058-51b6-4c4a-bb8f-61e818c06bd8",
   "metadata": {},
   "source": [
    "## Identity operators\n",
    "\r",
    "**\n",
    "Identity operator**s check to see if two variables occupy the same space in memory; i.e., the're actuallye the same object (we’llgo overt objectslater ong in the bootcamp). This i stricltys differentfromt the equality relational operato,` =`,, which checks to see if two variables have the same value\n",
    "\n",
    "| **Python** | **English** |\r\n",
    "|:---:|:---:|\r\n",
    "| ``is`` | is the same object |\r\n",
    "| ``is not`` | is not the same objec|  |  |  |\r\n",
    "."
   ]
  },
  {
   "cell_type": "code",
   "execution_count": 37,
   "id": "0e4991b8-f5ef-4772-839a-c3638eb29385",
   "metadata": {},
   "outputs": [
    {
     "data": {
      "text/plain": [
       "(True, False)"
      ]
     },
     "execution_count": 37,
     "metadata": {},
     "output_type": "execute_result"
    }
   ],
   "source": [
    "a = 4.2\n",
    "b = 4.2\n",
    "\n",
    "a == b, a is b"
   ]
  },
  {
   "cell_type": "markdown",
   "id": "a4114227-178e-4eb7-8b77-2163f9e7a521",
   "metadata": {},
   "source": [
    "Notice how `==` and ``is`` result in different Boolean values, despite `a` and `b` having the same value. This is because the variables `a` and `b` are different, so are saved in different points of memory.\n",
    "\n",
    "But what if we assign `b` to `a` directly?"
   ]
  },
  {
   "cell_type": "code",
   "execution_count": 38,
   "id": "9ba8bad1-0521-4e1f-8fb5-90ec7f0ca744",
   "metadata": {},
   "outputs": [
    {
     "data": {
      "text/plain": [
       "(True, True)"
      ]
     },
     "execution_count": 38,
     "metadata": {},
     "output_type": "execute_result"
    }
   ],
   "source": [
    "a = 4.2\n",
    "b = a\n",
    "\n",
    "a == b, a is b"
   ]
  },
  {
   "cell_type": "markdown",
   "id": "f887a7a4-7108-409c-8a20-7df175e36be5",
   "metadata": {},
   "source": [
    "There we are! In this case, `==` and ``is`` give the same result! This is because we didn't just assign `b` to the same value as `a`, we assigned `b` to `a`, full stop. This means `b` takes the same place in memory as `a`.\n",
    "\n",
    "What if we assign `b` to `a`, then change the value of `a`?"
   ]
  },
  {
   "cell_type": "code",
   "execution_count": 39,
   "id": "ffe3864a-500c-4498-983b-c23ee7380724",
   "metadata": {},
   "outputs": [
    {
     "data": {
      "text/plain": [
       "(False, False)"
      ]
     },
     "execution_count": 39,
     "metadata": {},
     "output_type": "execute_result"
    }
   ],
   "source": [
    "a = 4.2\n",
    "b = a\n",
    "a = 5.3\n",
    "\n",
    "a == b, a is b"
   ]
  },
  {
   "cell_type": "markdown",
   "id": "0f2b2c34-9a1a-46b7-bf16-074512355560",
   "metadata": {},
   "source": [
    "In this case, not only do `a` and `b` have different values, since we changed the value of `a` we also changed it's spot in memory. Thus, `b` no longer shares the placement of `a`.\n",
    "\n",
    "There are, of course, exceptions to the rules, namely *integers*. In Python, we have to be careful when comparing integers between `-5` and `256`. This is because the Python language uses something called **integer caching**, which means integer objects are cached internally and reused via the same referenced objects. This saves memory, but can lead to some problems."
   ]
  },
  {
   "cell_type": "code",
   "execution_count": 40,
   "id": "5836731e-81d3-4fac-a449-05895e134c35",
   "metadata": {},
   "outputs": [
    {
     "data": {
      "text/plain": [
       "(True, True)"
      ]
     },
     "execution_count": 40,
     "metadata": {},
     "output_type": "execute_result"
    }
   ],
   "source": [
    "a = 4\n",
    "b = 4\n",
    "\n",
    "a == b, a is b"
   ]
  },
  {
   "cell_type": "markdown",
   "id": "9a7ed91b-5085-464b-9731-ad243375cb62",
   "metadata": {},
   "source": [
    "Now, let's take a look at strings in this context."
   ]
  },
  {
   "cell_type": "code",
   "execution_count": 41,
   "id": "533f880f-294e-4e63-9104-4be53a734cca",
   "metadata": {},
   "outputs": [
    {
     "data": {
      "text/plain": [
       "(True, False)"
      ]
     },
     "execution_count": 41,
     "metadata": {},
     "output_type": "execute_result"
    }
   ],
   "source": [
    "a = 'hello world'\n",
    "b = 'hello world'\n",
    "\n",
    "a == b, a is b"
   ]
  },
  {
   "cell_type": "markdown",
   "id": "6c4c8542-eae0-4b5c-8046-6fd39f5d0a3a",
   "metadata": {},
   "source": [
    "As we saw in the case for `floats`, even though `a` and `b` have the same *value*, they don't have the same *location in memory*. Thus, they're different. Similarly to `floats`, assigning `b` to `a` changes that."
   ]
  },
  {
   "cell_type": "code",
   "execution_count": 42,
   "id": "b2c1dea7-cb6b-40ba-9d4d-bfc40945aba3",
   "metadata": {},
   "outputs": [
    {
     "data": {
      "text/plain": [
       "(True, True)"
      ]
     },
     "execution_count": 42,
     "metadata": {},
     "output_type": "execute_result"
    }
   ],
   "source": [
    "a = 'hello world'\n",
    "b = a\n",
    "\n",
    "a == b, a is b"
   ]
  },
  {
   "cell_type": "code",
   "execution_count": 43,
   "id": "6c6e94b4-256b-4e96-b0f8-cde177e39832",
   "metadata": {},
   "outputs": [
    {
     "data": {
      "text/plain": [
       "(True, True)"
      ]
     },
     "execution_count": 43,
     "metadata": {},
     "output_type": "execute_result"
    }
   ],
   "source": [
    "a = 'python'\n",
    "b = 'python'\n",
    "\n",
    "a == b, a is b"
   ]
  },
  {
   "cell_type": "markdown",
   "id": "65c01864-f8f2-4e0e-981e-32a50f4c69e0",
   "metadata": {},
   "source": [
    "As you can see from the above example, the rules don't always work the way you might expect them to. Again, this is because of a specific property of Python, called **string interning**, which means whether or not two strings occupy the same place in memory depends directly on what the strings are.\n",
    "\n",
    "Generally speaking, we don't need to worry too much about *caching* and *interning* for **immutable** variables. **Immutable** means that once the variables are created, their values cannot be changed. And, if their values are changed, the variables get a new placement in memory to keep them distinct. So far, all the data types (`ints`, `floats`, and `strs`) are immutable.\n",
    "\n",
    "___"
   ]
  },
  {
   "cell_type": "markdown",
   "id": "3c856fc5-a963-4887-ac76-bea046019ea7",
   "metadata": {},
   "source": [
    "## Logical Operators\n",
    "\n",
    "**Logical operators** can't be used in conjunction with the other operators, and, in Python, there are only three of them.\n",
    "\n",
    "| **Python** | **Logic** |\n",
    "|:---:|:---:|\n",
    "| `and` | AND |\n",
    "| `or` | OR |\n",
    "| `not` | NOT |\n",
    "\n",
    "The `and` operator means that if both operands are `True`, return `True`. The `o`r operator gives `True` if either of the operands are `True`. Finally, the `not` operator negates the logical result.\n",
    "\n",
    "To see this in action, execute the following code blocks, but try to predict the result before you hit `shift+enter`."
   ]
  },
  {
   "cell_type": "code",
   "execution_count": null,
   "id": "fb3a45bf-4f13-4aaf-9e0d-52b1e850842a",
   "metadata": {},
   "outputs": [],
   "source": [
    "True and True"
   ]
  },
  {
   "cell_type": "code",
   "execution_count": null,
   "id": "9d1b517a-21b8-4f2a-bfb3-b35c8a469a03",
   "metadata": {},
   "outputs": [],
   "source": [
    "True and False"
   ]
  },
  {
   "cell_type": "code",
   "execution_count": null,
   "id": "5a41aa6a-3ff6-4f21-baef-2c6e640b247d",
   "metadata": {},
   "outputs": [],
   "source": [
    "True or False"
   ]
  },
  {
   "cell_type": "code",
   "execution_count": null,
   "id": "5582d223-6747-4320-ab57-6a360987aa21",
   "metadata": {},
   "outputs": [],
   "source": [
    "not False and True"
   ]
  },
  {
   "cell_type": "code",
   "execution_count": null,
   "id": "1568199f-5f1a-421c-b217-4df9d6a27229",
   "metadata": {},
   "outputs": [],
   "source": [
    "not(False and True)"
   ]
  },
  {
   "cell_type": "code",
   "execution_count": null,
   "id": "dfd4a3d8-737a-4989-ac39-455542d5e2f4",
   "metadata": {},
   "outputs": [],
   "source": [
    "not False or True"
   ]
  },
  {
   "cell_type": "code",
   "execution_count": null,
   "id": "6209a9df-4749-4e7e-83d6-84ef5c17cd54",
   "metadata": {},
   "outputs": [],
   "source": [
    "not (False or True)"
   ]
  },
  {
   "cell_type": "code",
   "execution_count": null,
   "id": "4cd86163-992e-40d3-8d76-960ff21cee5c",
   "metadata": {},
   "outputs": [],
   "source": [
    "4 == 4 or 4.2 == 5.3"
   ]
  },
  {
   "cell_type": "code",
   "execution_count": null,
   "id": "26b08956-7c3c-4a82-a067-522eced5b492",
   "metadata": {},
   "outputs": [],
   "source": [
    "4 == 4 and 4.2 == 5.3"
   ]
  },
  {
   "cell_type": "markdown",
   "id": "0d1b07b1-3d52-40ac-a9aa-56d1aacf8204",
   "metadata": {},
   "source": [
    "### Numerical Values of `True` & `False`\n",
    "\n",
    "Even though these Boolean values output as strings, they are also associated with numerical values. And we can see this using some relational operators."
   ]
  },
  {
   "cell_type": "code",
   "execution_count": 44,
   "id": "742dcf12-9a4a-4805-99d4-8144dbdb17ef",
   "metadata": {},
   "outputs": [
    {
     "data": {
      "text/plain": [
       "True"
      ]
     },
     "execution_count": 44,
     "metadata": {},
     "output_type": "execute_result"
    }
   ],
   "source": [
    "True == 1"
   ]
  },
  {
   "cell_type": "code",
   "execution_count": 45,
   "id": "1f92c3a0-00f1-49b9-9afe-7d5d32646065",
   "metadata": {},
   "outputs": [
    {
     "data": {
      "text/plain": [
       "True"
      ]
     },
     "execution_count": 45,
     "metadata": {},
     "output_type": "execute_result"
    }
   ],
   "source": [
    "False == 0"
   ]
  },
  {
   "cell_type": "markdown",
   "id": "79ba3d54-6626-4369-aec3-1c8f80450811",
   "metadata": {},
   "source": [
    "This means we can do arithmetic operations on Boolean values! Hwoever, before you get too excited, there's an implicit type conversion, as you can see in the below example."
   ]
  },
  {
   "cell_type": "code",
   "execution_count": 48,
   "id": "dcc3c9d5-aea2-46fc-b96d-494a0563ddea",
   "metadata": {},
   "outputs": [
    {
     "data": {
      "text/plain": [
       "bool"
      ]
     },
     "execution_count": 48,
     "metadata": {},
     "output_type": "execute_result"
    }
   ],
   "source": [
    "type(True)"
   ]
  },
  {
   "cell_type": "code",
   "execution_count": 49,
   "id": "e45730aa-474d-4db9-8f0f-6daed4b927b8",
   "metadata": {},
   "outputs": [
    {
     "data": {
      "text/plain": [
       "(2, int)"
      ]
     },
     "execution_count": 49,
     "metadata": {},
     "output_type": "execute_result"
    }
   ],
   "source": [
    "True + True, type(True + True)"
   ]
  },
  {
   "cell_type": "markdown",
   "id": "4c4c02c0-5899-4494-846f-9a4235b345f0",
   "metadata": {},
   "source": [
    "## Conditionals\n",
    "\n",
    "Now that we've covered all the operators, we can talk more freely about conditional statements. **Conditionals** are used to tell a machine to do a set of instructions depending on whether or not a Boolean is `True`. At the very beginning of this lesson, we mentioned `if-then` conditionals, so let's return to that example."
   ]
  },
  {
   "cell_type": "code",
   "execution_count": null,
   "id": "698cc069-e68f-468c-a543-11e300a046e9",
   "metadata": {},
   "outputs": [],
   "source": [
    "if something is true:\n",
    "    do task(1)\n",
    "else:\n",
    "    do task(2)"
   ]
  },
  {
   "cell_type": "markdown",
   "id": "8eba6e6e-0eb7-4bce-91b7-65a01bd95d9a",
   "metadata": {},
   "source": [
    "> **Note:** This is not *exactly* proper Python code, so when executed it will return an error (go ahead and check for yourself). But it *is* close enough in general for study.\n",
    ">\n",
    "> For example: note the indentation of every other line. That is to signify that the indented line belongs to one results (`something is True`), while the next indented line belongs to the other possibility (`something is False`).\n",
    "\n",
    "In the case of the example above, there are only two possible routes: either `something is True` or `something is False`. But many times you want to be more flexible than that. That's where `if-ifelse` comes in handy, since you can include as many `ifelses` as you need."
   ]
  },
  {
   "cell_type": "code",
   "execution_count": null,
   "id": "1b88cdc3-6786-419f-8767-031fef5be2eb",
   "metadata": {},
   "outputs": [],
   "source": [
    "if something > 0:\n",
    "    do task(1)\n",
    "ifelse something < 0:\n",
    "    do task(2)\n",
    "ifelse something is 0:\n",
    "    do task(3)"
   ]
  },
  {
   "cell_type": "markdown",
   "id": "94b28282-5352-4492-aa5e-1476f4f960c2",
   "metadata": {},
   "source": [
    "You can also use `if-else` statements within other `if-else` statements. This is called **nesting**."
   ]
  },
  {
   "cell_type": "code",
   "execution_count": null,
   "id": "d61fcee1-bdc0-44db-9a01-340aee4c66af",
   "metadata": {},
   "outputs": [],
   "source": [
    "if something > 0:\n",
    "    do task(1)\n",
    "else:\n",
    "    if something < 0:\n",
    "        do task(2a)\n",
    "    else:\n",
    "        do task(2b)"
   ]
  },
  {
   "cell_type": "markdown",
   "id": "4d35f0a4-b043-4c3f-8891-b711c7c7715e",
   "metadata": {},
   "source": [
    "Please proceed to Assignment 2.\n",
    "\n",
    "___"
   ]
  }
 ],
 "metadata": {
  "kernelspec": {
   "display_name": "Python 3 (ipykernel)",
   "language": "python",
   "name": "python3"
  },
  "language_info": {
   "codemirror_mode": {
    "name": "ipython",
    "version": 3
   },
   "file_extension": ".py",
   "mimetype": "text/x-python",
   "name": "python",
   "nbconvert_exporter": "python",
   "pygments_lexer": "ipython3",
   "version": "3.11.4"
  }
 },
 "nbformat": 4,
 "nbformat_minor": 5
}
