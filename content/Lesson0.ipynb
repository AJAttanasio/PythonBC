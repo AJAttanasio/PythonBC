{
 "cells": [
  {
   "cell_type": "markdown",
   "id": "7c6531ac",
   "metadata": {},
   "source": [
    "# Lesson 0: Welcome to the Python Bootcamp\n",
    "***\n",
    "\n",
    "## Greetings!\n",
    "Welcome to the UNM Python Bootcamp! Think of this as a really quick and dirty introduction to programming, using Python as the programming language. We'll cover \n",
    "- Variables and arithmetic operations \n",
    "- Data types and how to manipulating them\n",
    "- Logical operators and control flow (conditional statements)\n",
    "- Lists and loops \n",
    "- Functions and files \n",
    "- Modules, dictionaries, and classes \n",
    "- Types of programming\n",
    "- GUI via Turtle (if there's time)\n",
    "\n",
    "This bootcamp will only last one month, so let's get into it!\n",
    "\n",
    "## Introduction to Jupyter Notebooks\n",
    "\n",
    "First things first, we need to make sure you understand how this camp will work. We'll be using JupyterLab in order to play around with Python 3. There's several different ways to do this, including onein which you don't need to install anything, just use JupyterLite running Pyodide from your Chrome browser. But the main way I'll illustrate here is to install Python 3 to your computer, then use the command line to install Jupiter Notebooks.\n",
    "\n",
    "Visit <https://www.python.org/> and hover over the tab labeled \"Downloads\". The suggested version for your operating system should come up first, so click that. If not, navigate to your operating system, then the latest version of Python (Python 3 recommended) listed. When at all possible, download the \"installer\" so you don't have to build it yourself (that activity is outside the scope of this class).\n",
    "\n",
    "It might take a bit to install, but once it's done, bring up your command terminal (for Windows search \"command prompt\" after pressing the Windows key). Type in\n",
    "\n",
    "`pip install jupyter`\n",
    "\n",
    "and hit enter. Wait until that's done.\n",
    "\n",
    "Finally, type into your command terminal\n",
    "\n",
    "`jupyter notebook`\n",
    "\n",
    "to open up the JupiterNotebook environment. From there you can open up a new notebook to begin with, or you can open up a lesson notebook for this course and get started. ;)\n",
    "\n",
    "***\n",
    "\n",
    "> **Note:** This \"Lesson 0\" acts as a \"Getting Started\" guide for the UNM Python Bootcamp.\n",
    "> \n",
    "> Once setup is complete, please proceed to \"Lesson 1\"."
   ]
  },
  {
   "cell_type": "code",
   "execution_count": null,
   "id": "a1280fe1",
   "metadata": {},
   "outputs": [],
   "source": []
  }
 ],
 "metadata": {
  "kernelspec": {
   "display_name": "Python 3 (ipykernel)",
   "language": "python",
   "name": "python3"
  },
  "language_info": {
   "codemirror_mode": {
    "name": "ipython",
    "version": 3
   },
   "file_extension": ".py",
   "mimetype": "text/x-python",
   "name": "python",
   "nbconvert_exporter": "python",
   "pygments_lexer": "ipython3",
   "version": "3.11.3"
  }
 },
 "nbformat": 4,
 "nbformat_minor": 5
}
