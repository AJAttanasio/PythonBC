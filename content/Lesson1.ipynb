{
 "cells": [
  {
   "cell_type": "markdown",
   "id": "90802e66-1bc0-45e8-8425-a74b7d635036",
   "metadata": {},
   "source": [
    "# Lesson 1: Hello World\n",
    "***"
   ]
  },
  {
   "cell_type": "markdown",
   "id": "8d841df3-18d3-4350-9f60-6ad22244e7e0",
   "metadata": {},
   "source": [
    "## Python, a Programming Language\n",
    "\n",
    "### Python\n",
    "\n",
    "Python is a programming language. Like other languages, it gives us a way to communicate ideas. In the case of a programming language, these ideas are “commands” that people use to communicate specifically with a computer.\n",
    "\n",
    "We convey our commands to the computer by writing them in a text file using a programming language (**.py** extension). These files are called *programs* or *scripts*. Running a program means telling a computer to read the file, translate it to the set of operations that it understands, and perform those actions.\n",
    "\n",
    "### Interpreted Language\n",
    "\n",
    "Python is an *interpreted language*, which means that each line of code you write is translated, or *interpreted*, into a set of instructions that your machine can understand by the Python interpreter. This stands in contrast to compiled languages. For these languages (Fortran, C, C++, etc.), your entire code is translated into machine language before you ever run it. When you execute your program, it is already in machine language.\n",
    "\n",
    "So, whenever you want to actually run your Python code, you give it to the Python interpreter first.\n",
    "\n",
    "There are many ways to launch the Python interpreter. One way is to type into a command terminal\n",
    "\n",
    "`python`\n",
    "\n",
    "This launches the basic Python interpreter (if you installed Python 3, this is what you'll do to use it). We won't really this in the bootcamp, but instead JupyterLite via browser or JupyterLab's console.\n",
    "\n",
    "***"
   ]
  },
  {
   "cell_type": "markdown",
   "id": "61643231-7547-41d3-a1cc-eb7da2f7c947",
   "metadata": {},
   "source": [
    "## Hello world.\n",
    "\n",
    "Traditionally, the first program anyone writes when learning a new language is called `Hello world.` In this program, the words “Hello world.” are printed on the screen. The original `Hello world.` was likely written by *Brian Kernighan*, one of the inventors of Unix, and the author of the classic and authoritative book on the C programming language.\n",
    "\n",
    "We'll first write and run this little program using a JupyterLab console or JupyterLite in browser. After launching JupyterLab, you probably already have the Launcher in your JupyterLab window. If not, you can expand the Files tab at the left of your JupyterLab window (if it is not already expanded) by clicking on that tab, or alternatively hit `ctrl+b` (or `cmd+b` on MacOS). At the top of the Files tab is a `+` sign, which gives you a Jupyter Launcher.\n",
    "\n",
    "Once in the Jupyter Launcher, click the Python 3 icon under Console. This will launch a console, which has a large white space above a prompt that reads `In []:`. This is called a *code block* or a *cell* in JupyterLabs. You can enter Python code into this block, and it will be executed.\n",
    "\n",
    "To print `Hello world.`, enter the code\n",
    "\n",
    "`print('Hello, world.')`\n",
    "\n",
    "below in the code box (usually denoted as a grayed-out or gray-outlined box of text). To execute the code, hit `shift+enter` or click the \"play\" triangle symbol located along the bar at the top of the editor."
   ]
  },
  {
   "cell_type": "code",
   "execution_count": null,
   "id": "33e55781-a471-4935-a589-3dadc6812786",
   "metadata": {},
   "outputs": [],
   "source": [
    "print('Hello, world.')"
   ]
  },
  {
   "cell_type": "markdown",
   "id": "507322d3-2ea0-432a-b5eb-40fb4f9556d8",
   "metadata": {},
   "source": [
    "Notice the additional text below the line of code. This is called an *output* and is the result of executed code. If this extra text reads \"Hello, world.\", congratulations! You did it! Well done.\n",
    "\n",
    "The `print()` used in the code line above is called a **function**, and it is pre-built into Python. Words inside single quotations are outputted exactly as written from the `print()` function.\n",
    "\n",
    "---"
   ]
  },
  {
   "cell_type": "markdown",
   "id": "918bc44f-4ffa-49c6-ba45-2742b0bf1262",
   "metadata": {},
   "source": [
    "## Preliminaries\n",
    "\n",
    "Before we let you run off into the sunset with your firm understanding of `print()`, there's a few more things we have to cover. Then you can write your very own script.\n",
    "\n",
    "### Comments\n",
    "\n",
    "Sometimes you may want to leave a note for yourself (or future programmers) within your code. Maybe you need to remember to add a line later on, or maybe what you're doing is complicated and needs a human-readable explanantion. Either way, what you need to use is a line of text that the machine won't interpret and try to execute: a **comment**.\n",
    "\n",
    "> A **comment** is a piece of text within a program that is not executed. It can be used to provide additional information to aid in understanding the code. The `#` character is used to start a comment and it continues until the end of the line.\n",
    ">\n",
    "> Comments can be in line after/before code or on their own line."
   ]
  },
  {
   "cell_type": "code",
   "execution_count": null,
   "id": "ac4da116-56bf-4815-a4de-8e321ce87005",
   "metadata": {},
   "outputs": [],
   "source": [
    "print('This is an in-line comment.') # This is just a print function"
   ]
  },
  {
   "cell_type": "code",
   "execution_count": null,
   "id": "ff09f086-a577-4b15-b6ae-f7eeed26fbca",
   "metadata": {},
   "outputs": [],
   "source": [
    "# This is just a print function\n",
    "print('This is a separate comment line.')"
   ]
  },
  {
   "cell_type": "markdown",
   "id": "b652c704-e4ba-4e29-9aaf-0c45a7bd291d",
   "metadata": {},
   "source": [
    "### Variables\n",
    "\n",
    "A variable is used to store data that will be used by the program or script. This data can be a number, a string, a Boolean, a list or some other data type (there's lots of data types, which we'll review later). Every variable needs a name assigned to it to keep track ot it. This name can consist of letters, numbers, and the underscore character `_`. The equal sign `=` is used to assign a value to a variable. After the initial assignment is made, the value of a variable can be updated to new values as needed."
   ]
  },
  {
   "cell_type": "code",
   "execution_count": 2,
   "id": "9ed219b3-63c6-4691-8339-15c77399c039",
   "metadata": {},
   "outputs": [],
   "source": [
    "age = 19"
   ]
  },
  {
   "cell_type": "markdown",
   "id": "0c4d1b28-9d8a-4fc0-8b27-49a09a8cbd91",
   "metadata": {},
   "source": [
    "In the example above, the variable `age` has been assigned the value `19`. For all intents and purposes, `age` is the exact same thing as `19` now."
   ]
  },
  {
   "cell_type": "markdown",
   "id": "1b6417fe-b567-49ed-b0e1-3f56caf5a049",
   "metadata": {},
   "source": [
    "### Arithmetic Operations\n",
    "\n",
    "Python supports a variety of arithmetic operations. These are the primary arithmetic operations you may remember from grade school: \n",
    "- `+` for addition\n",
    "- `-` for subtraction\n",
    "- `*` for multiplication\n",
    "- `/` for division\n",
    "- `%` for modulus (returns the remainder)\n",
    "- `**` for exponentiation\n",
    "\n",
    "And like the regular ol' arithmetic operations from grade school, they can be performed on actual numbers `1`, `17`, `-39`, variables `x`, `age`, `solution`, or a combination of both."
   ]
  },
  {
   "cell_type": "code",
   "execution_count": null,
   "id": "6382fdc2-f77a-4359-9ca7-d9edc47d84a2",
   "metadata": {},
   "outputs": [],
   "source": [
    "# my sibling was born in 2000, and I am 3 years older than them\n",
    "sibling_age = 2023 - 2000\n",
    "my_age = sibling_age + 3"
   ]
  },
  {
   "cell_type": "markdown",
   "id": "329a4b34-ea6c-49cf-9710-b9be32c0d413",
   "metadata": {},
   "source": [
    "### Integers & Floats\n",
    "\n",
    "As an additional note to arithmetic operators, let's talk briefly about integers. An **integer** is a number that can be written without a fractional part (no decimal). An integer can be a positive number, a negative number or the number `0` so long as there is no decimal portion.\n",
    "\n",
    "The number `0` represents an integer value but the same number written as `0.0` would represent a **floating point number** or **floats**. Even though we can agree zero is zero, these are different representations of zero, and both are useful depending upon what we want to do.\n",
    "\n",
    "#### Floating Point Error\n",
    "\n",
    "How many digits of `pi` can you hold in your head? You know, that number...\n",
    "\n",
    "`pi = 3.141592657...`\n",
    "\n",
    "Well, just like you, computers can only hold so much information at any one moment. And, for arithmetic operations, any inaccuracy in this held information (call it the machine's *working memory* or **random-access memory, RAM**) results in an error in calculated floating point numbers, denoted *floating point error*. We won't get into this too much during this bootcamp, but it's good to keep in mind."
   ]
  },
  {
   "cell_type": "markdown",
   "id": "28d239fe-03f2-4c4b-a9d2-7316e6cfe1e2",
   "metadata": {},
   "source": [
    "### Strings\n",
    "\n",
    "And finally, let's take a look at strings. A **string** is a data type composed of a sequence of characters (letters, numbers, whitespace or punctuation) enclosed by quotation marks, can be either double quotation mark `\"` or single quotation mark `'`.\n",
    "\n",
    "If a string has to be broken into multiple lines, the backslash character `\\` can be used to indicate that the string continues on the next line."
   ]
  },
  {
   "cell_type": "code",
   "execution_count": 4,
   "id": "7c3bc070-df30-49e9-aefc-7f0d73e9a4b8",
   "metadata": {},
   "outputs": [],
   "source": [
    "# examples of string formatting\n",
    "user = \"Full Name Here\"\n",
    "life_stage = 'young adult'\n",
    "\n",
    "sentence = \"This string is a lot longer, so it must \\ be broken several times to be \\ more easily read.\"\n",
    "\n",
    "print(sentence)"
   ]
  },
  {
   "cell_type": "markdown",
   "id": "3c7a7722-51da-4633-ba93-014dacae6e11",
   "metadata": {},
   "source": [
    "> **Note:** You can use `print()` in combination with a string by excluding any quotations within `print()` that would normally be present.\n",
    "\n",
    "Please proceed to Assignment 1.\n",
    "___"
   ]
  }
 ],
 "metadata": {
  "kernelspec": {
   "display_name": "Python 3 (ipykernel)",
   "language": "python",
   "name": "python3"
  },
  "language_info": {
   "codemirror_mode": {
    "name": "ipython",
    "version": 3
   },
   "file_extension": ".py",
   "mimetype": "text/x-python",
   "name": "python",
   "nbconvert_exporter": "python",
   "pygments_lexer": "ipython3",
   "version": "3.11.4"
  }
 },
 "nbformat": 4,
 "nbformat_minor": 5
}
