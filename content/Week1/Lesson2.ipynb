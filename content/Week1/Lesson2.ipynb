{
 "cells": [
  {
   "cell_type": "markdown",
   "id": "333c40bd-e038-46c2-a937-4b0c437b10af",
   "metadata": {},
   "source": [
    "# Lesson 2: More Operators and Some Conditionals\n",
    "\n",
    "___"
   ]
  },
  {
   "cell_type": "markdown",
   "id": "7bfb79d3-c288-4689-ad67-f29e3c077552",
   "metadata": {},
   "source": [
    "In this lesson, we cover quite a lot of ground, so buckle up.\n",
    "\n",
    "## Assigning & Changing Variables\n",
    "We've talked a bit about *variables*, but the real power in variables is that that are variable, changeable. But so far we've mentioned variables in a static sense. So how do we change variables.\n",
    "\n",
    "Let's start by directly changing it exactly how we want to:"
   ]
  },
  {
   "cell_type": "code",
   "execution_count": 1,
   "id": "d2f05249-9bb3-4d8a-9f9c-3fc1199b5839",
   "metadata": {},
   "outputs": [
    {
     "name": "stdout",
     "output_type": "stream",
     "text": [
      "<class 'int'> 2\n"
     ]
    }
   ],
   "source": [
    "num = 0 # this is an initiallization of the variable num (0 is a good starting point in general)\n",
    "num = 2\n",
    "print(type(num),num)"
   ]
  },
  {
   "cell_type": "code",
   "execution_count": 2,
   "id": "4c6bca90-2a7e-4a5b-a4ef-5eb2df3839a1",
   "metadata": {},
   "outputs": [
    {
     "name": "stdout",
     "output_type": "stream",
     "text": [
      "<class 'float'> 3.5\n",
      "3.5\n"
     ]
    },
    {
     "data": {
      "text/plain": [
       "3.5"
      ]
     },
     "execution_count": 2,
     "metadata": {},
     "output_type": "execute_result"
    }
   ],
   "source": [
    "num = num + 1.5 # this changes num, increasing it by a fixed amount 1.5. this should also change the type of num\n",
    "print(type(num),num)\n",
    "print(num)\n",
    "num"
   ]
  },
  {
   "cell_type": "markdown",
   "id": "fb87c231-3429-4873-a81b-fea6d652373a",
   "metadata": {},
   "source": [
    "Hmmm, yes, nice. So, we can change the value of variables after assigning them. Now what? Well, now let's talk about *increment operators*.\n",
    "\n",
    "## Increment Operators\n",
    "\n",
    "An increment operator updates the value of a variable whenever called (exectued)."
   ]
  },
  {
   "cell_type": "code",
   "execution_count": 3,
   "id": "1ae82aa5-918d-4533-8a95-1012c4e207ce",
   "metadata": {},
   "outputs": [
    {
     "data": {
      "text/plain": [
       "6.1"
      ]
     },
     "execution_count": 3,
     "metadata": {},
     "output_type": "execute_result"
    }
   ],
   "source": [
    "x = 2\n",
    "x += 4.1     # x = x + 4.1\n",
    "x"
   ]
  },
  {
   "cell_type": "code",
   "execution_count": 4,
   "id": "ea7d99be-6dd5-4f59-abcf-ad7ea251907a",
   "metadata": {},
   "outputs": [
    {
     "ename": "NameError",
     "evalue": "name 'a' is not defined",
     "output_type": "error",
     "traceback": [
      "\u001b[1;31m---------------------------------------------------------------------------\u001b[0m",
      "\u001b[1;31mNameError\u001b[0m                                 Traceback (most recent call last)",
      "Cell \u001b[1;32mIn[4], line 1\u001b[0m\n\u001b[1;32m----> 1\u001b[0m \u001b[43ma\u001b[49m \u001b[38;5;66;03m# variable a hasn't been defined\u001b[39;00m\n",
      "\u001b[1;31mNameError\u001b[0m: name 'a' is not defined"
     ]
    }
   ],
   "source": [
    "a # variable a hasn't been defined"
   ]
  },
  {
   "cell_type": "markdown",
   "id": "cc6921ff-7640-48b6-883f-f025080ff38f",
   "metadata": {},
   "source": [
    "> **Note:** In order to directly outpute the value of any variable without calling the `print()` function, just type the variable at the end of your script/program and it will be outputted at the end of execution."
   ]
  },
  {
   "cell_type": "markdown",
   "id": "b203c760-1e1b-48ba-821c-09f74d6e8b9f",
   "metadata": {},
   "source": [
    "Basically, what's going on here is that we told the machine what `x` was, then told it to update `x`. And we can do this as many times as we like, which will be useful when we need to keep track of things."
   ]
  },
  {
   "cell_type": "code",
   "execution_count": 5,
   "id": "f7da431f-f13a-40b9-9c23-adc05f9846cf",
   "metadata": {},
   "outputs": [
    {
     "data": {
      "text/plain": [
       "6"
      ]
     },
     "execution_count": 5,
     "metadata": {},
     "output_type": "execute_result"
    }
   ],
   "source": [
    "x = 0 # initializing the variable x to be 0\n",
    "x += 1 # x=1\n",
    "x += 1 # x=2\n",
    "x += 1 # x=3\n",
    "x += 1 # x=4\n",
    "x += 1 # x=5\n",
    "x += 1 # x=6\n",
    "x"
   ]
  },
  {
   "cell_type": "markdown",
   "id": "619e977d-8cb2-46d0-af37-476ee27ce47e",
   "metadata": {},
   "source": [
    "## Type Conversion\n",
    "\n",
    "Suppose you have a variable of one type, and you want to convert it to another. For example, say you have a string, `\"42\"`, and you want to convert it to an integer. This would happen if you were reading information from a text file, which by definition is full of strings, and you wanted to convert some string to a number. You would use something like the following code:"
   ]
  },
  {
   "cell_type": "code",
   "execution_count": 6,
   "id": "a3ce4458-33c8-4ca1-a25d-149aaa3809e3",
   "metadata": {},
   "outputs": [
    {
     "data": {
      "text/plain": [
       "str"
      ]
     },
     "execution_count": 6,
     "metadata": {},
     "output_type": "execute_result"
    }
   ],
   "source": [
    "num_str = \"42\"\n",
    "type(num_str)"
   ]
  },
  {
   "cell_type": "code",
   "execution_count": 7,
   "id": "a557a4a9-6f6a-4e5f-9e2a-54ec477b88b5",
   "metadata": {},
   "outputs": [
    {
     "name": "stdout",
     "output_type": "stream",
     "text": [
      "42 <class 'int'>\n"
     ]
    }
   ],
   "source": [
    "num = int(num_str)\n",
    "print(num, type(num))"
   ]
  },
  {
   "cell_type": "code",
   "execution_count": 8,
   "id": "0898ecd4-3e16-47c7-bfd7-793ef1d769bd",
   "metadata": {},
   "outputs": [
    {
     "ename": "ValueError",
     "evalue": "invalid literal for int() with base 10: '3g'",
     "output_type": "error",
     "traceback": [
      "\u001b[1;31m---------------------------------------------------------------------------\u001b[0m",
      "\u001b[1;31mValueError\u001b[0m                                Traceback (most recent call last)",
      "Cell \u001b[1;32mIn[8], line 2\u001b[0m\n\u001b[0;32m      1\u001b[0m num_not \u001b[38;5;241m=\u001b[39m \u001b[38;5;124m\"\u001b[39m\u001b[38;5;124m3g\u001b[39m\u001b[38;5;124m\"\u001b[39m\n\u001b[1;32m----> 2\u001b[0m numN \u001b[38;5;241m=\u001b[39m \u001b[38;5;28;43mint\u001b[39;49m\u001b[43m(\u001b[49m\u001b[43mnum_not\u001b[49m\u001b[43m)\u001b[49m\n",
      "\u001b[1;31mValueError\u001b[0m: invalid literal for int() with base 10: '3g'"
     ]
    }
   ],
   "source": [
    "num_not = \"3g\"\n",
    "numN = int(num_not)"
   ]
  },
  {
   "cell_type": "markdown",
   "id": "202b9fc7-2f3d-43c4-95a4-0206fa4942c2",
   "metadata": {},
   "source": [
    "Simiarly, we can convert from `int` back to `str`:"
   ]
  },
  {
   "cell_type": "code",
   "execution_count": 9,
   "id": "dee78b81-715e-4400-a698-675e8b192063",
   "metadata": {},
   "outputs": [
    {
     "data": {
      "text/plain": [
       "'42'"
      ]
     },
     "execution_count": 9,
     "metadata": {},
     "output_type": "execute_result"
    }
   ],
   "source": [
    "str(num)"
   ]
  },
  {
   "cell_type": "markdown",
   "id": "d03850ff-1f65-4d4c-8a92-814a3cb3b9a8",
   "metadata": {},
   "source": [
    "Keep in mind that while `float` to `int` conversion is possible, a machine doesn't understand the concept of rounding as a human does. Way back in grade school, you were taught to round up and down. By default, a machine *always* rounds down:"
   ]
  },
  {
   "cell_type": "code",
   "execution_count": 10,
   "id": "35bdd18b-d934-40da-907b-9885a2a352ff",
   "metadata": {},
   "outputs": [
    {
     "data": {
      "text/plain": [
       "3"
      ]
     },
     "execution_count": 10,
     "metadata": {},
     "output_type": "execute_result"
    }
   ],
   "source": [
    "int(3.7)"
   ]
  },
  {
   "cell_type": "markdown",
   "id": "c9bc9536-ca43-4760-9c90-cd90843759f9",
   "metadata": {},
   "source": [
    "And when combining strings and integers and conversions between, keep in mind the type you're working with when printing the output via `print()`."
   ]
  },
  {
   "cell_type": "code",
   "execution_count": 11,
   "id": "bb4b69bb-da13-4db8-8389-411d81a1df1b",
   "metadata": {},
   "outputs": [
    {
     "name": "stdout",
     "output_type": "stream",
     "text": [
      "42\n",
      "6\n"
     ]
    }
   ],
   "source": [
    "print('4' + '2') # two strings being added\n",
    "print(int('4') + int('2')) # two numbers being added"
   ]
  },
  {
   "cell_type": "code",
   "execution_count": 12,
   "id": "ff63cdf8-0961-490a-9250-a01c145d5398",
   "metadata": {},
   "outputs": [
    {
     "name": "stdout",
     "output_type": "stream",
     "text": [
      "<class 'str'> <class 'int'>\n"
     ]
    }
   ],
   "source": [
    "numA = '4' + '2'\n",
    "numB = 4 + 2\n",
    "\n",
    "print(type(numA),type(numB))"
   ]
  },
  {
   "cell_type": "markdown",
   "id": "18b5631f-155c-4c07-bf22-664673eb7fa0",
   "metadata": {},
   "source": [
    "___"
   ]
  },
  {
   "cell_type": "markdown",
   "id": "85f4fd54-f086-4794-8992-31f6d236a412",
   "metadata": {},
   "source": [
    "## Conditional Operators\n",
    "\n",
    "Along with the good ol' arithmetic operators, machines also understand **conditional operators** which are used together to produce **conditional statements**.\n",
    "\n",
    "\"If you eat all your veggies, then you can have dessert.\" is a **conditional statement** of the *if-then* variety.\n",
    "\n",
    "The operators we'll use to create conditional statements are **relational operators**, **identity operators**, and **logical operators**.\n",
    "\n",
    "## Relational Operators\n",
    "\n",
    "Also called **comparison operators**, since **relational operators** are use to compare (or relate) two values/variables to one another. This could be testing if they are equal, if one is bigger than another, etc. The result of such an operation is either `True` or `False`, usually called a **Boolean** or *Bool* for short."
   ]
  },
  {
   "cell_type": "code",
   "execution_count": 13,
   "id": "714c0c58-4961-41f6-b4f1-7a4d8588772e",
   "metadata": {},
   "outputs": [
    {
     "data": {
      "text/plain": [
       "bool"
      ]
     },
     "execution_count": 13,
     "metadata": {},
     "output_type": "execute_result"
    }
   ],
   "source": [
    "type(True)"
   ]
  },
  {
   "cell_type": "code",
   "execution_count": 14,
   "id": "6a451478-dc94-460c-823b-e9c2b865eada",
   "metadata": {},
   "outputs": [
    {
     "data": {
      "text/plain": [
       "bool"
      ]
     },
     "execution_count": 14,
     "metadata": {},
     "output_type": "execute_result"
    }
   ],
   "source": [
    "type(False)"
   ]
  },
  {
   "cell_type": "markdown",
   "id": "78ee708c-be2e-4ffc-a532-0461e2f2000d",
   "metadata": {},
   "source": [
    "Every relational operator has an English equivalent you can use to read in place of the operator. See the table below.\n",
    "\n",
    "| **Python** | **English**                    |\n",
    "|:----------:|:------------------------------:|\n",
    "| `==`       | is equal to                    |\n",
    "| `!=`       | is not equal to                |\n",
    "| `>`        | is greater than                |\n",
    "| `<`        | is less than                   |\n",
    "| `>=`       | is greater than or equal to    |\n",
    "| `<=`       | is less than or equal to       |"
   ]
  },
  {
   "cell_type": "code",
   "execution_count": 15,
   "id": "0ce56aa2-7e35-4530-8a81-7c796620e3d2",
   "metadata": {},
   "outputs": [
    {
     "data": {
      "text/plain": [
       "True"
      ]
     },
     "execution_count": 15,
     "metadata": {},
     "output_type": "execute_result"
    }
   ],
   "source": [
    "num = 5 # num is set to 5\n",
    "num == 5 # \"is num equal to 5?\""
   ]
  },
  {
   "cell_type": "code",
   "execution_count": 16,
   "id": "2d8cb27e-c829-4068-bcde-0da185ae62ef",
   "metadata": {},
   "outputs": [
    {
     "data": {
      "text/plain": [
       "False"
      ]
     },
     "execution_count": 16,
     "metadata": {},
     "output_type": "execute_result"
    }
   ],
   "source": [
    "num == 4"
   ]
  },
  {
   "cell_type": "code",
   "execution_count": 17,
   "id": "d8c30fcb-4911-45c4-9aaa-734297a5b957",
   "metadata": {},
   "outputs": [
    {
     "data": {
      "text/plain": [
       "False"
      ]
     },
     "execution_count": 17,
     "metadata": {},
     "output_type": "execute_result"
    }
   ],
   "source": [
    "5 < 4"
   ]
  },
  {
   "cell_type": "code",
   "execution_count": 18,
   "id": "9d72488c-f2d8-48c2-aabe-8856f2c7105c",
   "metadata": {},
   "outputs": [
    {
     "data": {
      "text/plain": [
       "True"
      ]
     },
     "execution_count": 18,
     "metadata": {},
     "output_type": "execute_result"
    }
   ],
   "source": [
    "-17 > -209"
   ]
  },
  {
   "cell_type": "code",
   "execution_count": 19,
   "id": "228f4523-5f49-4858-b44a-d88bc6f39f8a",
   "metadata": {},
   "outputs": [
    {
     "data": {
      "text/plain": [
       "True"
      ]
     },
     "execution_count": 19,
     "metadata": {},
     "output_type": "execute_result"
    }
   ],
   "source": [
    "-17 >= -209"
   ]
  },
  {
   "cell_type": "code",
   "execution_count": 20,
   "id": "4ed226c5-e656-4475-adc4-0e92e7c2fd9e",
   "metadata": {},
   "outputs": [
    {
     "data": {
      "text/plain": [
       "False"
      ]
     },
     "execution_count": 20,
     "metadata": {},
     "output_type": "execute_result"
    }
   ],
   "source": [
    "'JamesMaxwell' == 'James Maxwell'"
   ]
  },
  {
   "cell_type": "code",
   "execution_count": 21,
   "id": "5840bb7c-75bf-46b4-8854-87a500353eb6",
   "metadata": {},
   "outputs": [
    {
     "data": {
      "text/plain": [
       "False"
      ]
     },
     "execution_count": 21,
     "metadata": {},
     "output_type": "execute_result"
    }
   ],
   "source": [
    "'James ' + 'Maxwell' != 'James Maxwell' # is blank NOT equal to Blank"
   ]
  },
  {
   "cell_type": "markdown",
   "id": "c6aef187-0341-45aa-9d16-dd814bbcb57b",
   "metadata": {},
   "source": [
    "### Chaining relational operators\n",
    "\r\n",
    "Python allos thew chaining of relational operators For example, we can test if a variable is within a certain range (useful for error analysis):."
   ]
  },
  {
   "cell_type": "code",
   "execution_count": 22,
   "id": "fbe5d9c9-2b33-4806-8d68-c5d095f2091c",
   "metadata": {},
   "outputs": [
    {
     "data": {
      "text/plain": [
       "True"
      ]
     },
     "execution_count": 22,
     "metadata": {},
     "output_type": "execute_result"
    }
   ],
   "source": [
    "1 < 2 < 4.6 < 15"
   ]
  },
  {
   "cell_type": "code",
   "execution_count": 23,
   "id": "da5b587c-36fa-4845-b012-47d96a0ac101",
   "metadata": {},
   "outputs": [
    {
     "data": {
      "text/plain": [
       "False"
      ]
     },
     "execution_count": 23,
     "metadata": {},
     "output_type": "execute_result"
    }
   ],
   "source": [
    "1 < 2 < -4.6"
   ]
  },
  {
   "cell_type": "markdown",
   "id": "a1f8303f-bcaf-438d-9874-b3b761a46718",
   "metadata": {},
   "source": [
    "One thing I'd warn you away from is mixing relational operators, even if a mixture is \"legal\" and true."
   ]
  },
  {
   "cell_type": "code",
   "execution_count": 24,
   "id": "6cd6da81-194f-423a-bcff-81451c7a96ec",
   "metadata": {},
   "outputs": [
    {
     "data": {
      "text/plain": [
       "True"
      ]
     },
     "execution_count": 24,
     "metadata": {},
     "output_type": "execute_result"
    }
   ],
   "source": [
    "4 < 4.6 > 3"
   ]
  },
  {
   "cell_type": "markdown",
   "id": "6673e157-bdf2-4ef1-bc79-324fbe3d654e",
   "metadata": {},
   "source": [
    "___"
   ]
  },
  {
   "cell_type": "markdown",
   "id": "c5758058-51b6-4c4a-bb8f-61e818c06bd8",
   "metadata": {},
   "source": [
    "## Identity operators\n",
    "\r",
    "**Identity operator**s check to see if two variables occupy the same space in memory; i.e., the're actually the same object (we’ll go over objects later on in the bootcamp). This is stricltys different from the equality relational operato,`=`, which checks to see if two variables have the same value\n",
    "\n",
    "| **Python** | **English** |\r\n",
    "|:---:|:---:|\r\n",
    "| ``is`` | is the same object |\r\n",
    "| ``is not`` | is not the same obtjec|  |  |  |\r\n",
    "."
   ]
  },
  {
   "cell_type": "code",
   "execution_count": 25,
   "id": "0e4991b8-f5ef-4772-839a-c3638eb29385",
   "metadata": {},
   "outputs": [
    {
     "data": {
      "text/plain": [
       "(True, False)"
      ]
     },
     "execution_count": 25,
     "metadata": {},
     "output_type": "execute_result"
    }
   ],
   "source": [
    "a = 4.2\n",
    "b = 4.2\n",
    "\n",
    "a == b, a is b"
   ]
  },
  {
   "cell_type": "markdown",
   "id": "a4114227-178e-4eb7-8b77-2163f9e7a521",
   "metadata": {},
   "source": [
    "Notice how `==` and ``is`` result in different Boolean values, despite `a` and `b` having the same value. This is because the variables `a` and `b` are different, so are saved in different points of memory.\n",
    "\n",
    "But what if we assign `b` to `a` directly?"
   ]
  },
  {
   "cell_type": "code",
   "execution_count": 26,
   "id": "9ba8bad1-0521-4e1f-8fb5-90ec7f0ca744",
   "metadata": {},
   "outputs": [
    {
     "data": {
      "text/plain": [
       "(True, True)"
      ]
     },
     "execution_count": 26,
     "metadata": {},
     "output_type": "execute_result"
    }
   ],
   "source": [
    "a = 4.2\n",
    "b = a\n",
    "\n",
    "a == b, a is b"
   ]
  },
  {
   "cell_type": "markdown",
   "id": "f887a7a4-7108-409c-8a20-7df175e36be5",
   "metadata": {},
   "source": [
    "There we are! In this case, `==` and ``is`` give the same result! This is because we didn't just assign `b` to the same value as `a`, we assigned `b` to `a`, full stop. This means `b` takes the same place in memory as `a`.\n",
    "\n",
    "What if we assign `b` to `a`, then change the value of `a`?"
   ]
  },
  {
   "cell_type": "code",
   "execution_count": 27,
   "id": "ffe3864a-500c-4498-983b-c23ee7380724",
   "metadata": {},
   "outputs": [
    {
     "data": {
      "text/plain": [
       "(False, False, False)"
      ]
     },
     "execution_count": 27,
     "metadata": {},
     "output_type": "execute_result"
    }
   ],
   "source": [
    "a = 4.2\n",
    "b = a\n",
    "a = 5.3\n",
    "\n",
    "a == b, a is b, b is a"
   ]
  },
  {
   "cell_type": "markdown",
   "id": "0f2b2c34-9a1a-46b7-bf16-074512355560",
   "metadata": {},
   "source": [
    "In this case, not only do `a` and `b` have different values, since we changed the value of `a` we also changed it's spot in memory. Thus, `b` no longer shares the placement of `a`.\n",
    "\n",
    "There are, of course, exceptions to the rules, namely *integers*. In Python, we have to be careful when comparing integers between `-5` and `256`. This is because the Python language uses something called **integer caching**, which means integer objects are cached internally and reused via the same referenced objects. This saves memory, but can lead to some problems."
   ]
  },
  {
   "cell_type": "code",
   "execution_count": 28,
   "id": "5836731e-81d3-4fac-a449-05895e134c35",
   "metadata": {},
   "outputs": [
    {
     "data": {
      "text/plain": [
       "(True, True)"
      ]
     },
     "execution_count": 28,
     "metadata": {},
     "output_type": "execute_result"
    }
   ],
   "source": [
    "a = 4\n",
    "b = 4\n",
    "\n",
    "a == b, a is b"
   ]
  },
  {
   "cell_type": "code",
   "execution_count": 29,
   "id": "5b6ce012-0c00-4db6-b6e7-23c118bd003b",
   "metadata": {},
   "outputs": [
    {
     "data": {
      "text/plain": [
       "int"
      ]
     },
     "execution_count": 29,
     "metadata": {},
     "output_type": "execute_result"
    }
   ],
   "source": [
    "type(333)"
   ]
  },
  {
   "cell_type": "code",
   "execution_count": 30,
   "id": "3ccdafdf-5535-4633-81f6-c7cf792cb077",
   "metadata": {},
   "outputs": [
    {
     "data": {
      "text/plain": [
       "(True, False)"
      ]
     },
     "execution_count": 30,
     "metadata": {},
     "output_type": "execute_result"
    }
   ],
   "source": [
    "a = 333\n",
    "b = 333\n",
    "\n",
    "a == b, a is b"
   ]
  },
  {
   "cell_type": "markdown",
   "id": "9a7ed91b-5085-464b-9731-ad243375cb62",
   "metadata": {},
   "source": [
    "Now, let's take a look at strings in this context."
   ]
  },
  {
   "cell_type": "code",
   "execution_count": 31,
   "id": "533f880f-294e-4e63-9104-4be53a734cca",
   "metadata": {},
   "outputs": [
    {
     "data": {
      "text/plain": [
       "(True, False)"
      ]
     },
     "execution_count": 31,
     "metadata": {},
     "output_type": "execute_result"
    }
   ],
   "source": [
    "a = 'hello world'\n",
    "b = 'hello world'\n",
    "\n",
    "a == b, a is b"
   ]
  },
  {
   "cell_type": "markdown",
   "id": "6c4c8542-eae0-4b5c-8046-6fd39f5d0a3a",
   "metadata": {},
   "source": [
    "As we saw in the case for `floats`, even though `a` and `b` have the same *value*, they don't have the same *location in memory*. Thus, they're different. Similarly to `floats`, assigning `b` to `a` changes that."
   ]
  },
  {
   "cell_type": "code",
   "execution_count": 32,
   "id": "b2c1dea7-cb6b-40ba-9d4d-bfc40945aba3",
   "metadata": {},
   "outputs": [
    {
     "data": {
      "text/plain": [
       "(True, True)"
      ]
     },
     "execution_count": 32,
     "metadata": {},
     "output_type": "execute_result"
    }
   ],
   "source": [
    "a = 'hello world'\n",
    "b = a\n",
    "\n",
    "a == b, a is b"
   ]
  },
  {
   "cell_type": "code",
   "execution_count": 33,
   "id": "6c6e94b4-256b-4e96-b0f8-cde177e39832",
   "metadata": {},
   "outputs": [
    {
     "data": {
      "text/plain": [
       "(True, True)"
      ]
     },
     "execution_count": 33,
     "metadata": {},
     "output_type": "execute_result"
    }
   ],
   "source": [
    "a = 'python'\n",
    "b = 'python'\n",
    "\n",
    "a == b, a is b"
   ]
  },
  {
   "cell_type": "markdown",
   "id": "65c01864-f8f2-4e0e-981e-32a50f4c69e0",
   "metadata": {},
   "source": [
    "As you can see from the above example, the rules don't always work the way you might expect them to. Again, this is because of a specific property of Python, called **string interning**, which means whether or not two strings occupy the same place in memory depends directly on what the strings are.\n",
    "\n",
    "Generally speaking, we don't need to worry too much about *caching* and *interning* for **immutable** variables. **Immutable** means that once the variables are created, their values cannot be changed. And, if their values are changed, the variables get a new placement in memory to keep them distinct. So far, all the data types (`ints`, `floats`, and `strs`) are immutable.\n",
    "\n",
    "___"
   ]
  },
  {
   "cell_type": "markdown",
   "id": "3c856fc5-a963-4887-ac76-bea046019ea7",
   "metadata": {},
   "source": [
    "## Logical Operators\n",
    "\n",
    "**Logical operators** can't be used in conjunction with the other operators, and, in Python, there are only three of them.\n",
    "\n",
    "| **Python** | **Logic** |\n",
    "|:---:|:---:|\n",
    "| `and` | AND |\n",
    "| `or` | OR |\n",
    "| `not` | NOT |\n",
    "\n",
    "The `and` operator means that if both operands are `True`, return `True`. The `o`r operator gives `True` if either of the operands are `True`. Finally, the `not` operator negates the logical result.\n",
    "\n",
    "To see this in action, execute the following code blocks, but try to predict the result before you hit `shift+enter`."
   ]
  },
  {
   "cell_type": "code",
   "execution_count": null,
   "id": "c935f01f-2e84-45a5-b071-5ec01947d792",
   "metadata": {},
   "outputs": [],
   "source": [
    "True and True"
   ]
  },
  {
   "cell_type": "code",
   "execution_count": null,
   "id": "f29f8bd9-e99f-40d2-b121-ee34aadcdc27",
   "metadata": {},
   "outputs": [],
   "source": [
    "True and False"
   ]
  },
  {
   "cell_type": "code",
   "execution_count": null,
   "id": "d63ac2c7-50fc-44a4-b6d6-3141a5a767a4",
   "metadata": {},
   "outputs": [],
   "source": [
    "False and False"
   ]
  },
  {
   "cell_type": "code",
   "execution_count": null,
   "id": "01d2e64f-58ab-498f-b82d-d4df3e54896b",
   "metadata": {},
   "outputs": [],
   "source": [
    "True or False"
   ]
  },
  {
   "cell_type": "code",
   "execution_count": null,
   "id": "03c9636a-2dc5-44bf-a2a4-911574c58d90",
   "metadata": {},
   "outputs": [],
   "source": [
    "not False and True # True and True"
   ]
  },
  {
   "cell_type": "code",
   "execution_count": null,
   "id": "f95bd2bc-740e-4f04-9591-ef0a9963cef1",
   "metadata": {},
   "outputs": [],
   "source": [
    "not(False and True) # not the same as \"not False and not True\""
   ]
  },
  {
   "cell_type": "code",
   "execution_count": null,
   "id": "4399c2dd-aea6-44bf-92d7-a088601cc807",
   "metadata": {},
   "outputs": [],
   "source": [
    "not False and not True # True and False"
   ]
  },
  {
   "cell_type": "code",
   "execution_count": null,
   "id": "e0e89bdf-e053-429e-83e9-ce0862536f64",
   "metadata": {},
   "outputs": [],
   "source": [
    "not False or True # True or True"
   ]
  },
  {
   "cell_type": "code",
   "execution_count": null,
   "id": "6c8ad62d-97b1-4d31-b9cb-2a751b01db35",
   "metadata": {},
   "outputs": [],
   "source": [
    "not(False or True) # not(True)"
   ]
  },
  {
   "cell_type": "code",
   "execution_count": null,
   "id": "7c4ef682-9d47-468e-996b-38cb2e5a5c8b",
   "metadata": {},
   "outputs": [],
   "source": [
    "4 == 4 or 4.2 == 5.3 # True or False"
   ]
  },
  {
   "cell_type": "code",
   "execution_count": null,
   "id": "6130a591-5817-49b1-9653-6f752e5698f0",
   "metadata": {},
   "outputs": [],
   "source": [
    "4 == 4 and 4.2 == 5.3 # True and False"
   ]
  },
  {
   "cell_type": "markdown",
   "id": "0d1b07b1-3d52-40ac-a9aa-56d1aacf8204",
   "metadata": {},
   "source": [
    "### Numerical Values of `True` & `False`\n",
    "\n",
    "Even though these Boolean values output as strings, they are also associated with numerical values. And we can see this using some relational operators."
   ]
  },
  {
   "cell_type": "code",
   "execution_count": 34,
   "id": "742dcf12-9a4a-4805-99d4-8144dbdb17ef",
   "metadata": {},
   "outputs": [
    {
     "data": {
      "text/plain": [
       "True"
      ]
     },
     "execution_count": 34,
     "metadata": {},
     "output_type": "execute_result"
    }
   ],
   "source": [
    "True == 1"
   ]
  },
  {
   "cell_type": "code",
   "execution_count": 35,
   "id": "1f92c3a0-00f1-49b9-9afe-7d5d32646065",
   "metadata": {},
   "outputs": [
    {
     "data": {
      "text/plain": [
       "True"
      ]
     },
     "execution_count": 35,
     "metadata": {},
     "output_type": "execute_result"
    }
   ],
   "source": [
    "False == 0"
   ]
  },
  {
   "cell_type": "markdown",
   "id": "79ba3d54-6626-4369-aec3-1c8f80450811",
   "metadata": {},
   "source": [
    "This means we can do arithmetic operations on Boolean values! However, before you get too excited, there's an implicit type conversion, as you can see in the below example."
   ]
  },
  {
   "cell_type": "code",
   "execution_count": 36,
   "id": "dcc3c9d5-aea2-46fc-b96d-494a0563ddea",
   "metadata": {},
   "outputs": [
    {
     "data": {
      "text/plain": [
       "bool"
      ]
     },
     "execution_count": 36,
     "metadata": {},
     "output_type": "execute_result"
    }
   ],
   "source": [
    "type(True)"
   ]
  },
  {
   "cell_type": "code",
   "execution_count": 37,
   "id": "e45730aa-474d-4db9-8f0f-6daed4b927b8",
   "metadata": {},
   "outputs": [
    {
     "data": {
      "text/plain": [
       "(2, int)"
      ]
     },
     "execution_count": 37,
     "metadata": {},
     "output_type": "execute_result"
    }
   ],
   "source": [
    "True + True, type(True + True)"
   ]
  },
  {
   "cell_type": "markdown",
   "id": "4c4c02c0-5899-4494-846f-9a4235b345f0",
   "metadata": {},
   "source": [
    "## Conditionals\n",
    "\n",
    "Now that we've covered all the operators, we can talk more freely about conditional statements. **Conditionals** are used to tell a machine to do a set of instructions depending on whether or not a Boolean is `True`. At the very beginning of this lesson, we mentioned `if-then` conditionals, so let's return to that example."
   ]
  },
  {
   "cell_type": "code",
   "execution_count": 38,
   "id": "698cc069-e68f-468c-a543-11e300a046e9",
   "metadata": {},
   "outputs": [
    {
     "ename": "SyntaxError",
     "evalue": "invalid syntax (3099909013.py, line 2)",
     "output_type": "error",
     "traceback": [
      "\u001b[1;36m  Cell \u001b[1;32mIn[38], line 2\u001b[1;36m\u001b[0m\n\u001b[1;33m    do task(1)\u001b[0m\n\u001b[1;37m       ^\u001b[0m\n\u001b[1;31mSyntaxError\u001b[0m\u001b[1;31m:\u001b[0m invalid syntax\n"
     ]
    }
   ],
   "source": [
    "if something is true:\n",
    "    do task(1)\n",
    "else:\n",
    "    do task(2)"
   ]
  },
  {
   "cell_type": "markdown",
   "id": "11a499a6-05a7-46b9-b53c-a9956c5d206b",
   "metadata": {},
   "source": [
    "> **Note:** This is not *exactly* proper Python code, so when executed it will return an error (go ahead and check for yourself and see the note below). But it *is* close enough in general for study.\n",
    ">\n",
    "> For example: note the indentation of every other line. That is to signify that the indented line belongs to one results (`something is True`), while the next indented line belongs to the other possibility (`something is False`).\n",
    "> > **SyntaxError:** A `SyntaxError` is reported by the Python interpreter when some portion of the code is incorrect. This can include misspelled keywords, missing or too many brackets or parentheses, incorrect operators, missing or too many quotation marks, or other conditions."
   ]
  },
  {
   "cell_type": "markdown",
   "id": "6ee644c6-e4f7-4111-a303-eeedd486b271",
   "metadata": {},
   "source": [
    "### `if` Statement\n",
    "\n",
    "Let's have a few more formal definitions. The Python `if` statement is used to determine the execution of code based on the evaluation of a Boolean expression.\n",
    "\n",
    "If the `if` statement expression evaluates to `True`, then the indented code following the statement is execute .\n",
    "If the expression evaluates to `False` then the indented code following the `if` statement is skipped and the program executes the next line of code which is indented at the same level as the `if` statement.\n",
    "\n",
    "### `else` Statement\n",
    "\n",
    "The Python `else` statement provides alternate code to execute if the expression in a previous `if` statement evaluates to `False`. The indented code for the `if` statement is executed if the expression evaluates to `True`. The indented code immediately following the `else` is executed only if the expression evaluates to `False`. To mark the end of the `else` block, the code must be unindented to the same level as the starting `if` line.\n",
    "\n",
    "In the case of the example above, there are only two possible routes: either `something is True` or `something is False`. But many times you want to be more flexible than that. That's where `if-elif` comes in handy, since you can include as many `elifs` as you need.\n",
    "\n",
    "### `elif` Statement\n",
    "\n",
    "The Python `elif` statement allows for continued checks to be performed after an initial `if` statement. An `elif` statement differs from the `else` statement because another expression is provided to be checked, just as with the initial `if` statement.\n",
    "\n",
    "If the expression is `True`, the indented code following the `elif` is executed. If the expression evaluates to `False`, the code can continue to an optional `else` statement. Multiple `elif` statements can be used following an initial `if` to perform a series of checks. Once an `elif` expression evaluates to `True`, no further `elif` statements are executed."
   ]
  },
  {
   "cell_type": "code",
   "execution_count": null,
   "id": "b7936d11-544d-4088-a10d-eb1a6f123431",
   "metadata": {},
   "outputs": [],
   "source": [
    "if something > 0:\n",
    "    do task(1)\n",
    "elif something < 0:\n",
    "    do task(2)\n",
    "elif something is 0:\n",
    "    do task(3)"
   ]
  },
  {
   "cell_type": "markdown",
   "id": "8e64fa88-13bd-41fe-878a-b02b251b809d",
   "metadata": {},
   "source": [
    "You can also use `if-else` statements within other `if-else` statements. This is called **nesting**."
   ]
  },
  {
   "cell_type": "code",
   "execution_count": null,
   "id": "d61fcee1-bdc0-44db-9a01-340aee4c66af",
   "metadata": {},
   "outputs": [],
   "source": [
    "if something > 0:\n",
    "    do task(1)\n",
    "else:\n",
    "    if something < 0:\n",
    "        do task(2a)\n",
    "    else:\n",
    "        do task(2b)"
   ]
  },
  {
   "cell_type": "markdown",
   "id": "4d35f0a4-b043-4c3f-8891-b711c7c7715e",
   "metadata": {},
   "source": [
    "Please proceed to Assignment 2.\n",
    "\n",
    "___"
   ]
  }
 ],
 "metadata": {
  "kernelspec": {
   "display_name": "Python 3 (ipykernel)",
   "language": "python",
   "name": "python3"
  },
  "language_info": {
   "codemirror_mode": {
    "name": "ipython",
    "version": 3
   },
   "file_extension": ".py",
   "mimetype": "text/x-python",
   "name": "python",
   "nbconvert_exporter": "python",
   "pygments_lexer": "ipython3",
   "version": "3.12.0"
  }
 },
 "nbformat": 4,
 "nbformat_minor": 5
}
