{
 "cells": [
  {
   "cell_type": "markdown",
   "id": "c4cbe722-786c-4803-901e-41ded93e0d72",
   "metadata": {},
   "source": [
    "# Assignment 2\n",
    "\n",
    "All assignments *must* be submitted as a JupyterLab `.ipynb` notebook file via email (aattanasio@unm.edu). Title the file with your name: `Assignment_NAME.ipynb`.\n",
    "\n",
    "___"
   ]
  },
  {
   "cell_type": "markdown",
   "id": "df204d5f-b7df-43b6-b1f7-2ead9905d747",
   "metadata": {},
   "source": [
    "Using what you've learned in the first week of bootcamp, generate a time stamp of the form `13:29:45` (for nearly half past one in the afternoon) for the time that is 63,252 seconds after midnight. Start with this statement:"
   ]
  },
  {
   "cell_type": "code",
   "execution_count": null,
   "id": "336ba3ae-8f83-488e-8060-4ea8936c87d4",
   "metadata": {},
   "outputs": [],
   "source": [
    "seconds_past_midnight = 63252"
   ]
  },
  {
   "cell_type": "markdown",
   "id": "722574ec-d70b-49e4-8bd5-faa847d9e062",
   "metadata": {},
   "source": [
    "> **Hint:** The only numeric keys you should need or want to push are `0`, `2` or `3`, and `6`. However, this doesn't exclude operations.\n",
    "\n",
    "Feel free to create as many code blocks as you feel you need. Comment appropriately to describe what your program does at each step.\n",
    "___"
   ]
  },
  {
   "cell_type": "code",
   "execution_count": null,
   "id": "74b6888e-a8e2-4ac6-a981-1c94ebf5037c",
   "metadata": {},
   "outputs": [],
   "source": [
    "# NAME_OF_YOUR_SCRIPT.py"
   ]
  },
  {
   "cell_type": "code",
   "execution_count": null,
   "id": "899b1394-2c27-4b3c-8141-f21263339866",
   "metadata": {},
   "outputs": [],
   "source": []
  },
  {
   "cell_type": "code",
   "execution_count": null,
   "id": "76cc8838-ee3a-4651-8afc-cb32414a8989",
   "metadata": {},
   "outputs": [],
   "source": []
  },
  {
   "cell_type": "code",
   "execution_count": null,
   "id": "7719a7c2-5e69-45c7-8c5a-76cd19f66829",
   "metadata": {},
   "outputs": [],
   "source": []
  }
 ],
 "metadata": {
  "kernelspec": {
   "display_name": "Python 3 (ipykernel)",
   "language": "python",
   "name": "python3"
  },
  "language_info": {
   "codemirror_mode": {
    "name": "ipython",
    "version": 3
   },
   "file_extension": ".py",
   "mimetype": "text/x-python",
   "name": "python",
   "nbconvert_exporter": "python",
   "pygments_lexer": "ipython3",
   "version": "3.12.0"
  }
 },
 "nbformat": 4,
 "nbformat_minor": 5
}
