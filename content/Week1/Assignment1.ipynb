{
 "cells": [
  {
   "cell_type": "markdown",
   "id": "f71aef44-5caf-40ab-96e6-065ad7117d32",
   "metadata": {},
   "source": [
    "# Assignment 1\n",
    "\n",
    "All assignments *must* be submitted as a JupyterLab `.ipynb` notebook file via email (aattanasio@unm.edu). Title the file with your name: `Assignment#_NAME.ipynb`.\n",
    "\n",
    "___"
   ]
  },
  {
   "cell_type": "markdown",
   "id": "381ac666-3d03-4a48-8d3a-56696caa22de",
   "metadata": {},
   "source": [
    "## String Concatenation\n",
    "\n",
    "One last note before you're released to write your program: Python supports the joining or *concatenation* of strings together using the `+` operator. While the `+` operator is also used for mathematical addition operations, if the parameters passed to the `+` operator are strings, then concatenation will be performed. If the parameter passed to `+` have different types, then Python will report an error condition. Multiple variables or literal strings can be joined together using the `+` operator."
   ]
  },
  {
   "cell_type": "code",
   "execution_count": 2,
   "id": "b781d74a-e127-4aea-a6e1-7b8da467fe30",
   "metadata": {},
   "outputs": [
    {
     "name": "stdout",
     "output_type": "stream",
     "text": [
      "Hello World\n",
      "Hello World!\n"
     ]
    }
   ],
   "source": [
    "# combining strings through concatenation\n",
    "\n",
    "first = \"Hello \"\n",
    "second = \"World\"\n",
    "\n",
    "combo = first + second\n",
    "sentence = first + second + \"!\"\n",
    "\n",
    "print(combo)\n",
    "print(sentence)"
   ]
  },
  {
   "cell_type": "markdown",
   "id": "d47c21a5-b796-44e8-acaa-63bed9ced77f",
   "metadata": {},
   "source": [
    "Using the code blocks below (feel free to create as many as you need), write a program that saves several variables:\n",
    "- Your name (string)\n",
    "- Your age (number, either integer or float, your choice)\n",
    "- one fun fact you'd like to share (long string)\n",
    "\n",
    "Then print a sentence containing each of those variables as an output using the `print()` function.\n",
    "___"
   ]
  },
  {
   "cell_type": "code",
   "execution_count": null,
   "id": "8b6c5929-8eaa-4f4c-95ef-b2ab97faec03",
   "metadata": {},
   "outputs": [],
   "source": [
    "# NAME_OF_YOUR_SCRIPT.py"
   ]
  },
  {
   "cell_type": "code",
   "execution_count": null,
   "id": "2c1ac888-b058-44b4-8691-4824fab254c1",
   "metadata": {},
   "outputs": [],
   "source": []
  },
  {
   "cell_type": "code",
   "execution_count": null,
   "id": "d5485bbd-fab4-495b-a16d-d7fe27d43c8f",
   "metadata": {},
   "outputs": [],
   "source": []
  },
  {
   "cell_type": "code",
   "execution_count": null,
   "id": "20ea6c15-509a-4bc5-9218-439a3341f08c",
   "metadata": {},
   "outputs": [],
   "source": []
  }
 ],
 "metadata": {
  "kernelspec": {
   "display_name": "Python 3 (ipykernel)",
   "language": "python",
   "name": "python3"
  },
  "language_info": {
   "codemirror_mode": {
    "name": "ipython",
    "version": 3
   },
   "file_extension": ".py",
   "mimetype": "text/x-python",
   "name": "python",
   "nbconvert_exporter": "python",
   "pygments_lexer": "ipython3",
   "version": "3.12.0"
  }
 },
 "nbformat": 4,
 "nbformat_minor": 5
}
