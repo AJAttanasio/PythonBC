{
 "cells": [
  {
   "cell_type": "markdown",
   "id": "90802e66-1bc0-45e8-8425-a74b7d635036",
   "metadata": {},
   "source": [
    "# Lesson 1: Hello World\n",
    "***"
   ]
  },
  {
   "cell_type": "markdown",
   "id": "8d841df3-18d3-4350-9f60-6ad22244e7e0",
   "metadata": {},
   "source": [
    "## Python, a Programming Language\n",
    "\n",
    "### Python\n",
    "\n",
    "Python is a programming language. Like other languages, it gives us a way to communicate ideas. In the case of a programming language, these ideas are “commands” that people use to communicate specifically with a computer.\n",
    "\n",
    "We convey our commands to the computer by writing them in a text file using a programming language (**.py** extension). These files are called *programs* or *scripts*. Running a program means telling a computer to read the file, translate it to the set of operations that it understands, and perform those actions.\n",
    "\n",
    "### Interpreted Language\n",
    "\n",
    "Python is an *interpreted language*, which means that each line of code you write is translated, or *interpreted*, into a set of instructions that your machine can understand by the Python interpreter. This stands in contrast to compiled languages. For these languages (Fortran, C, C++, etc.), your entire code is translated into machine language before you ever run it. When you execute your program, it is already in machine language.\n",
    "\n",
    "So, whenever you want to actually run your Python code, you give it to the Python interpreter first.\n",
    "\n",
    "There are many ways to launch the Python interpreter. One way is to type into a command terminal\n",
    "\n",
    "`python`\n",
    "\n",
    "This launches the basic Python interpreter (if you installed Python 3, this is what you'll do to use it). We won't really this in the bootcamp, but instead JupyterLite via browser or JupyterLab's console.\n",
    "\n",
    "***"
   ]
  },
  {
   "cell_type": "markdown",
   "id": "61643231-7547-41d3-a1cc-eb7da2f7c947",
   "metadata": {},
   "source": [
    "## Hello world.\n",
    "\n",
    "Traditionally, the first program anyone writes when learning a new language is called `Hello world.` In this program, the words “Hello world.” are printed on the screen. The original `Hello world.` was likely written by *Brian Kernighan*, one of the inventors of Unix, and the author of the classic and authoritative book on the C programming language.\n",
    "\n",
    "We'll first write and run this little program using a JupyterLab console or JupyterLite in browser. After launching JupyterLab, you probably already have the Launcher in your JupyterLab window. If not, you can expand the Files tab at the left of your JupyterLab window (if it is not already expanded) by clicking on that tab, or alternatively hit `ctrl+b` (or `cmd+b` on MacOS). At the top of the Files tab is a `+` sign, which gives you a Jupyter Launcher.\n",
    "\n",
    "Once in the Jupyter Launcher, click the Python 3 icon under Console. This will launch a console, which has a large white space above a prompt that reads `In []:`. This is called a *code block* or a *cell* in JupyterLabs. You can enter Python code into this block, and it will be executed.\n",
    "\n",
    "To print `Hello world.`, enter the code\n",
    "\n",
    "`print('Hello, world.')`\n",
    "\n",
    "below in the code box (usually denoted as a grayed-out or gray-outlined box of text). To execute the code, hit `shift+enter` or click the \"play\" triangle symbol located along the bar at the top of the editor."
   ]
  },
  {
   "cell_type": "code",
   "execution_count": 1,
   "id": "33e55781-a471-4935-a589-3dadc6812786",
   "metadata": {},
   "outputs": [
    {
     "name": "stdout",
     "output_type": "stream",
     "text": [
      "Hello, world.\n"
     ]
    }
   ],
   "source": [
    "print('Hello, world.')"
   ]
  },
  {
   "cell_type": "markdown",
   "id": "507322d3-2ea0-432a-b5eb-40fb4f9556d8",
   "metadata": {},
   "source": [
    "Notice the additional text below the line of code. This is called an *output* and is the result of executed code. If this extra text reads \"Hello, world.\", congratulations! You did it! Well done.\n",
    "\n",
    "The `print()` used in the code line above is called a **function**, and it is pre-built into Python. Words inside single quotations are outputted exactly as written from the `print()` function.\n",
    "\n",
    "---"
   ]
  },
  {
   "cell_type": "markdown",
   "id": "918bc44f-4ffa-49c6-ba45-2742b0bf1262",
   "metadata": {},
   "source": [
    "## Preliminaries\n",
    "\n",
    "Before we let you run off into the sunset with your firm understanding of `print()`, there's a few more things we have to cover. Then you can write your very own script.\n",
    "\n",
    "### Comments\n",
    "\n",
    "Sometimes you may want to leave a note for yourself (or future programmers) within your code. Maybe you need to remember to add a line later on, or maybe what you're doing is complicated and needs a human-readable explanantion. Either way, what you need to use is a line of text that the machine won't interpret and try to execute: a **comment**.\n",
    "\n",
    "> A **comment** is a piece of text within a program that is not executed. It can be used to provide additional information to aid in understanding the code. The `#` character is used to start a comment and it continues until the end of the line.\n",
    ">\n",
    "> Comments can be in line after/before code or on their own line."
   ]
  },
  {
   "cell_type": "code",
   "execution_count": 2,
   "id": "ac4da116-56bf-4815-a4de-8e321ce87005",
   "metadata": {},
   "outputs": [
    {
     "name": "stdout",
     "output_type": "stream",
     "text": [
      "This is an in-line comment.\n"
     ]
    }
   ],
   "source": [
    "print('This is an in-line comment.') # This is just a print function"
   ]
  },
  {
   "cell_type": "code",
   "execution_count": 3,
   "id": "ff09f086-a577-4b15-b6ae-f7eeed26fbca",
   "metadata": {},
   "outputs": [
    {
     "name": "stdout",
     "output_type": "stream",
     "text": [
      "This is a separate comment line.\n"
     ]
    }
   ],
   "source": [
    "# This is just a print function\n",
    "print('This is a separate comment line.')"
   ]
  },
  {
   "cell_type": "markdown",
   "id": "b652c704-e4ba-4e29-9aaf-0c45a7bd291d",
   "metadata": {},
   "source": [
    "### Variables\n",
    "\n",
    "Whether you are programming in Python or pretty much any other language, you will be working with **variables**. While the precise definition of a variable will vary from language to language, the focus here is on Python variables. However, like many of the concepts in this bootcamp, the knowledge you gain about Python variables will translate to other languages fairly well, if not one-to-one.\n",
    "\n",
    "A **variable** is used to store data that will be used by the program or script. This data can be a number, a string, a Boolean, a list or some other data type (there's lots of data types, which we'll review later). Every variable needs a name assigned to it to keep track ot it. This name can consist of letters, numbers, and the underscore character `_`. The equal sign `=` is used to assign a value to a variable. After the initial assignment is made, the value of a variable can be updated to new values as needed.\n",
    "\n",
    "> **Note:** As an aside, in Python variables are **objects**. In fact, everything in Python is an object. But more on that later.\n",
    "\n",
    "So, a variable has two properties: a *type* and a *value*."
   ]
  },
  {
   "cell_type": "code",
   "execution_count": 4,
   "id": "9ed219b3-63c6-4691-8339-15c77399c039",
   "metadata": {},
   "outputs": [],
   "source": [
    "age = 19"
   ]
  },
  {
   "cell_type": "markdown",
   "id": "0c4d1b28-9d8a-4fc0-8b27-49a09a8cbd91",
   "metadata": {},
   "source": [
    "In the example above, the variable `age` has been assigned or *instantiated* (initially assigned) to the value `19`, which is the data type 'integer'. To do this, we used the `=` character as an *assignment operator*.\n",
    "\n",
    "For all intents and purposes, `age` is the exact same thing as `19` now. If you're not sure what type of variable you're working with, use the `type()` function in Python."
   ]
  },
  {
   "cell_type": "code",
   "execution_count": 5,
   "id": "229979d6-0588-4bb3-9674-d97135bdb422",
   "metadata": {},
   "outputs": [
    {
     "data": {
      "text/plain": [
       "int"
      ]
     },
     "execution_count": 5,
     "metadata": {},
     "output_type": "execute_result"
    }
   ],
   "source": [
    "type(age)"
   ]
  },
  {
   "cell_type": "code",
   "execution_count": 6,
   "id": "59e7224c-939a-4744-9232-61ee5b431778",
   "metadata": {},
   "outputs": [
    {
     "data": {
      "text/plain": [
       "int"
      ]
     },
     "execution_count": 6,
     "metadata": {},
     "output_type": "execute_result"
    }
   ],
   "source": [
    "type(4)"
   ]
  },
  {
   "cell_type": "code",
   "execution_count": 7,
   "id": "285c8982-5561-470e-9a05-8caba5f8b856",
   "metadata": {},
   "outputs": [
    {
     "data": {
      "text/plain": [
       "float"
      ]
     },
     "execution_count": 7,
     "metadata": {},
     "output_type": "execute_result"
    }
   ],
   "source": [
    "type(-6.79)"
   ]
  },
  {
   "cell_type": "code",
   "execution_count": 8,
   "id": "82881229-652b-403a-94cc-d37faa5713b1",
   "metadata": {},
   "outputs": [
    {
     "data": {
      "text/plain": [
       "str"
      ]
     },
     "execution_count": 8,
     "metadata": {},
     "output_type": "execute_result"
    }
   ],
   "source": [
    "type(\"Hello world.\")"
   ]
  },
  {
   "cell_type": "markdown",
   "id": "c636e7be-edf1-4356-822b-4e650f710364",
   "metadata": {},
   "source": [
    "For the above examples, `type()` tells us that `4` is an `int` (integer number), `-6.79` is a `float` (short for \"floating point number\", which basically translates to \"a real number that isn't an integer\"), and `Hello world.` is a `str` (short for \"string\").\n",
    "\n",
    "> **Note:** If you want a number to appear as a string, all you need to do is put it inside a pair of quotations."
   ]
  },
  {
   "cell_type": "code",
   "execution_count": 9,
   "id": "fbd46b89-8f72-4d60-b451-fa90aaf99d2e",
   "metadata": {},
   "outputs": [
    {
     "data": {
      "text/plain": [
       "str"
      ]
     },
     "execution_count": 9,
     "metadata": {},
     "output_type": "execute_result"
    }
   ],
   "source": [
    "type('-4')"
   ]
  },
  {
   "cell_type": "markdown",
   "id": "b1692b4d-fafe-42f7-a59a-6a9b7ef55447",
   "metadata": {},
   "source": [
    "> **Note:** Scientific notation also works for floats (floating point numbers)."
   ]
  },
  {
   "cell_type": "code",
   "execution_count": 10,
   "id": "e76897c6-36bb-4357-9fba-82621f36cb06",
   "metadata": {},
   "outputs": [
    {
     "data": {
      "text/plain": [
       "float"
      ]
     },
     "execution_count": 10,
     "metadata": {},
     "output_type": "execute_result"
    }
   ],
   "source": [
    "type(-6.79e6)\n",
    "# -6.27 x 10^6"
   ]
  },
  {
   "cell_type": "markdown",
   "id": "0594fd55-344f-4a79-9196-f30d34f4272b",
   "metadata": {},
   "source": [
    "And finally, if you needed it for, say, organization of data, you can extract the type from a variable using `type()` and output it somewhere using `print()`."
   ]
  },
  {
   "cell_type": "code",
   "execution_count": 11,
   "id": "f3e11c4a-1d2f-4dab-80de-1431b02b8680",
   "metadata": {},
   "outputs": [
    {
     "name": "stdout",
     "output_type": "stream",
     "text": [
      "The variable value -6790000.0 has data type <class 'float'>\n"
     ]
    }
   ],
   "source": [
    "num = -6.79e6\n",
    "type_num = type(num)\n",
    "print('The variable value %r has data type %r' %(num, type_num))"
   ]
  },
  {
   "cell_type": "markdown",
   "id": "66f36556-ccae-40b9-bd54-65a809bbbc43",
   "metadata": {},
   "source": [
    "Notice how variables values and types were inputted into the sentence above. `%r` is the general purpose inputter or placeholder, useful for if we don't know the type of data we're handling (like the above example). But there are also more specific placeholders:\n",
    "- `%d` is for numbers (integers & floats)\n",
    "- `%s` is for strings\n",
    "- `%r` is for unknown (or changing) type variables"
   ]
  },
  {
   "cell_type": "markdown",
   "id": "329a4b34-ea6c-49cf-9710-b9be32c0d413",
   "metadata": {},
   "source": [
    "### Integers & Floats\n",
    "\n",
    "As an additional note to arithmetic operators, let's talk briefly about integers. An **integer** is a number that can be written without a fractional part (no decimal). An integer can be a positive number, a negative number or the number `0` so long as there is no decimal portion.\n",
    "\n",
    "The number `0` represents an integer value but the same number written as `0.0` would represent a **floating point number** or **floats**. Even though we can agree zero is zero, these are different representations of zero, and both are useful depending upon what we want to do."
   ]
  },
  {
   "cell_type": "markdown",
   "id": "1b6417fe-b567-49ed-b0e1-3f56caf5a049",
   "metadata": {},
   "source": [
    "### Arithmetic Operations\n",
    "\n",
    "Python supports a variety of arithmetic operations. These are the primary arithmetic operations you may remember from grade school: \n",
    "- `+` for addition\n",
    "- `-` for subtraction\n",
    "- `*` for multiplication\n",
    "- `/` for division\n",
    "- `%` for modulus (returns the remainder)\n",
    "- `**` for exponentiation\n",
    "- `//` floor division\n",
    "\n",
    "And like the regular ol' arithmetic operations from grade school, they can be performed on actual numbers `1`, `17`, `-39`, variables `x`, `age`, `solution`, or a combination of both.\n",
    "\n",
    "> **Note:** `%` as an arithmetic operation is strictly different from when `%` is used inside the `print()` function to denote variable value placement within an outputted string."
   ]
  },
  {
   "cell_type": "code",
   "execution_count": 12,
   "id": "09a10dc5-4034-414a-a56a-6326561b96f2",
   "metadata": {},
   "outputs": [
    {
     "data": {
      "text/plain": [
       "26"
      ]
     },
     "execution_count": 12,
     "metadata": {},
     "output_type": "execute_result"
    }
   ],
   "source": [
    "# my sibling was born in 2000, and I am 3 years older than them\n",
    "sibling_age = 2023 - 2000\n",
    "my_age = sibling_age + 3\n",
    "my_age"
   ]
  },
  {
   "cell_type": "markdown",
   "id": "f7e692f2-7947-4735-8d30-fec1846845d0",
   "metadata": {},
   "source": [
    "> **Warning:** Do not use the `^` operator to raise something to a power. In Python, that symbol is reserved as the operator for bitwise `XOR`, which is outside the scope of this bootcamp."
   ]
  },
  {
   "cell_type": "markdown",
   "id": "8923a91d-3785-4bf7-a03b-a09bd3e619a7",
   "metadata": {},
   "source": [
    "#### Arithmetic Operators on `Int`"
   ]
  },
  {
   "cell_type": "code",
   "execution_count": 13,
   "id": "42a24e5d-c7a6-46ac-b4f6-5fed1929e7ef",
   "metadata": {},
   "outputs": [
    {
     "data": {
      "text/plain": [
       "6"
      ]
     },
     "execution_count": 13,
     "metadata": {},
     "output_type": "execute_result"
    }
   ],
   "source": [
    "2*3"
   ]
  },
  {
   "cell_type": "code",
   "execution_count": 14,
   "id": "51ac21f6-3a51-4ba8-9aac-72cb5c3950bf",
   "metadata": {},
   "outputs": [
    {
     "data": {
      "text/plain": [
       "2.0"
      ]
     },
     "execution_count": 14,
     "metadata": {},
     "output_type": "execute_result"
    }
   ],
   "source": [
    "6/3"
   ]
  },
  {
   "cell_type": "code",
   "execution_count": 15,
   "id": "2eb65e21-024c-4243-846a-13a53e33ea8f",
   "metadata": {},
   "outputs": [
    {
     "data": {
      "text/plain": [
       "float"
      ]
     },
     "execution_count": 15,
     "metadata": {},
     "output_type": "execute_result"
    }
   ],
   "source": [
    "type(2.0)"
   ]
  },
  {
   "cell_type": "code",
   "execution_count": 16,
   "id": "79b47181-46fe-4e41-9bcc-8cad2378be3a",
   "metadata": {},
   "outputs": [
    {
     "data": {
      "text/plain": [
       "8"
      ]
     },
     "execution_count": 16,
     "metadata": {},
     "output_type": "execute_result"
    }
   ],
   "source": [
    "2**3 # 2 to the power of 3"
   ]
  },
  {
   "cell_type": "code",
   "execution_count": 17,
   "id": "da3844a3-e630-462d-ae3a-6206403bc039",
   "metadata": {},
   "outputs": [
    {
     "data": {
      "text/plain": [
       "1"
      ]
     },
     "execution_count": 17,
     "metadata": {},
     "output_type": "execute_result"
    }
   ],
   "source": [
    "8//6 # floor division"
   ]
  },
  {
   "cell_type": "markdown",
   "id": "46f9b629-87f6-4bfd-9fab-681f13595672",
   "metadata": {},
   "source": [
    "> **Note:** Keep in mind how, despite utilizing two integers, the result of line 24, `2.0`, is a `float`.\n",
    "\n",
    "#### Arithmetic Operators on `Float`"
   ]
  },
  {
   "cell_type": "code",
   "execution_count": 18,
   "id": "5909782f-7c7d-4e49-9ce7-74190459f3bb",
   "metadata": {},
   "outputs": [
    {
     "data": {
      "text/plain": [
       "5.300000000000001"
      ]
     },
     "execution_count": 18,
     "metadata": {},
     "output_type": "execute_result"
    }
   ],
   "source": [
    "2.1+3.2 # = 5.3"
   ]
  },
  {
   "cell_type": "code",
   "execution_count": 19,
   "id": "6bf5118b-0cec-4ee6-bbc6-3d774e4d9a02",
   "metadata": {},
   "outputs": [
    {
     "data": {
      "text/plain": [
       "2.9523809523809526"
      ]
     },
     "execution_count": 19,
     "metadata": {},
     "output_type": "execute_result"
    }
   ],
   "source": [
    "6.2/2.1"
   ]
  },
  {
   "cell_type": "code",
   "execution_count": 20,
   "id": "0142f525-792e-4f48-bb3d-b498d3755c05",
   "metadata": {},
   "outputs": [
    {
     "data": {
      "text/plain": [
       "6.27"
      ]
     },
     "execution_count": 20,
     "metadata": {},
     "output_type": "execute_result"
    }
   ],
   "source": [
    "1.9*3.3"
   ]
  },
  {
   "cell_type": "markdown",
   "id": "9a08260a-06af-45fa-8d0b-ed166b77c3d6",
   "metadata": {},
   "source": [
    "> **Note:** Notice the result of line 32. We know that `2.1+3.2=5.3`, however a machine doesn't have that awareness to fall back on. Instead, this is an instance of *floating point error* or, more colloquially *rounding error*.\n",
    "\n",
    "#### Floating Point Error\n",
    "\n",
    "How many digits of `pi` can you hold in your head? You know, that number...\n",
    "\n",
    "`pi = 3.141592657...`\n",
    "\n",
    "Well, just like you, computers can only hold so much information at any one moment. And, for arithmetic operations, any inaccuracy in this held information (call it the machine's *working memory*) results in an error in calculated floating point numbers, denoted *floating point error* or *rounding error*. We won't get into this too much during this bootcamp, but it's good to keep in mind."
   ]
  },
  {
   "cell_type": "markdown",
   "id": "79e2b3a6-bb73-430a-afc0-d3300c87f566",
   "metadata": {},
   "source": [
    "#### Order of operations\n",
    "\n",
    "The order of operations is what you should be familar with from introducatory mathematics: Exponentiation comes first, followed by multiplication & division, floor division, and modulo. Last, as always, ss addition and subtraction. In order of precedence, this is\n",
    "\n",
    "| **precedence** | **operator**        |\r\n",
    "|:--------------:|:-------------------:|\r\n",
    "| 1st            | `**`                 |\r\n",
    "| 2nd            | `*`,` /`, `//`, `%`  |\r\n",
    "| 3rd            | `+`, `-`          |      |\r\n",
    "   |"
   ]
  },
  {
   "cell_type": "markdown",
   "id": "28d239fe-03f2-4c4b-a9d2-7316e6cfe1e2",
   "metadata": {},
   "source": [
    "### Strings\n",
    "\n",
    "And finally, let's take a look at strings. A **string** is a data type composed of a sequence of characters (letters, numbers, whitespace or punctuation) enclosed by quotation marks, can be either double quotation mark `\"` or single quotation mark `'`.\n",
    "\n",
    "If a string has to be broken into multiple lines, triple quotation marks `\"\"\"...\"\"\"` around the sentence, then hit enter at appropriate line breaks as normal to indicate to the machine that the string continues on the next line."
   ]
  },
  {
   "cell_type": "code",
   "execution_count": 21,
   "id": "61f13c8b-30e7-4962-9aa9-a6bf9b26a9bc",
   "metadata": {},
   "outputs": [
    {
     "name": "stdout",
     "output_type": "stream",
     "text": [
      "This string is a lot longer, so it must \n",
      "be broken several times to be \n",
      "more easily read\n",
      "on a small screen.\n"
     ]
    }
   ],
   "source": [
    "# examples of string formatting\n",
    "user = \"Full Name Here\"\n",
    "life_stage = 'young adult'\n",
    "\n",
    "sentence = \"\"\"This string is a lot longer, so it must \n",
    "be broken several times to be \n",
    "more easily read\n",
    "on a small screen.\"\"\"\n",
    "\n",
    "print(sentence)"
   ]
  },
  {
   "cell_type": "markdown",
   "id": "3c7a7722-51da-4633-ba93-014dacae6e11",
   "metadata": {},
   "source": [
    "> **Note:** You can use `print()` in combination with a string by excluding any quotations within `print()` that would normally be present.\n",
    "\n",
    "Please proceed to Assignment 1.\n",
    "___"
   ]
  }
 ],
 "metadata": {
  "kernelspec": {
   "display_name": "Python 3 (ipykernel)",
   "language": "python",
   "name": "python3"
  },
  "language_info": {
   "codemirror_mode": {
    "name": "ipython",
    "version": 3
   },
   "file_extension": ".py",
   "mimetype": "text/x-python",
   "name": "python",
   "nbconvert_exporter": "python",
   "pygments_lexer": "ipython3",
   "version": "3.12.0"
  }
 },
 "nbformat": 4,
 "nbformat_minor": 5
}
