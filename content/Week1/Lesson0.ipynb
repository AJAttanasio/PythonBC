{
 "cells": [
  {
   "cell_type": "markdown",
   "id": "2067afc8-1737-4b8f-92b2-db144f41276d",
   "metadata": {},
   "source": [
    "# Lesson 0: Welcome to the Python Bootcamp\n",
    "***\n",
    "\n",
    "## Greetings!\n",
    "Welcome to the UNM Python Bootcamp! Think of this as a really quick and dirty introduction to programming, using Python as the programming language. We'll cover \n",
    "- Variables and arithmetic operations \n",
    "- Data types and how to manipulating them\n",
    "- Logical operators and control flow (conditional statements)\n",
    "- Lists and loops \n",
    "- Functions and files \n",
    "- Modules, dictionaries, and classes \n",
    "- Types of programming & GUI via Turtle (if there's time)\n",
    "\n",
    "There will be several lab assignments that will involve utilizing the skills gone over in the lecture material, which will make up the bulk of the coursework. Meetings will take place over Zoom (link in email), but are not mandatory as each meeting will be recorded and linked.\n",
    "\n",
    "This \"Lesson 0\" acts as a \"Getting Started\" guide for the UNM Python Bootcamp.\n",
    "\n",
    "This bootcamp will only last one month, so let's get into it!"
   ]
  },
  {
   "cell_type": "markdown",
   "id": "b989ada7-b817-4582-9979-df47e3715a8b",
   "metadata": {},
   "source": [
    "## Introduction to Jupyter Notebooks\n",
    "\n",
    "First things first, we need to make sure you understand how this camp will work. We'll be using JupyterLab in order to play around with Python 3. There's several different ways to do this, including onein which you don't need to install anything, just use JupyterLite running Pyodide from your Chrome browser. But the main way I'll illustrate here is to install Python 3 to your computer, then use the command line to install Jupiter Notebooks.\n",
    "\n",
    "Visit <https://www.python.org/> and hover over the tab labeled \"Downloads\". The suggested version for your operating system should come up first, so click that. If not, navigate to your operating system, then the latest version of Python (Python 3 recommended) listed. When at all possible, download the \"installer\" so you don't have to build it yourself (that activity is outside the scope of this class).\n",
    "\n",
    "It might take a bit to install, but once it's done, bring up your command terminal (for Windows search \"command prompt\" after pressing the Windows key). Type in:"
   ]
  },
  {
   "cell_type": "code",
   "execution_count": null,
   "id": "d81b3a8b-4a4d-4b95-b124-ab5c5f619724",
   "metadata": {},
   "outputs": [],
   "source": [
    "pip install jupyterlab"
   ]
  },
  {
   "cell_type": "markdown",
   "id": "2fe6da90-902c-4284-b54a-2efa04f631cf",
   "metadata": {},
   "source": [
    "Hit enter and wait until that's done.\n",
    "\n",
    "Finally, type into your command terminal:"
   ]
  },
  {
   "cell_type": "code",
   "execution_count": null,
   "id": "8e219e46-60ff-4daa-a185-b4916edda442",
   "metadata": {},
   "outputs": [],
   "source": [
    "jupyter lab"
   ]
  },
  {
   "cell_type": "markdown",
   "id": "f8d5c69e-085c-4c99-99cc-eebc34dea006",
   "metadata": {},
   "source": [
    "This will open up the JupiterLab environment. From there you can open up a new notebook to begin with, or you can open up a lesson notebook for this course and get started. ;)\n",
    "\n",
    "***"
   ]
  },
  {
   "cell_type": "markdown",
   "id": "d9d72a12-05d4-4ad7-bb0d-7e664cc40ce7",
   "metadata": {},
   "source": [
    "> **Note:** All Lessons will be available online through JupyterLite (browser-based exclusively for if installation is not possible) at <https://ajattanasio.github.io/PythonBootCamp/>. Chrome browser is reccomended.\n",
    "> Every Lesson can be downloaded to load in JupyterLab offline by rightclicking the lesson file in the lefthand sidebar and selecting \"download\".\n",
    "> \n",
    "> If you want to a base to start from, you can also download the Github for this course and use it for your own.1\".\n",
    "\n",
    "Once setup is complete, please proceed to \"Lesson 1\".\n",
    "\n",
    "---"
   ]
  }
 ],
 "metadata": {
  "kernelspec": {
   "display_name": "Python 3 (ipykernel)",
   "language": "python",
   "name": "python3"
  },
  "language_info": {
   "codemirror_mode": {
    "name": "ipython",
    "version": 3
   },
   "file_extension": ".py",
   "mimetype": "text/x-python",
   "name": "python",
   "nbconvert_exporter": "python",
   "pygments_lexer": "ipython3",
   "version": "3.12.0"
  }
 },
 "nbformat": 4,
 "nbformat_minor": 5
}
