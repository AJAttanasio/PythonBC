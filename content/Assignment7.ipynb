{
 "cells": [
  {
   "cell_type": "markdown",
   "id": "df735a25-85d9-4ad2-84d3-2e952ce717c1",
   "metadata": {},
   "source": [
    "# Assignment 7\n",
    "\n",
    "All assignments *must* be submitted as a JupyterLab `.ipynb` notebook file via email (aattanasio@unm.edu). Title the file with your name: `Assignment_NAME.ipynb`.\n",
    "\n",
    "___"
   ]
  },
  {
   "cell_type": "markdown",
   "id": "0085128b-3ab8-42ec-802d-7e73958580d8",
   "metadata": {},
   "source": [
    "We're going to play around with files this time.\n",
    "- First, create a file using the write flag. Name it whatever you like.\n",
    "- Write some text in it, at least three unique lines.\n",
    "- Now, load the file and read it out.\n",
    "- Add a new line (or two) to the end of the text file. Repeat this via a loop twelve times.\n",
    "\n",
    "___"
   ]
  },
  {
   "cell_type": "code",
   "execution_count": null,
   "id": "dd811c2b-ad37-4220-a838-22f9f8794ba8",
   "metadata": {},
   "outputs": [],
   "source": [
    "# NAME_OF_YOUR_SCRIPT.py"
   ]
  },
  {
   "cell_type": "code",
   "execution_count": null,
   "id": "1bffcbfa-cd0f-4ac4-aafa-5bc61e3af5e2",
   "metadata": {},
   "outputs": [],
   "source": []
  },
  {
   "cell_type": "code",
   "execution_count": null,
   "id": "27d480ff-a155-4701-a8f9-978725bb5d9b",
   "metadata": {},
   "outputs": [],
   "source": []
  },
  {
   "cell_type": "code",
   "execution_count": null,
   "id": "799fd201-63fe-43d9-8a12-d45fe718668d",
   "metadata": {},
   "outputs": [],
   "source": []
  }
 ],
 "metadata": {
  "kernelspec": {
   "display_name": "Python 3 (ipykernel)",
   "language": "python",
   "name": "python3"
  },
  "language_info": {
   "codemirror_mode": {
    "name": "ipython",
    "version": 3
   },
   "file_extension": ".py",
   "mimetype": "text/x-python",
   "name": "python",
   "nbconvert_exporter": "python",
   "pygments_lexer": "ipython3",
   "version": "3.11.4"
  }
 },
 "nbformat": 4,
 "nbformat_minor": 5
}
