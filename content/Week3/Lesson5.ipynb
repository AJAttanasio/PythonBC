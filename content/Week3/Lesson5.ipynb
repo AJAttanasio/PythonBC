{
 "cells": [
  {
   "cell_type": "markdown",
   "id": "2fb42b52-f81e-491f-acd2-c3b685e7121a",
   "metadata": {},
   "source": [
    "# Lesson 5: Functions\n",
    "\n",
    "___"
   ]
  },
  {
   "cell_type": "markdown",
   "id": "caebd6ec-8cc1-4c86-a8a3-ab950b886222",
   "metadata": {},
   "source": [
    "In programming, as you start to write longer and more complex programs, one thing you'll start to notice is how often the same set of steps need to be repeated in many different places within a program.\n",
    "\n",
    "A **function** is a key element in writing such programs. You can think of a function in a computing language in much the same way you think of a mathematical function. The function takes in arguments, performs some operation based on the identities of the arguments, and then returns a result. For example, the mathematical function *f(x,y)=xy* takes arguments *x* and *y* and then returns the product of those two arguements, *xy*. In this lesson, we will learn how to construct functions in Python.\n",
    "\n",
    "> **Note:** Some tasks need to be performed multiple times within a program. Rather than rewrite the same code in multiple places, a function may be defined using the `def` keyword. Function definitions may include **parameters**, providing data input to the function.\n",
    ">\n",
    "> Functions may return a value using the `return` keyword followed by the value to return.\n",
    "\n",
    "Sometimes functions require input to provide data for their code. This input is defined using the **function parameters** mentioned previously. Parameters are variables that are defined in the function definition. They are assigned the values which were passed as arguments when the function was called, elsewhere in the code.\n",
    "\n",
    "> **Multiple Parameters:** Python functions can have multiple parameters. Just as you wouldn’t go to school without both a backpack and a pencil case, functions may also need more than one input to carry out their operations. To define a function with multiple parameters, parameter names are placed one after another, separated by commas, within the parentheses of the function definition.\n",
    "\n",
    "For example, the function definition defines parameters for a character, a setting, and a skill, which are used as inputs to write the first sentence of a book.\n",
    "\n",
    "## Basic function syntax\n",
    "For the above example, let's translate the above function into Python. A function is defined using the `def` keyword. This is best seen by example:"
   ]
  },
  {
   "cell_type": "code",
   "execution_count": 6,
   "id": "d5650888-618e-4a24-813a-cb130f3b9d67",
   "metadata": {},
   "outputs": [],
   "source": [
    "def product(x, y):\n",
    "    \"\"\"The product of `x` and `y`.\"\"\"\n",
    "    return x * y"
   ]
  },
  {
   "cell_type": "markdown",
   "id": "3dc8f402-a471-44f8-8236-ec544807e691",
   "metadata": {},
   "source": [
    "Following the `def` keyword is a *function signature* which indicates the function’s name and its arguments. Just like in mathematics, the arguments are separated by commas and enclosed in parentheses. The indentation following the `def` line specifies what is part of the function. As soon as the indentation goes to the left again, aligned with `def`, the contents of the functions are complete.\n",
    "\n",
    "Immediately following the function definition is the *doc string* (this is short for documentation string), which is a brief description of the function. The first string after the function definition is always defined as the doc string. Usually, it is in triple quotes, as doc strings can often span multiple lines.\n",
    "\n",
    "Doc strings are more than just comments for code, the doc string is what is returned by the native python function `help()` when someone is looking to learn more about a function."
   ]
  },
  {
   "cell_type": "code",
   "execution_count": 7,
   "id": "afcb0318-def3-44cb-a07f-87a4c79ec518",
   "metadata": {},
   "outputs": [
    {
     "name": "stdout",
     "output_type": "stream",
     "text": [
      "Help on function product in module __main__:\n",
      "\n",
      "product(x, y)\n",
      "    The product of `x` and `y`.\n",
      "\n"
     ]
    }
   ],
   "source": [
    "help(product)"
   ]
  },
  {
   "cell_type": "markdown",
   "id": "fc37cf26-8621-404b-a86f-a867997f3df4",
   "metadata": {},
   "source": [
    "> They are also printed out when the `?` is used in a Jupyter notebook or JupyterLab console."
   ]
  },
  {
   "cell_type": "code",
   "execution_count": 8,
   "id": "6cf82dc4-3fc3-43fe-9ea3-326076c0449f",
   "metadata": {},
   "outputs": [
    {
     "data": {
      "text/plain": [
       "\u001b[1;31mSignature:\u001b[0m \u001b[0mproduct\u001b[0m\u001b[1;33m(\u001b[0m\u001b[0mx\u001b[0m\u001b[1;33m,\u001b[0m \u001b[0my\u001b[0m\u001b[1;33m)\u001b[0m\u001b[1;33m\u001b[0m\u001b[1;33m\u001b[0m\u001b[0m\n",
       "\u001b[1;31mDocstring:\u001b[0m The product of `x` and `y`.\n",
       "\u001b[1;31mFile:\u001b[0m      c:\\users\\ayla\\appdata\\local\\temp\\ipykernel_27640\\853791213.py\n",
       "\u001b[1;31mType:\u001b[0m      function"
      ]
     },
     "metadata": {},
     "output_type": "display_data"
    }
   ],
   "source": [
    "product?"
   ]
  },
  {
   "cell_type": "markdown",
   "id": "1686481a-3bb3-47fa-a190-32fb1016ebad",
   "metadata": {},
   "source": [
    "You're free to put whatever you like in doc strings, or even omit them, but you should always have a doc string with some information about what your function is doing. True, this example of a function is kind of silly, since it is easier to type `x * y` than `product(x, y)`, but it is still good form to have a doc string. It's good documentation and communication, and every programmer should build up the habit sooner rather than later.\n",
    "\n",
    "It's worth saying explicitly: ***All functions should have doc strings.***\n",
    "\n",
    "In the next line of the function, there's the `return` keyword. Whatever is after the `return` statement is (obviously) returned by the function. (More about this later.) Any code after the `return` isn't executed because the function has already returned.\n",
    "\n",
    "### Calling a function\n",
    "\n",
    "Now that our function has been defined, we can call it.\n",
    "\n",
    "Python uses simple syntax to use, invoke, or call a preexisting function. A function can be called by writing the name of it, followed by parentheses. For example, the code provided would call the `product()` method."
   ]
  },
  {
   "cell_type": "code",
   "execution_count": 12,
   "id": "34d1303c-cd83-40e0-a417-8cf49814dd38",
   "metadata": {},
   "outputs": [
    {
     "data": {
      "text/plain": [
       "10"
      ]
     },
     "execution_count": 12,
     "metadata": {},
     "output_type": "execute_result"
    }
   ],
   "source": [
    "product(2,5)"
   ]
  },
  {
   "cell_type": "code",
   "execution_count": 10,
   "id": "a9167e1e-e5bf-4b26-adc2-7f947a529ae0",
   "metadata": {},
   "outputs": [
    {
     "data": {
      "text/plain": [
       "18"
      ]
     },
     "execution_count": 10,
     "metadata": {},
     "output_type": "execute_result"
    }
   ],
   "source": [
    "product(3,6)"
   ]
  },
  {
   "cell_type": "code",
   "execution_count": 11,
   "id": "28d927f9-63ae-4428-a082-bdd84aa0e2dc",
   "metadata": {},
   "outputs": [
    {
     "data": {
      "text/plain": [
       "4.0"
      ]
     },
     "execution_count": 11,
     "metadata": {},
     "output_type": "execute_result"
    }
   ],
   "source": [
    "product(0.5,8)"
   ]
  },
  {
   "cell_type": "code",
   "execution_count": 13,
   "id": "165b4b7c-85e2-41c8-96d4-f04e3c13070a",
   "metadata": {},
   "outputs": [
    {
     "data": {
      "text/plain": [
       "-6"
      ]
     },
     "execution_count": 13,
     "metadata": {},
     "output_type": "execute_result"
    }
   ],
   "source": [
    "product(-1,6)"
   ]
  },
  {
   "cell_type": "markdown",
   "id": "31a220c0-b515-4554-935e-26f527d212e1",
   "metadata": {},
   "source": [
    "Note the cases where a `float` is returned, despite only one parameter being a float because that's how multiplication works.\n",
    "\n",
    "## Function Arguments\n",
    "Parameters in python are variables: placeholders for the actual values the function needs. When the function is called, these values are passed in as arguments. For example, the arguments passed into the function `.sales()` are the “The Farmer’s Market”, “toothpaste”, and “$1” which correspond to the parameters `grocery_store`, `item_on_sale`, and `cost`."
   ]
  },
  {
   "cell_type": "code",
   "execution_count": 14,
   "id": "70e999d7-ea90-4372-871b-e539fa09b693",
   "metadata": {},
   "outputs": [
    {
     "name": "stdout",
     "output_type": "stream",
     "text": [
      "The Farmer’s Market is selling toothpaste for $1\n"
     ]
    }
   ],
   "source": [
    "def sales(grocery_store, item_on_sale, cost):\n",
    "  print(grocery_store + \" is selling \" + item_on_sale + \" for \" + cost) \n",
    "\n",
    "sales(\"The Farmer’s Market\", \"toothpaste\", \"$1\")"
   ]
  },
  {
   "cell_type": "markdown",
   "id": "c6470053-99c7-403c-924f-d8e4d83bcbd6",
   "metadata": {},
   "source": [
    "### Function Keyword Arguments\n",
    "Python functions can be defined with named arguments which may have default values provided. When function arguments are passed using their names, they are referred to as *keyword arguments*. The use of keyword arguments when calling a function allows the arguments to be passed in any order — not just the order that they were defined in the function. If the function is invoked without a value for a specific argument, the default value will be used."
   ]
  },
  {
   "cell_type": "code",
   "execution_count": 11,
   "id": "1011f2f0-1508-4d98-b8f2-8ea59add90e6",
   "metadata": {},
   "outputs": [
    {
     "name": "stdout",
     "output_type": "stream",
     "text": [
      "Length = 1\n",
      "Width = 2\n",
      "Depth = 3\n",
      "\t Volume = 6\n",
      "Length = 5\n",
      "Width = 4\n",
      "Depth = 2\n",
      "\t Volume = 40\n",
      "Length = 2\n",
      "Width = 4\n",
      "Depth = 3\n",
      "\t Volume = 24\n"
     ]
    },
    {
     "data": {
      "text/plain": [
       "24"
      ]
     },
     "execution_count": 11,
     "metadata": {},
     "output_type": "execute_result"
    }
   ],
   "source": [
    "def findvolume(length=1, width=1, depth=1):\n",
    "  print(\"Length = \" + str(length))\n",
    "  print(\"Width = \" + str(width))\n",
    "  print(\"Depth = \" + str(depth))\n",
    "  print(\"\\t Volume = \" + str(length*width*depth))\n",
    "  return length * width * depth;\n",
    "\n",
    "findvolume(1, 2, 3)\n",
    "findvolume(length=5, depth=2, width=4)\n",
    "findvolume(2, depth=3, width=4)"
   ]
  },
  {
   "cell_type": "markdown",
   "id": "f43768cd-81c2-426b-9dfc-5376f5197f43",
   "metadata": {},
   "source": [
    "### Functions Without Arguments\n",
    "A function doesn't necessarily need arguments. As a silly example, let’s consider a function that just returns `42` every single time it's called. Of course, it does not matter what its arguments are, so we can define a function without arguments."
   ]
  },
  {
   "cell_type": "code",
   "execution_count": 16,
   "id": "6daa4305-5940-4cc0-b77d-76b31ed88877",
   "metadata": {},
   "outputs": [],
   "source": [
    "def answer_to_the_ultimate_question_of_life_the_universe_and_everything():\n",
    "    \"\"\"Simpler program than Deep Thought's, I bet.\"\"\"\n",
    "    return 42"
   ]
  },
  {
   "cell_type": "markdown",
   "id": "21b427e4-0d8b-4922-96f5-0b23cb38fff3",
   "metadata": {},
   "source": [
    "We still needed the open and closed parentheses at the end of the function name. Similarly, even though it has no arguments, we still have to call it with parentheses."
   ]
  },
  {
   "cell_type": "code",
   "execution_count": 17,
   "id": "175979ed-4f03-4bc8-ba0e-76018ad15eea",
   "metadata": {},
   "outputs": [
    {
     "data": {
      "text/plain": [
       "42"
      ]
     },
     "execution_count": 17,
     "metadata": {},
     "output_type": "execute_result"
    }
   ],
   "source": [
    "answer_to_the_ultimate_question_of_life_the_universe_and_everything()"
   ]
  },
  {
   "cell_type": "markdown",
   "id": "72bd067f-dfbb-4186-9b8a-f7ce4841aaed",
   "metadata": {},
   "source": [
    "## Returning Value from Function\n",
    "s mentioned previously, aA` retur`n keyword is used to return a value from a Python function. The value returned from a function can be assigned to a variable which can then be used in the program.\n",
    "\n",
    "In the example, the functi`on check_leap_y`ear returns a string which indicates if the passed parameter is a leap year or not."
   ]
  },
  {
   "cell_type": "code",
   "execution_count": 20,
   "id": "aaca088d-01a9-4ca4-bfac-ecbce8bcf428",
   "metadata": {},
   "outputs": [
    {
     "name": "stdout",
     "output_type": "stream",
     "text": [
      "2023 is not a leap year.\n"
     ]
    }
   ],
   "source": [
    "def check_leap_year(year): \n",
    "  if year % 4 == 0:\n",
    "    return str(year) + \" is a leap year.\"\n",
    "  else:\n",
    "    return str(year) + \" is not a leap year.\"\n",
    "\n",
    "year_to_check = 2023\n",
    "returned_value = check_leap_year(year_to_check)\n",
    "print(returned_value) # 2023 is not a leap year."
   ]
  },
  {
   "cell_type": "markdown",
   "id": "1d26ffe8-0f73-4275-952d-fd0a4047b2bd",
   "metadata": {},
   "source": [
    "### Functions need not return anything\n",
    "Hwoever, just like they do not necessarily need arguments, functions also do not need to return anything. If a function does not have a `return` statement (or if it's never encountered in the execution of the function), the function runs to completion and returns `None` by default. `None` is a special Python keyword which basically means “nothing.” For example, a function could simply print something to the screen."
   ]
  },
  {
   "cell_type": "code",
   "execution_count": 18,
   "id": "9c2163c4-6aa4-468b-8baf-e4153feb13e2",
   "metadata": {},
   "outputs": [],
   "source": [
    "def think_too_much():\n",
    "    \"\"\"Express Caesar's skepticism about Cassius\"\"\"\n",
    "    print(\"\"\"Yond Cassius has a lean and hungry look,\n",
    "He thinks too much; such men are dangerous.\"\"\")"
   ]
  },
  {
   "cell_type": "markdown",
   "id": "27473718-80ea-41fb-8424-3ea655f1154b",
   "metadata": {},
   "source": [
    "Let's call this function like the others, but we can show that the result it returns is `None`."
   ]
  },
  {
   "cell_type": "code",
   "execution_count": 19,
   "id": "0a3f42e0-11e5-463b-b737-5359e6974ea6",
   "metadata": {},
   "outputs": [
    {
     "name": "stdout",
     "output_type": "stream",
     "text": [
      "Yond Cassius has a lean and hungry look,\n",
      "He thinks too much; such men are dangerous.\n",
      "\n",
      "None\n"
     ]
    }
   ],
   "source": [
    "return_val = think_too_much()\n",
    "\n",
    "# Print a blank line\n",
    "print()\n",
    "\n",
    "# Print the return value\n",
    "print(return_val)"
   ]
  },
  {
   "cell_type": "markdown",
   "id": "bf061445-ccff-46c5-9bfa-39bd2cc2bc36",
   "metadata": {},
   "source": [
    "## All About Variables\n",
    "To relate back to a previous lesson, let's bring back the topic of *variables* for a moment. These are programming symbols/words (e.g. `x` and `y` and `vegetable`) that can be assigned and hold information, whether `int`, `float`, or `string`. In relation to functions, there are two kinds of variables: \"local\" and \"global\".\n",
    "\n",
    "### The Scope of Variables\n",
    "In Python, a *variable* defined inside a function is called a *local variable*. It cannot be used outside of the scope of the function, and attempting to do so without defining the variable outside of the function will cause an error.\n",
    "\n",
    "In the example, the variable `a` is defined both inside and outside of the function. When the function `f1()` is implemented, `a` is printed as `2` because it is locally defined to be so. However, when printing a outside of the function, `a` is printed as 5 because it is implemented outside of the scope of the function."
   ]
  },
  {
   "cell_type": "code",
   "execution_count": 23,
   "id": "258ce38b-0842-4028-ad4c-243632b33eea",
   "metadata": {},
   "outputs": [
    {
     "name": "stdout",
     "output_type": "stream",
     "text": [
      "5\n",
      "2\n"
     ]
    }
   ],
   "source": [
    "a = 5\n",
    "\n",
    "def f1():\n",
    "  a = 2\n",
    "  print(a)\n",
    "  \n",
    "print(a)   # Will print 5\n",
    "f1()       # Will print 2"
   ]
  },
  {
   "cell_type": "markdown",
   "id": "e8dc06f0-8b91-485b-a680-b78dc09d5f7e",
   "metadata": {},
   "source": [
    "### Parameters as Local Variables\r\n",
    "Function parameters behave identically to a function’s local variables. They are initialized with the values passed into the function when it was called.\r\n",
    "\r\n",
    "Like local variables, parameters cannot be referenced from outside the scope of the function.\r\n",
    "\r\n",
    "In the example, the parameter value is defined as part of the definitio`n of my_fun`ction, and therefore can only be accessed wi`thin my_fun`ction. Attempting to print the contents of value from outside the function causes an error."
   ]
  },
  {
   "cell_type": "code",
   "execution_count": 24,
   "id": "0db76286-ae4f-4c7d-8179-dbc1cc738733",
   "metadata": {},
   "outputs": [
    {
     "name": "stdout",
     "output_type": "stream",
     "text": [
      "7\n"
     ]
    },
    {
     "ename": "NameError",
     "evalue": "name 'value' is not defined",
     "output_type": "error",
     "traceback": [
      "\u001b[1;31m---------------------------------------------------------------------------\u001b[0m",
      "\u001b[1;31mNameError\u001b[0m                                 Traceback (most recent call last)",
      "Cell \u001b[1;32mIn[24], line 8\u001b[0m\n\u001b[0;32m      5\u001b[0m my_function(\u001b[38;5;241m7\u001b[39m) \n\u001b[0;32m      7\u001b[0m \u001b[38;5;66;03m# Causes an error as `value` no longer exists\u001b[39;00m\n\u001b[1;32m----> 8\u001b[0m \u001b[38;5;28mprint\u001b[39m(\u001b[43mvalue\u001b[49m) \n",
      "\u001b[1;31mNameError\u001b[0m: name 'value' is not defined"
     ]
    }
   ],
   "source": [
    "def my_function(value):\n",
    "  print(value)   \n",
    "  \n",
    "# Pass the value 7 into the function\n",
    "my_function(7) \n",
    "\n",
    "# Causes an error as `value` no longer exists\n",
    "print(value) "
   ]
  },
  {
   "cell_type": "markdown",
   "id": "bcbda9aa-4c24-4f5d-9c83-10d671521ee4",
   "metadata": {},
   "source": [
    "### Global Variables\n",
    "A variable that is defined outside of a function is called a *global variable*. It can be accessed inside the body of a function.\n",
    "\n",
    "In the example, the variable `a` is a global variable because it is defined outside of the function `prints_a`. It is therefore accessible to `prints_a`, which prints the value of `a`."
   ]
  },
  {
   "cell_type": "code",
   "execution_count": 25,
   "id": "5e1aafa2-c439-49c1-905f-d94188f65f23",
   "metadata": {},
   "outputs": [
    {
     "name": "stdout",
     "output_type": "stream",
     "text": [
      "Hello\n"
     ]
    }
   ],
   "source": [
    "a = \"Hello\"\n",
    "\n",
    "def prints_a():\n",
    "  print(a)\n",
    "  \n",
    "# will print \"Hello\"\n",
    "prints_a()"
   ]
  },
  {
   "cell_type": "markdown",
   "id": "1cec46b4-fb13-42a7-98b6-da0688ad7fac",
   "metadata": {},
   "source": [
    "## Built-in functions in Python\n",
    "The Python programming language has several built-in functions. We've already discussed `print()`, `id()`, `ord()`, `len()`, `range()`, `enumerate()`, `zip()`, and `reversed()`, in addition to type conversions such as `list()`. The complete set of built-in functions can be found [here](https://docs.python.org/3/library/functions.html). A word of warning about these functions and naming your own: ***Never define a function or variable with the same name as a built-in function.***\n",
    "\n",
    "Additionally, Python has keywords (such as `def`, `for`, `in`, `if`, `True`, `None`, etc.), many of which have already been encountered. A complete list of them is [here](https://docs.python.org/3/reference/lexical_analysis.html#keywords). The interpreter will throw an error if you try to define a function or variable with the same name as a keyword.\n",
    "\n",
    "## A Final Note\n",
    "Let’s pause for a moment and think about what functions do. Not just in the abstract sense of \"oh, what is a function and what is its place within my program\", but also in the specific sense of \"what do I want *this particular* function to do?\" And, more to the point: how do we expect a certain function to act?\n",
    "Every time you sit down to write a function (or really any program in general, it's just good practice), ask yourself these questions:\n",
    "- What is this code supposed to do?\n",
    "- And how can I make sure it's doing that?\n",
    "\n",
    "The answer to that second question is to write a test. A *function test* is a set of parameter(s) that we call a function with such that the returned value(s) is known. For example, taking our previous `product()` function and using the age-old rule \"anything multiplied by 0 is 0\", we can write the test:"
   ]
  },
  {
   "cell_type": "code",
   "execution_count": 26,
   "id": "bf491220-7752-4e8a-8ae6-a6dad5bed367",
   "metadata": {},
   "outputs": [
    {
     "data": {
      "text/plain": [
       "0"
      ]
     },
     "execution_count": 26,
     "metadata": {},
     "output_type": "execute_result"
    }
   ],
   "source": [
    "product(0,0)"
   ]
  },
  {
   "cell_type": "markdown",
   "id": "e5984784-b5aa-49e5-9b02-843213754682",
   "metadata": {},
   "source": [
    "As expected, it produces `0`. Obviously, this is a very simple test, but the idea is to come up with a simple, easy way of testing your function where you already know the answer.\n",
    "\n",
    "For now, we'll proceed without writing tests, but I want you to keep this in mind. For now, just know this: If your functions are not thoroughly tested, you are entering a world of pain. **A world of pain.**\n",
    "\n",
    "***Test your functions.***\n",
    "\n",
    "___\n",
    "\n",
    "Proceed to Assignment 5."
   ]
  }
 ],
 "metadata": {
  "kernelspec": {
   "display_name": "Python 3 (ipykernel)",
   "language": "python",
   "name": "python3"
  },
  "language_info": {
   "codemirror_mode": {
    "name": "ipython",
    "version": 3
   },
   "file_extension": ".py",
   "mimetype": "text/x-python",
   "name": "python",
   "nbconvert_exporter": "python",
   "pygments_lexer": "ipython3",
   "version": "3.11.4"
  }
 },
 "nbformat": 4,
 "nbformat_minor": 5
}
