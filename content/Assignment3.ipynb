{
 "cells": [
  {
   "cell_type": "markdown",
   "id": "1f72b456-d0b7-4ce1-b2e5-821c0d9846f3",
   "metadata": {},
   "source": [
    "# Assignment 3\n",
    "\n",
    "**Due Monday, July 17th, 2023**\n",
    "\n",
    "All assignments *must* be submitted as a JupyterLab `.ipynb` notebook file via email (aattanasio@unm.edu). Title the file with your name: `Assignment_NAME.ipunb`.\n",
    "\n",
    "___"
   ]
  },
  {
   "cell_type": "markdown",
   "id": "c1f6d141-9245-4e36-8488-1a568a4940c5",
   "metadata": {},
   "source": [
    "Use the following code blocks (creating as many as you need) to perform the following actions:\n",
    "1. Construct a list of 10 entries, your choice of type. \n",
    "2. Split the list into two lists with five entries each.\n",
    "3. Reverse the order of the lists, and concatenate them back together into one list (distinct from the original)\n",
    "4. Compare the two created lists. Are any entries the same?\n",
    "5. Create a tuple based on the original list.\n",
    "6. Try splicing the tuple (pick any 4 entries)."
   ]
  },
  {
   "cell_type": "code",
   "execution_count": null,
   "id": "d2d2f462-e1a5-46b2-ab8e-9834eae92b4a",
   "metadata": {},
   "outputs": [],
   "source": [
    "# NAME_OF_YOUR_SCRIPT.py"
   ]
  },
  {
   "cell_type": "code",
   "execution_count": null,
   "id": "60924b06-53ea-43ab-a112-b4e8a6f15b3c",
   "metadata": {},
   "outputs": [],
   "source": []
  },
  {
   "cell_type": "code",
   "execution_count": null,
   "id": "47796bd0-0385-4ae8-b57c-0d037f12c512",
   "metadata": {},
   "outputs": [],
   "source": []
  },
  {
   "cell_type": "code",
   "execution_count": null,
   "id": "616a65a6-f212-4c24-920b-d5a7b404b90e",
   "metadata": {},
   "outputs": [],
   "source": []
  }
 ],
 "metadata": {
  "kernelspec": {
   "display_name": "Python 3 (ipykernel)",
   "language": "python",
   "name": "python3"
  },
  "language_info": {
   "codemirror_mode": {
    "name": "ipython",
    "version": 3
   },
   "file_extension": ".py",
   "mimetype": "text/x-python",
   "name": "python",
   "nbconvert_exporter": "python",
   "pygments_lexer": "ipython3",
   "version": "3.11.4"
  }
 },
 "nbformat": 4,
 "nbformat_minor": 5
}
