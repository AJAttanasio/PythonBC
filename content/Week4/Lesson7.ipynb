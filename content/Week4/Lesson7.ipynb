{
 "cells": [
  {
   "cell_type": "markdown",
   "id": "a70271d5-fd72-4797-b2b9-aed8c53c1840",
   "metadata": {},
   "source": [
    "# Lesson 7: Files\n",
    "___"
   ]
  },
  {
   "cell_type": "markdown",
   "id": "2e9b37c0-86d3-43d2-89d5-e14d301f19ee",
   "metadata": {},
   "source": [
    "## Reading a File\n",
    "Computers use file systems to store and retrieve data. Each file is an individual container of related information. If you’ve ever saved a document, downloaded a song, or even sent an email you’ve created a file on some computer somewhere. Even *script.ipynb*, the Python notebook you’re editing in this learning environment, is a file.\n",
    "\n",
    "So, how do we interact with files using Python? We’re going to learn how to read and write different kinds of files using code.\n",
    "\n",
    "Let’s say we had a file called *real_cool_document.txt* with these contents:"
   ]
  },
  {
   "cell_type": "code",
   "execution_count": null,
   "id": "a2f45cb4-da34-4ece-87c1-1e0a0b41c98c",
   "metadata": {},
   "outputs": [],
   "source": [
    "# real_cool_document.txt\n",
    "Wowsers!"
   ]
  },
  {
   "cell_type": "markdown",
   "id": "cac087d4-103b-4592-8662-c107dfeac542",
   "metadata": {},
   "source": [
    "Python has a wonderful keyword, with. This keyword enables **context management**. Upon entry into a `with` block, variables have certain meaning.\n",
    "\n",
    "> **Note:** Upon exit, certain operations take place. For file objects created by opening them, the file is automatically closed upon exit, even if there is an error. This is important. If your program raises an exception before you have a chance to close the file, it won’t get closed and you could be in trouble. If you use context management, the file will still get closed. So here is an important tip:\n",
    "\n",
    "Using this knowledge, we could read that file with the following script:"
   ]
  },
  {
   "cell_type": "code",
   "execution_count": 2,
   "id": "08f1bb64-2f50-4531-a430-29bf91247109",
   "metadata": {},
   "outputs": [
    {
     "name": "stdout",
     "output_type": "stream",
     "text": [
      "Wowsers!\n"
     ]
    }
   ],
   "source": [
    "# script.py\n",
    "with open('real_cool_document.txt') as cool_doc:\n",
    "  cool_contents = cool_doc.read()\n",
    "print(cool_contents)"
   ]
  },
  {
   "cell_type": "markdown",
   "id": "91599543-6804-429e-82e1-204eb1745b75",
   "metadata": {},
   "source": [
    "This opens a file object called `cool_doc` and creates a new indented block where you can read the contents of the opened file. We then read the contents of the file `cool_doc` using `cool_doc.read()` and save the resulting string into the variable `cool_contents`. Then we print `cool_contents`, which outputs the statement `Wowsers!`."
   ]
  },
  {
   "cell_type": "markdown",
   "id": "ec398ad4-a1dd-4e07-839e-af964ce8a57e",
   "metadata": {},
   "source": [
    "## Iterating Through Lines\n",
    "When we read a file, we might want to grab the whole document in a single string, like `.read()` would return. But what if we wanted to store each line in its own variable? We can use the `.readlines()` function to read a text file line by line instead of having the whole thing. Suppose we have a file:"
   ]
  },
  {
   "cell_type": "code",
   "execution_count": null,
   "id": "53238dea-73ab-4efc-834a-43809c27ff4f",
   "metadata": {},
   "outputs": [],
   "source": [
    "# keats_sonnet.txt\n",
    "To one who has been long in city pent,\n",
    "'Tis very sweet to look into the fair\n",
    "And open face of heaven,--to breathe a prayer\n",
    "Full in the smile of the blue firmament."
   ]
  },
  {
   "cell_type": "code",
   "execution_count": 6,
   "id": "db860d55-6e35-4177-8ee2-4c22d8458007",
   "metadata": {},
   "outputs": [
    {
     "name": "stdout",
     "output_type": "stream",
     "text": [
      "To one who has been long in city pent,\n",
      "\n",
      "'Tis very sweet to look into the fair\n",
      "\n",
      "And open face of heaven,--to breathe a prayer\n",
      "\n",
      "Full in the smile of the blue firmament.\n"
     ]
    }
   ],
   "source": [
    "# script.py\n",
    "with open('keats_sonnet.txt') as keats_sonnet:\n",
    "  for line in keats_sonnet.readlines():\n",
    "    print(line)"
   ]
  },
  {
   "cell_type": "markdown",
   "id": "391be0cd-dd90-4e6b-be50-3c0380e190ce",
   "metadata": {},
   "source": [
    "The above script creates a *temporary file* object called `keats_sonnet` that points to the file *keats_sonnet.txt*. It then iterates over each line in the document and prints the entire file out."
   ]
  },
  {
   "cell_type": "markdown",
   "id": "0aa7723a-46ba-416d-8c7b-260d44aaef33",
   "metadata": {},
   "source": [
    "## Reading a Line\n",
    "Sometimes you don’t want to iterate through a whole file. For that, there’s a different file method, .readline(), which will only read a single line at a time. If the entire document is read line by line in this way subsequent calls to `.readline()` will not throw an error but will start returning an empty string (`\"\"`). Suppose we had this file:"
   ]
  },
  {
   "cell_type": "code",
   "execution_count": null,
   "id": "49b2cd0b-13f1-4ebc-96e9-ece913b2cdc3",
   "metadata": {},
   "outputs": [],
   "source": [
    "# millay_sonnet.txt\n",
    "I shall forget you presently, my dear,\n",
    "So make the most of this, your little day,\n",
    "Your little month, your little half a year,\n",
    "Ere I forget, or die, or move away,"
   ]
  },
  {
   "cell_type": "code",
   "execution_count": 10,
   "id": "80008a98-16c5-4662-9e8d-e98745e7b0af",
   "metadata": {},
   "outputs": [
    {
     "name": "stdout",
     "output_type": "stream",
     "text": [
      "Your little month, your little half a year,\n",
      "\n"
     ]
    }
   ],
   "source": [
    "# script.py\n",
    "with open('millay_sonnet.txt') as sonnet_doc:\n",
    "  first_line = sonnet_doc.readline()\n",
    "  second_line = sonnet_doc.readline()\n",
    "  third_line = sonnet_doc.readline()\n",
    "  print(third_line)"
   ]
  },
  {
   "cell_type": "markdown",
   "id": "30e4958d-3d63-4333-805c-1c57a6e3176e",
   "metadata": {},
   "source": [
    "This script also creates a file object called `sonnet_doc` that points to the file *millay_sonnet.txt*. It then reads in the first line using `sonnet_doc.readline()` and saves that to the variable `first_line`. It then saves the second line (*So make the most of this, your little day,*) into the variable `second_line` and then prints it out."
   ]
  },
  {
   "cell_type": "markdown",
   "id": "94dd24cb-da9c-4f5a-af04-7a94b885fa18",
   "metadata": {},
   "source": [
    "## Writing a File\n",
    "\n",
    "By default, a file when opened with `open()` is only for reading (that is, the file cannot be changed). A second argument `'r'` is passed to it by default. To write to a file, first open the file with write permission via the `'w'` argument. Then use the `.write()` method to write to the file. If the file already exists, all prior content will be overwritten."
   ]
  },
  {
   "cell_type": "code",
   "execution_count": 32,
   "id": "fb57d3b9-ab78-4020-b415-e2dab92305e8",
   "metadata": {},
   "outputs": [],
   "source": [
    "with open('diary.txt','w') as diary:\n",
    "  diary.write('Special events for today')"
   ]
  },
  {
   "cell_type": "markdown",
   "id": "6e7ec32c-a624-471e-9598-e022373059ae",
   "metadata": {},
   "source": [
    "Writing to an opened file with the `'w'` flag overwrites all previous content in the file. To avoid this, we can append to a file instead. Use the `'a'` flag as the second argument to `open()`. If a file doesn’t exist, it will be created for append mode."
   ]
  },
  {
   "cell_type": "markdown",
   "id": "d3401c18-75a1-4a80-b9fb-3caee97e4ec3",
   "metadata": {},
   "source": [
    "> Note that we can use the `.write()` method to write strings to a file, but `.write()` *only* takes strings as arguments. You cannot pass numbers. They must be converted to strings first."
   ]
  },
  {
   "cell_type": "code",
   "execution_count": 14,
   "id": "146cde48-1511-493a-850c-93e4e9d30d18",
   "metadata": {},
   "outputs": [],
   "source": [
    "with open('shopping.txt', 'a') as shop:\n",
    "  shop.write('Tomatoes, cucumbers, celery\\n')"
   ]
  },
  {
   "cell_type": "markdown",
   "id": "000067a4-d96e-4a93-a7d9-e2f7ab3a613e",
   "metadata": {},
   "source": [
    "> **Notation:** `\\n` means \"create new line here\".\n",
    "\n",
    "Here's the other possible strings that are used as flags:\n",
    "\n",
    "| **string**                     | **meaning**                              |\r\n",
    "|--------------------------------|------------------------------------------|\r\n",
    "| `'r'`                          | open a text file for reading             |\r\n",
    "| `'w'`                          | create and open a text file for writing  |\r\n",
    "| `'a'`                          | append an existing text file             |\r\n",
    "| `'r+'`                         | open a text file for reading and writing |\r\n",
    "| append `'b'` to any of the above | same as above, except for binary files   |"
   ]
  },
  {
   "cell_type": "markdown",
   "id": "6b80aeb7-4558-4bbe-a726-16e117f7bbbe",
   "metadata": {},
   "source": [
    "We will mostly be working with text files in the bootcamp, so the first three are the most useful. A big warning, though:\n",
    "\n",
    "***Trying to open an existing file with `‘w’` will wipe it out and create a new file.***"
   ]
  },
  {
   "cell_type": "markdown",
   "id": "7a46f450-6193-41c2-8b4d-2af0af3329f4",
   "metadata": {},
   "source": [
    "___\n",
    "\n",
    "## User Input\n",
    "\n",
    "Sometimes, we'll want to gather some user input, sometimes for just variable values or maybe the the name of a file. Either way, here's how to ask a user (a person) for some information via a prompt:"
   ]
  },
  {
   "cell_type": "code",
   "execution_count": 15,
   "id": "d5a2f04e-f23f-4127-841d-797b65e05dc7",
   "metadata": {},
   "outputs": [
    {
     "name": "stdin",
     "output_type": "stream",
     "text": [
      "What is your name?\n",
      " AJ\n"
     ]
    },
    {
     "data": {
      "text/plain": [
       "'AJ'"
      ]
     },
     "execution_count": 15,
     "metadata": {},
     "output_type": "execute_result"
    }
   ],
   "source": [
    "input('What is your name?\\n')"
   ]
  },
  {
   "cell_type": "markdown",
   "id": "99fbeded-07bf-4a9c-b88b-0f16549d8763",
   "metadata": {},
   "source": [
    "Just getting a user input usually isn't good enough. Let's save it:"
   ]
  },
  {
   "cell_type": "code",
   "execution_count": 16,
   "id": "12c6c949-7e00-4242-a0d0-a8d3d4e892bb",
   "metadata": {},
   "outputs": [
    {
     "name": "stdin",
     "output_type": "stream",
     "text": [
      "What is your name?\n",
      " AJ\n"
     ]
    },
    {
     "name": "stdout",
     "output_type": "stream",
     "text": [
      "Your name is AJ, is that correct?\n"
     ]
    }
   ],
   "source": [
    "user_name = input(\"What is your name?\\n\")\n",
    "print('Your name is %s, is that correct?' %(user_name))"
   ]
  },
  {
   "cell_type": "markdown",
   "id": "429894c3-69b9-4519-acf4-098e38ff3e5b",
   "metadata": {},
   "source": [
    "> **Note:** When the `input()` function executes, program flow stops until the user has given input. The text or message displayed on the output screen to ask a user to enter an input value is optional i.e. the prompt, which will be printed on the screen is optional.\n",
    "\n",
    "> **Note:** Whatever you enter as input, the `input()` function converts it into a string. Even if an integer value is entered, `input()` function converts it into a string. You need to explicitly convert it into an integer in your code using *typecasting*."
   ]
  },
  {
   "cell_type": "code",
   "execution_count": 20,
   "id": "370d5c28-0d97-4a27-9dea-75be3cfa4c82",
   "metadata": {},
   "outputs": [
    {
     "name": "stdin",
     "output_type": "stream",
     "text": [
      "Gimme a number:  42\n"
     ]
    },
    {
     "name": "stdout",
     "output_type": "stream",
     "text": [
      "<class 'str'>\n",
      "Is 42 your number?\n",
      "<class 'int'>\n"
     ]
    }
   ],
   "source": [
    "num = input(\"Gimme a number: \")\n",
    "print(type(num))\n",
    "blurb = int(num)\n",
    "print(\"Is %d your number?\" %(blurb))\n",
    "print(type(blurb))"
   ]
  },
  {
   "cell_type": "markdown",
   "id": "2585aae8-1114-419a-bce8-4d90b8a5561b",
   "metadata": {},
   "source": [
    "## Grabbing multiple inputs\n",
    "\n",
    "Last lesson, we talked about some snazzy string methods. Well, one of them can help us get multiple user inputs at once: `.split()`."
   ]
  },
  {
   "cell_type": "code",
   "execution_count": 27,
   "id": "5ca9630a-97b2-4aae-bf68-c87fecf2d0e9",
   "metadata": {},
   "outputs": [
    {
     "name": "stdin",
     "output_type": "stream",
     "text": [
      "Enter two prime numbers (#, #, etc.):  1, 2\n"
     ]
    }
   ],
   "source": [
    "num1, num2 = input(\"Enter two prime numbers (#, #, etc.): \").split()"
   ]
  },
  {
   "cell_type": "code",
   "execution_count": 31,
   "id": "faa5602d-d13d-4ddf-a7bc-34d06fc47f0d",
   "metadata": {},
   "outputs": [
    {
     "name": "stdin",
     "output_type": "stream",
     "text": [
      "Enter three prime numbers (# # #):  1 2 7\n"
     ]
    },
    {
     "name": "stdout",
     "output_type": "stream",
     "text": [
      "1\n"
     ]
    }
   ],
   "source": [
    "x, y, z = input(\"Enter three prime numbers (# # #): \").split()\n",
    "print(x)"
   ]
  },
  {
   "cell_type": "markdown",
   "id": "499e7df1-02d4-476e-9788-047a593a733b",
   "metadata": {},
   "source": [
    "We can also just grab a whole list of inputs, like so:"
   ]
  },
  {
   "cell_type": "code",
   "execution_count": 26,
   "id": "95a5dfd9-7aae-4824-b8ae-d9c28f2859de",
   "metadata": {},
   "outputs": [
    {
     "name": "stdin",
     "output_type": "stream",
     "text": [
      "Enter prime numbers (# # etc.):  1 2 3\n"
     ]
    },
    {
     "name": "stdout",
     "output_type": "stream",
     "text": [
      "List of primes:  [1, 2, 3]\n"
     ]
    }
   ],
   "source": [
    "some_data = list(map(int, input(\"Enter prime numbers (# # etc.): \").split()))\n",
    "print(\"List of primes: \", some_data)"
   ]
  },
  {
   "cell_type": "markdown",
   "id": "b3dde0d7-c50d-489f-9954-178868cb7219",
   "metadata": {},
   "source": [
    "> Note the differences in user input: the first two ways required commas, but the last doesn't.\n",
    "\n",
    "___\n",
    "Proceed to Assignment 7."
   ]
  }
 ],
 "metadata": {
  "kernelspec": {
   "display_name": "Python 3 (ipykernel)",
   "language": "python",
   "name": "python3"
  },
  "language_info": {
   "codemirror_mode": {
    "name": "ipython",
    "version": 3
   },
   "file_extension": ".py",
   "mimetype": "text/x-python",
   "name": "python",
   "nbconvert_exporter": "python",
   "pygments_lexer": "ipython3",
   "version": "3.12.0"
  }
 },
 "nbformat": 4,
 "nbformat_minor": 5
}
