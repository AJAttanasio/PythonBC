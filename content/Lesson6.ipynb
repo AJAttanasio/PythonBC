{
 "cells": [
  {
   "cell_type": "markdown",
   "id": "bafe2df4-61fb-49a2-afdc-f0a99bed88c2",
   "metadata": {},
   "source": [
    "# Lesson 6: More About Strings\n",
    "___"
   ]
  },
  {
   "cell_type": "markdown",
   "id": "a1287c91-369d-4d89-96e4-019ae7a93743",
   "metadata": {},
   "source": [
    "## Introduction to Strings\n",
    "Words and sentences are fundamental to how we communicate, so it follows that we’d want our computers to be able to work with words and sentences as well.\n",
    "\n",
    "In Python, the way we store something like a word, a sentence, or even a whole paragraph is as a string. A string is a sequence of characters contained within a pair of 'single quotations' or \"double quotations\". A string can be any length and can contain any letters, numbers, symbols, and spaces.\n",
    "\n",
    "> **Note:** In computer science, sequences of characters are referred to as strings. Strings can be any length and can include any character such as letters, numbers, symbols, and whitespace (spaces, tabs, new lines).\n",
    "\n",
    "In this lesson, we'll learn more about strings and how they are treated in Python. We will learn how to slice strings, select specific characters from strings, search strings for characters, iterate through strings, and use strings in conditional statements.\n",
    "\n",
    "Let’s get started.\n",
    "\n",
    "For common tasks, there are often already methods written by someone smart, and working with strings is no different. In this lesson, we'll explore some of the string processing tools that come pre-built within Python’s standard library.\n",
    "\n",
    "> **Note:** Strings are immutable in Python. This means that once a string has been defined, it can’t be changed. There are no mutating methods for strings. This is different from data types like lists, which can be modified once they are created."
   ]
  },
  {
   "cell_type": "markdown",
   "id": "09b1112c-66f0-48f1-afcc-b2ae03fd8d0a",
   "metadata": {},
   "source": [
    "## Indexing strings\n",
    "A string can be thought of as a list of characters. And like any other list, each character in a string has an index.\n",
    "\n",
    "This means that indexing and slicing of strings works just as it does for lists and tuples. See the silly example below:"
   ]
  },
  {
   "cell_type": "code",
   "execution_count": 1,
   "id": "a278af1e-f260-46fe-add8-5a716f2afcd9",
   "metadata": {},
   "outputs": [],
   "source": [
    "fav_fruit = 'blueberry'"
   ]
  },
  {
   "cell_type": "markdown",
   "id": "b4193a5e-5c44-415f-8b80-665d071fbf85",
   "metadata": {},
   "source": [
    "We can select specific letters from this string using the *index* (i.e. the location of a value within a list). So, every character within a string is assigned to a numbered slot within that string. So, just like with lists and tuples, we can extract that information using the ordering and assignment within a string."
   ]
  },
  {
   "cell_type": "code",
   "execution_count": 4,
   "id": "8b238bd0-7e34-4d19-9cc6-8b32b469c79d",
   "metadata": {},
   "outputs": [
    {
     "name": "stdout",
     "output_type": "stream",
     "text": [
      "b\n",
      "l\n",
      "u\n",
      "e\n"
     ]
    }
   ],
   "source": [
    "print(fav_fruit[0])\n",
    "print(fav_fruit[1])\n",
    "print(fav_fruit[2])\n",
    "print(fav_fruit[3])"
   ]
  },
  {
   "cell_type": "markdown",
   "id": "38b3e1ab-11e1-4e1f-8fee-a52c5030c97e",
   "metadata": {},
   "source": [
    "> Note how the output for `fav_fruit[1]` doesn't give you the first letter of \"blueberry\", but instead \"l\". That's because list (and string) indexing begins at `0`, not `1`. Keep that in mind."
   ]
  },
  {
   "cell_type": "code",
   "execution_count": 5,
   "id": "d6ef399c-d2b4-40ad-bd40-3fdfd0a14bbd",
   "metadata": {},
   "outputs": [
    {
     "name": "stdout",
     "output_type": "stream",
     "text": [
      "b\n"
     ]
    }
   ],
   "source": [
    "print(fav_fruit[0])"
   ]
  },
  {
   "cell_type": "markdown",
   "id": "b341d234-c4cf-48e3-940b-2f2290d14a8c",
   "metadata": {},
   "source": [
    "It’s important to note that indices of strings must be integers. If we were to try to select a non-integer index we would get a `TypeError`. \r\n",
    "For example:"
   ]
  },
  {
   "cell_type": "code",
   "execution_count": 7,
   "id": "95d8048e-faed-4d4a-8b07-286f44ff1de1",
   "metadata": {},
   "outputs": [
    {
     "ename": "TypeError",
     "evalue": "string indices must be integers, not 'float'",
     "output_type": "error",
     "traceback": [
      "\u001b[1;31m---------------------------------------------------------------------------\u001b[0m",
      "\u001b[1;31mTypeError\u001b[0m                                 Traceback (most recent call last)",
      "Cell \u001b[1;32mIn[7], line 1\u001b[0m\n\u001b[1;32m----> 1\u001b[0m \u001b[38;5;28mprint\u001b[39m(\u001b[43mfav_fruit\u001b[49m\u001b[43m[\u001b[49m\u001b[38;5;241;43m1.5\u001b[39;49m\u001b[43m]\u001b[49m)\n",
      "\u001b[1;31mTypeError\u001b[0m: string indices must be integers, not 'float'"
     ]
    }
   ],
   "source": [
    "print(fav_fruit[1.5])"
   ]
  },
  {
   "cell_type": "code",
   "execution_count": 8,
   "id": "b4d04aef-e4ed-4aff-980e-5c1b35addfb3",
   "metadata": {},
   "outputs": [
    {
     "ename": "IndexError",
     "evalue": "string index out of range",
     "output_type": "error",
     "traceback": [
      "\u001b[1;31m---------------------------------------------------------------------------\u001b[0m",
      "\u001b[1;31mIndexError\u001b[0m                                Traceback (most recent call last)",
      "Cell \u001b[1;32mIn[8], line 2\u001b[0m\n\u001b[0;32m      1\u001b[0m fruit \u001b[38;5;241m=\u001b[39m \u001b[38;5;124m\"\u001b[39m\u001b[38;5;124mBerry\u001b[39m\u001b[38;5;124m\"\u001b[39m\n\u001b[1;32m----> 2\u001b[0m indx \u001b[38;5;241m=\u001b[39m \u001b[43mfruit\u001b[49m\u001b[43m[\u001b[49m\u001b[38;5;241;43m6\u001b[39;49m\u001b[43m]\u001b[49m\n",
      "\u001b[1;31mIndexError\u001b[0m: string index out of range"
     ]
    }
   ],
   "source": [
    "fruit = \"Berry\"\n",
    "indx = fruit[6]"
   ]
  },
  {
   "cell_type": "markdown",
   "id": "be940406-14d2-47f7-af3b-3a39b63df003",
   "metadata": {},
   "source": [
    "> **`IndexError`:** \n",
    "When indexing into a string in Python, if you try to access an index that doesn’t exist, an `IndexError` is generated. For example, the following code would create an `IndexError`:"
   ]
  },
  {
   "cell_type": "markdown",
   "id": "75184c0a-f843-45b2-93e3-8a154b32f8a1",
   "metadata": {},
   "source": [
    "## Slicing strings\n",
    "\n",
    "More importantly, not only can we select a single character from a string, but we can also select entire chunks of characters from a string via the following syntax:"
   ]
  },
  {
   "cell_type": "code",
   "execution_count": null,
   "id": "f6d9c7d3-64e3-4303-8da9-48d276147b5f",
   "metadata": {},
   "outputs": [],
   "source": [
    "string[first_index:last_index]"
   ]
  },
  {
   "cell_type": "markdown",
   "id": "cc7fc252-5795-4590-97aa-4f8cd66c6fc8",
   "metadata": {},
   "source": [
    "This is called slicing a string. When we slice a string we are creating a substring - a brand new string that starts at (and includes) the `first_index` and ends at (but excludes) the `last_index`.\r\n",
    "\r\n",
    "Let’s look at some examples of this. Recall our favorite fruit:"
   ]
  },
  {
   "cell_type": "code",
   "execution_count": 9,
   "id": "f616f095-730d-45f4-adc6-836541a901fa",
   "metadata": {},
   "outputs": [],
   "source": [
    "fav_fruit = \"blueberry\""
   ]
  },
  {
   "cell_type": "markdown",
   "id": "2f2c2c60-8b5b-4b21-bb0e-cbaf9ef3448d",
   "metadata": {},
   "source": [
    "The indices of the string correspond to the order of the letters, starting at 0 and counting up until you reach that last character.\n",
    "\n",
    "So, if we wanted a new string that contains the letters `be`, we'd need to slice `fav_fruit` as follows:"
   ]
  },
  {
   "cell_type": "code",
   "execution_count": 10,
   "id": "80bbe85d-f1cf-471b-9371-8c21a8af620a",
   "metadata": {},
   "outputs": [
    {
     "name": "stdout",
     "output_type": "stream",
     "text": [
      "be\n"
     ]
    }
   ],
   "source": [
    "print(fav_fruit[4:6]) # output: be"
   ]
  },
  {
   "cell_type": "markdown",
   "id": "bc29de2e-13c6-4acf-92a7-cf8c23220210",
   "metadata": {},
   "source": [
    "Notice how the character at the first index, `b`, is included, but the character at the last index, `r`, is excluded. If you count out the indices 4 and 6 in the string, you can see how the `r` is outside that range.\r\n",
    "\r\n",
    "We can also have open-ended selections. If we remove the first index, the slice starts at the beginning of the string and if we remove the second index the slice continues to the end of the string."
   ]
  },
  {
   "cell_type": "code",
   "execution_count": 11,
   "id": "5fe3ec26-c90c-4ade-b964-cce27df0d263",
   "metadata": {},
   "outputs": [
    {
     "name": "stdout",
     "output_type": "stream",
     "text": [
      "blue\n",
      "berry\n"
     ]
    }
   ],
   "source": [
    "print(fav_fruit[:4]) # output: blue\n",
    "print (fav_fruit[4:]) # output: berry"
   ]
  },
  {
   "cell_type": "markdown",
   "id": "f20863f5-779e-4f2d-bf63-3e3cfb784ce1",
   "metadata": {},
   "source": [
    "Again, notice how the `b` from `berry` is excluded from the first example and included in the second example.\n",
    "\n",
    "Another example:"
   ]
  },
  {
   "cell_type": "code",
   "execution_count": 12,
   "id": "ccec5bb2-25ed-4ec8-8b42-5806b8004d50",
   "metadata": {},
   "outputs": [
    {
     "name": "stdout",
     "output_type": "stream",
     "text": [
      "u\n",
      "The Du\n",
      "TeDd bds\n",
      ".sediba eduD ehT\n"
     ]
    }
   ],
   "source": [
    "my_str = 'The Dude abides.'\n",
    "\n",
    "print(my_str[5])\n",
    "print(my_str[:6])\n",
    "print(my_str[::2])\n",
    "print(my_str[::-1])"
   ]
  },
  {
   "cell_type": "markdown",
   "id": "b742acf1-fc83-49d5-859b-4f8d4aeaa416",
   "metadata": {},
   "source": [
    "> **Indexing and Slicing Strings:** Python strings can be indexed using the same notation as lists, since strings are lists of characters. A single character can be accessed with bracket notation (`[index]`), or a substring can be accessed using slicing (`[start:end]`).Indexing with negative numbers counts from the end of the string."
   ]
  },
  {
   "cell_type": "code",
   "execution_count": 13,
   "id": "9b3153a4-5981-461f-9a8a-b33ff8489f5d",
   "metadata": {},
   "outputs": [
    {
     "data": {
      "text/plain": [
       "'low'"
      ]
     },
     "execution_count": 13,
     "metadata": {},
     "output_type": "execute_result"
    }
   ],
   "source": [
    "str = 'yellow'\n",
    "str[1]     # => 'e'\n",
    "str[-1]    # => 'w'\n",
    "str[4:6]   # => 'ow'\n",
    "str[:4]    # => 'yell'\n",
    "str[-3:]   # => 'low'"
   ]
  },
  {
   "cell_type": "markdown",
   "id": "4b3cd9c2-80a3-4ce1-8425-f1906ceaad97",
   "metadata": {},
   "source": [
    "> **Iterate String:** To iterate through a string in Python, use `for…in` notation."
   ]
  },
  {
   "cell_type": "code",
   "execution_count": 14,
   "id": "52f3bce7-1be7-4996-a7a5-0f48d22b2d90",
   "metadata": {},
   "outputs": [
    {
     "name": "stdout",
     "output_type": "stream",
     "text": [
      "h\n",
      "e\n",
      "l\n",
      "l\n",
      "o\n"
     ]
    }
   ],
   "source": [
    "str = \"hello\"\n",
    "for c in str:\n",
    "  print(c)\n",
    "  \n",
    "# h\n",
    "# e\n",
    "# l\n",
    "# l\n",
    "# o"
   ]
  },
  {
   "cell_type": "markdown",
   "id": "63703b16-f190-4cfd-87b1-3978ddf109c6",
   "metadata": {},
   "source": [
    "Previously, in Lesson 4, we talked about counting the occurances `'G'` within a specific string using a `for` loop. A more efficient method is to use the string method `count()`."
   ]
  },
  {
   "cell_type": "code",
   "execution_count": 16,
   "id": "d417d49f-6488-46bd-9710-b4c98966b2b9",
   "metadata": {},
   "outputs": [
    {
     "data": {
      "text/plain": [
       "8"
      ]
     },
     "execution_count": 16,
     "metadata": {},
     "output_type": "execute_result"
    }
   ],
   "source": [
    "seq = 'GACAGACUCCAUGCACGUGGGUAUCAUGUC' # DNA sequence (a string)\n",
    "\n",
    "seq.count('G') # count G's"
   ]
  },
  {
   "cell_type": "code",
   "execution_count": 17,
   "id": "567a70ed-290e-4025-a754-5ed52f7cc257",
   "metadata": {},
   "outputs": [
    {
     "data": {
      "text/plain": [
       "8"
      ]
     },
     "execution_count": 17,
     "metadata": {},
     "output_type": "execute_result"
    }
   ],
   "source": [
    "seq.count('C') # count C's"
   ]
  },
  {
   "cell_type": "code",
   "execution_count": 19,
   "id": "4b28347d-c2f4-4955-9f85-6dc280260baf",
   "metadata": {},
   "outputs": [
    {
     "data": {
      "text/plain": [
       "16"
      ]
     },
     "execution_count": 19,
     "metadata": {},
     "output_type": "execute_result"
    }
   ],
   "source": [
    "# Count G's and C's\n",
    "seq.count('G') + seq.count('C')"
   ]
  },
  {
   "cell_type": "markdown",
   "id": "079891f6-6b99-40a5-91bc-3afded0f474b",
   "metadata": {},
   "source": [
    "> **Note:** This notation might be a bit new.  We have a variable, followed by a dot (.), and then a function. These functions are called methods in the language of object-oriented programming (OOP). If you have a string my_str, and you want to execute one of Python’s built-in string methods on it, the syntax is:\n",
    "> `my_str.string_method_of_choice(*args)`\n",
    "\n",
    "In general, the count method gives the number of times a substring appears in a string. We can learn more about its behavior by playing with it."
   ]
  },
  {
   "cell_type": "code",
   "execution_count": 20,
   "id": "c2aec302-6e1d-4c08-a18f-93465ff3f4a7",
   "metadata": {},
   "outputs": [
    {
     "data": {
      "text/plain": [
       "2"
      ]
     },
     "execution_count": 20,
     "metadata": {},
     "output_type": "execute_result"
    }
   ],
   "source": [
    "seq.count('GAC') # substrings of more than one characater"
   ]
  },
  {
   "cell_type": "code",
   "execution_count": 21,
   "id": "c3ee717d-1d2e-4278-a8eb-3768519d0fb9",
   "metadata": {},
   "outputs": [
    {
     "data": {
      "text/plain": [
       "3"
      ]
     },
     "execution_count": 21,
     "metadata": {},
     "output_type": "execute_result"
    }
   ],
   "source": [
    "'AAAAAAA'.count('AA') # substrings cannot overlap"
   ]
  },
  {
   "cell_type": "code",
   "execution_count": 12,
   "id": "c29e3284-66a5-43bc-9d5d-7eb27001d36d",
   "metadata": {},
   "outputs": [
    {
     "data": {
      "text/plain": [
       "0"
      ]
     },
     "execution_count": 12,
     "metadata": {},
     "output_type": "execute_result"
    }
   ],
   "source": [
    "seq.count('nonsense') # something that's not there"
   ]
  },
  {
   "cell_type": "markdown",
   "id": "b5d479f5-6aa2-4291-b343-82a366b7124c",
   "metadata": {},
   "source": [
    "## Finding the index of a start codon\r",
    "Another string method, `.find()`, can be used too find the index of the start codon in A sequence."
   ]
  },
  {
   "cell_type": "code",
   "execution_count": 22,
   "id": "b051ec7b-bfe9-4ee1-af91-9446d54997c3",
   "metadata": {},
   "outputs": [
    {
     "data": {
      "text/plain": [
       "10"
      ]
     },
     "execution_count": 22,
     "metadata": {},
     "output_type": "execute_result"
    }
   ],
   "source": [
    "seq.find('AUG')"
   ]
  },
  {
   "cell_type": "code",
   "execution_count": 23,
   "id": "b180b592-a3f5-44d8-8cd2-ed4f3b929188",
   "metadata": {},
   "outputs": [
    {
     "data": {
      "text/plain": [
       "'GACAGACUCCAUGCACGUGGGUAUCAUGUC'"
      ]
     },
     "execution_count": 23,
     "metadata": {},
     "output_type": "execute_result"
    }
   ],
   "source": [
    "seq"
   ]
  },
  {
   "cell_type": "markdown",
   "id": "6a9c53e2-49b0-4b07-b238-1d75dd5d28c8",
   "metadata": {},
   "source": [
    "Wow, that was easy! The `find()` method gives the index where the substring argument first appears. But, what if a substring is not in the string?"
   ]
  },
  {
   "cell_type": "code",
   "execution_count": 14,
   "id": "4a79353c-c131-4a43-bd52-e792339a7666",
   "metadata": {},
   "outputs": [
    {
     "data": {
      "text/plain": [
       "-1"
      ]
     },
     "execution_count": 14,
     "metadata": {},
     "output_type": "execute_result"
    }
   ],
   "source": [
    "seq.find('nonsense')"
   ]
  },
  {
   "cell_type": "markdown",
   "id": "de9afdc3-e829-4fc2-ae72-e30e829b3a47",
   "metadata": {},
   "source": [
    "In this case, `find()` returns `-1`. This shouldn't be interpreted as index `-1`. `find()` always returns positive indices if it finds a substring. Note that you should not use `find()` to test if a substring is present using the in operator we already learned about."
   ]
  },
  {
   "cell_type": "code",
   "execution_count": 15,
   "id": "f343835e-2690-4afd-ab3d-988687095d82",
   "metadata": {},
   "outputs": [
    {
     "data": {
      "text/plain": [
       "True"
      ]
     },
     "execution_count": 15,
     "metadata": {},
     "output_type": "execute_result"
    }
   ],
   "source": [
    "'AUG' in seq"
   ]
  },
  {
   "cell_type": "markdown",
   "id": "39dd2aec-a78e-44d6-a9c6-ccb5c093a19c",
   "metadata": {},
   "source": [
    "> **The `in` Syntax:** The `in` syntax is used to determine if a letter or a substring exists in a string. It returns `True` if a match is found, otherwise `False` is returned.."
   ]
  },
  {
   "cell_type": "code",
   "execution_count": 24,
   "id": "3128a582-ffde-456d-ac4b-dca360bd29ae",
   "metadata": {},
   "outputs": [
    {
     "name": "stdout",
     "output_type": "stream",
     "text": [
      "True\n",
      "False\n"
     ]
    }
   ],
   "source": [
    "game = \"Popular Nintendo Game: Mario Kart\"\n",
    "\n",
    "print(\"t\" in game) # prints: True\n",
    "print(\"x\" in game) # prints: False"
   ]
  },
  {
   "cell_type": "markdown",
   "id": "40ded45d-c9b0-4dec-b58b-6b38dfca66e1",
   "metadata": {},
   "source": [
    "Similar to `find()`, we can use another method `rfind()` to find the last instance of a start codon. Basically, `rfind()` searches a given string from right to left."
   ]
  },
  {
   "cell_type": "code",
   "execution_count": 16,
   "id": "a46848ad-11ff-4da9-ba91-28d88069206f",
   "metadata": {},
   "outputs": [
    {
     "data": {
      "text/plain": [
       "25"
      ]
     },
     "execution_count": 16,
     "metadata": {},
     "output_type": "execute_result"
    }
   ],
   "source": [
    "seq.rfind('AUG')"
   ]
  },
  {
   "cell_type": "code",
   "execution_count": 25,
   "id": "0c32ce20-8fca-4396-98f5-51761bc65288",
   "metadata": {},
   "outputs": [
    {
     "data": {
      "text/plain": [
       "'GACAGACUCCAUGCACGUGGGUAUCAUGUC'"
      ]
     },
     "execution_count": 25,
     "metadata": {},
     "output_type": "execute_result"
    }
   ],
   "source": [
    "seq"
   ]
  },
  {
   "cell_type": "code",
   "execution_count": 26,
   "id": "7ada108d-c459-48ca-b5d3-2d933da54f67",
   "metadata": {},
   "outputs": [
    {
     "data": {
      "text/plain": [
       "30"
      ]
     },
     "execution_count": 26,
     "metadata": {},
     "output_type": "execute_result"
    }
   ],
   "source": [
    "len(seq)"
   ]
  },
  {
   "cell_type": "markdown",
   "id": "1b3516b7-b913-4be0-adcc-d9883ef8980d",
   "metadata": {},
   "source": [
    "## The `join()` method\r\n",
    "One of the most useful string methods is the` join(`) method. Say we have a list of words that we want to craft into a sentence."
   ]
  },
  {
   "cell_type": "code",
   "execution_count": 27,
   "id": "d08e4e39-6a1a-434c-b35d-a247e6ba14fd",
   "metadata": {},
   "outputs": [
    {
     "data": {
      "text/plain": [
       "'TheDudeabides.'"
      ]
     },
     "execution_count": 27,
     "metadata": {},
     "output_type": "execute_result"
    }
   ],
   "source": [
    "word_tuple = ('The', 'Dude', 'abides.')\n",
    "word_tuple[0] + word_tuple[1] + word_tuple[2]"
   ]
  },
  {
   "cell_type": "markdown",
   "id": "15e9dc0f-b4ee-40b6-9257-7eb119bb7715",
   "metadata": {},
   "source": [
    "Now, we want to concatenate them into a single string. (This is sort of like the opposite of taking a string and making a list of its characters by doing a `list()` type conversion.) We need to know what we want to put between each word. In this case, we want a space. Here’s the nifty syntax to do that."
   ]
  },
  {
   "cell_type": "code",
   "execution_count": 28,
   "id": "a7d629d3-ad35-4da0-a638-082b54d772ca",
   "metadata": {},
   "outputs": [
    {
     "data": {
      "text/plain": [
       "'The Dude abides.'"
      ]
     },
     "execution_count": 28,
     "metadata": {},
     "output_type": "execute_result"
    }
   ],
   "source": [
    "' '.join(word_tuple)"
   ]
  },
  {
   "cell_type": "code",
   "execution_count": 29,
   "id": "8502e8ba-0752-4657-92cb-99f0ae6fcd61",
   "metadata": {},
   "outputs": [
    {
     "data": {
      "text/plain": [
       "'The Dude abides.'"
      ]
     },
     "execution_count": 29,
     "metadata": {},
     "output_type": "execute_result"
    }
   ],
   "source": [
    "word_tuple[0] + ' ' + word_tuple[1] + ' ' + word_tuple[2]"
   ]
  },
  {
   "cell_type": "markdown",
   "id": "1835e409-571d-48cb-8400-a1d9c08da181",
   "metadata": {},
   "source": [
    "We now have a single string with the elements of the tuple, separated by spaces. The string before the dot (`.`) specifies what goes between the strings in the list or tuple (or other iterable). If we wanted “`*`” between each word, we could do that, too."
   ]
  },
  {
   "cell_type": "code",
   "execution_count": 30,
   "id": "a9b9aed3-254a-4963-a8ed-70dd50f7fbb9",
   "metadata": {},
   "outputs": [
    {
     "data": {
      "text/plain": [
       "'The * Dude * abides.'"
      ]
     },
     "execution_count": 30,
     "metadata": {},
     "output_type": "execute_result"
    }
   ],
   "source": [
    "' * '.join(word_tuple)"
   ]
  },
  {
   "cell_type": "markdown",
   "id": "90b35ac9-2bf1-477a-aa90-aba5b5f6a71f",
   "metadata": {},
   "source": [
    "> **String Concatenation:** To combine the content of two strings into a single string, Python provides the + operator. This process of joining strings is called concatenation."
   ]
  },
  {
   "cell_type": "code",
   "execution_count": 31,
   "id": "15fb5745-e3d5-4d2c-a155-82546a58679b",
   "metadata": {},
   "outputs": [
    {
     "name": "stdout",
     "output_type": "stream",
     "text": [
      "One fish, two fish.\n"
     ]
    }
   ],
   "source": [
    "x = 'One fish, '\n",
    "y = 'two fish.'\n",
    "\n",
    "z = x + y\n",
    "print(z) # output: One fish, two fish."
   ]
  },
  {
   "cell_type": "markdown",
   "id": "3d5d0309-280e-4d00-ad1a-f5c689f77704",
   "metadata": {},
   "source": [
    "## The `format()` method\n",
    "The `format()` method is incredibly powerful. We won't go over all use cases here, but let's see one of the more intuitive and commonly used cases. Again, this is best learned by example."
   ]
  },
  {
   "cell_type": "code",
   "execution_count": 34,
   "id": "9fde120e-4668-45e4-94c6-3ee1a58e0333",
   "metadata": {},
   "outputs": [
    {
     "name": "stdout",
     "output_type": "stream",
     "text": [
      "\n",
      "Let's do a Mad Lib!\n",
      "During this camp, I feel truculent.\n",
      "The instructor give us haircuts.\n",
      "\n"
     ]
    }
   ],
   "source": [
    "my_str = \"\"\"\n",
    "Let's do a Mad Lib!\n",
    "During this camp, I feel {adjective}.\n",
    "The instructor give us {plural_noun}.\n",
    "\"\"\".format(adjective='truculent', plural_noun='haircuts')\n",
    "\n",
    "print(my_str)"
   ]
  },
  {
   "cell_type": "markdown",
   "id": "0852fc62-a0ba-4495-9b8a-46759c5119bb",
   "metadata": {},
   "source": [
    "See the pattern? Given a string, the `format()` method takes kwargs that are themselves strings. Within the string, the name of the kwargs are given in braces. Then, the arguments in the `format()` method inserts the strings at the places delimited by braces.\n",
    "\n",
    "Now, what if we want to insert a number into a string? We could convert it to a string, but we should instead use **string conversions**. These are short directives that specify how the number should be represented in a string. A complete list is here. The table below shows some that are commonly used."
   ]
  },
  {
   "cell_type": "markdown",
   "id": "a0dfd06b-a26d-4706-9b95-e9fec12e2fc2",
   "metadata": {},
   "source": [
    "| **conversion** | **description**                                          |\n",
    "|:---------------|:---------------------------------------------------------|\n",
    "| `d`            | integer                                                  |\n",
    "| `04d`          | integer with four digits, possibly with leading zeros    |\n",
    "| `f`            | float, default to six digits after decimal               |\n",
    "| `.8f`          | float with 8 digits after the decimal                    |\n",
    "| `e`            | scientific notation, default to six digits after decimal |\n",
    "| `.16e`         | scientific notation with 16 digits after the decimal     |\n",
    "| `s`            | display as a string                                      |"
   ]
  },
  {
   "cell_type": "code",
   "execution_count": 35,
   "id": "ff8ec55b-4056-491d-beea-0f9f85c8c12f",
   "metadata": {},
   "outputs": [
    {
     "name": "stdout",
     "output_type": "stream",
     "text": [
      "There are 50 states in the US.\n",
      "Your file number is 23.\n",
      "π is approximately 3.140000.\n",
      "e is approximately 2.71828183.\n",
      "Avogadro's number is approximately 6.022000e+23.\n",
      "ε₀ is approximately 8.8541878170000005e-12 F/m.\n",
      "That rug really tied the room together.\n"
     ]
    }
   ],
   "source": [
    "print('There are {n:d} states in the US.'.format(n=50))\n",
    "print('Your file number is {n:d}.'.format(n=23))\n",
    "print('π is approximately {pi:f}.'.format(pi=3.14))\n",
    "print('e is approximately {e:.8f}.'.format(e=2.7182818284590451))\n",
    "print(\"Avogadro's number is approximately {N_A:e}.\".format(N_A=6.022e23))\n",
    "print('ε₀ is approximately {eps_0:.16e} F/m.'.format(eps_0=8.854187817e-12))\n",
    "print('That {thing:s} really tied the room together.'.format(thing='rug'))"
   ]
  },
  {
   "cell_type": "markdown",
   "id": "9a3d710b-2277-4491-9fd3-7cb96c8ab345",
   "metadata": {},
   "source": [
    "Note the syntax. In the braces, we specify the name of the kwarg, and then we put a colon followed by the string conversion. Note also that I used double quotes on the outside of the string containing Avogadro’s number so that I could include an apostrophe in the string. Finally, note that we got a subscript zero using the Unicode character, `₀`."
   ]
  },
  {
   "cell_type": "markdown",
   "id": "854bc83b-95bb-4577-9f0a-cdd745804b6b",
   "metadata": {},
   "source": [
    "## f-strings\n",
    "**f-strings** are strings that are prefixed with an `f` or `F` that allow convenient insertion of entries into strings. Such as:"
   ]
  },
  {
   "cell_type": "code",
   "execution_count": 39,
   "id": "1b93dfb5-e101-4935-ad65-58cf82c072e5",
   "metadata": {},
   "outputs": [
    {
     "name": "stdout",
     "output_type": "stream",
     "text": [
      "There are 50 states in the US.\n",
      "Your file number is 23.\n",
      "π is approximately 3.14.\n",
      "e is approximately 2.71828183.\n",
      "Avogadro's number is approximately 6.022e+23.\n",
      "ε₀ is approximately 8.854187817e-12 F/m.\n",
      "That rug really tied the room together.\n"
     ]
    }
   ],
   "source": [
    "n_states = 50\n",
    "file_number = 23\n",
    "pi = 3.14\n",
    "e = 2.7182818284590451\n",
    "N_A = 6.022e23\n",
    "eps_0=8.854187817e-12\n",
    "thing = 'rug'\n",
    "\n",
    "print(f'There are {n_states} states in the US.')\n",
    "print(f'Your file number is {file_number}.')\n",
    "print(f'π is approximately {pi}.')\n",
    "print(f'e is approximately {e:.8f}.')\n",
    "print(f\"Avogadro's number is approximately {N_A}.\")\n",
    "print(f'ε₀ is approximately {eps_0} F/m.')\n",
    "print(f'That {thing} really tied the room together.')"
   ]
  },
  {
   "cell_type": "markdown",
   "id": "91ec1ea7-0e1f-4e6a-94c5-f36383ab43b1",
   "metadata": {},
   "source": [
    "## And so much more!\n",
    "\n",
    "A few other string methods you may find particularly useful in your programming forays are:\n",
    "- `.lower()` : returns a string with all uppercase characters converted into lowercase.\n",
    "- `.upper()` : returns a string with all lowercase characters converted into uppercase.\n",
    "- `.strip()` : used to remove characters from the beginning and end of a string. A string argument can be passed to the method, specifying the set of characters to be stripped. With no arguments to the method, whitespace is removed.\n",
    "- `.split()` : splits a string into a list of items. If no argument is passed, the default behavior is to split on whitespace. If an argument is passed to the method, that value is used as the delimiter on which to split the string.\n",
    "- `.replace()` : returns a copy of the string with all occurrences of given substring replaced by a different substring. If the optional argument `count` is given, only the first `count` occurrences are replaced.\n",
    "\n",
    "> **Note:** You can find a complete list of string methods from the [Python doc](https://docs.python.org/3/library/stdtypes.html#string-methods) pages. Various methods will come in handy when parsing strings going forward.\n",
    "\n",
    "___\n",
    "\n",
    "Proceed to Assignment 6."
   ]
  },
  {
   "cell_type": "code",
   "execution_count": 47,
   "id": "04d0db59-24f3-408f-b808-cd00ed893fcd",
   "metadata": {},
   "outputs": [],
   "source": [
    "num_str = 'i love blue berries'.split()"
   ]
  },
  {
   "cell_type": "code",
   "execution_count": 48,
   "id": "c93ff30f-3bfb-401a-b6d1-de536ac4708d",
   "metadata": {},
   "outputs": [
    {
     "data": {
      "text/plain": [
       "4"
      ]
     },
     "execution_count": 48,
     "metadata": {},
     "output_type": "execute_result"
    }
   ],
   "source": [
    "len(num_str)"
   ]
  },
  {
   "cell_type": "code",
   "execution_count": 50,
   "id": "baaaa4d9-a6d2-4c65-9cdc-fcd6f6458a76",
   "metadata": {},
   "outputs": [
    {
     "name": "stdin",
     "output_type": "stream",
     "text": [
      "What is your name? ayla jesimus black attanasio\n"
     ]
    },
    {
     "data": {
      "text/plain": [
       "'ayla jesimus black attanasio'"
      ]
     },
     "execution_count": 50,
     "metadata": {},
     "output_type": "execute_result"
    }
   ],
   "source": [
    "input(\"What is your name?\")"
   ]
  },
  {
   "cell_type": "code",
   "execution_count": null,
   "id": "323778f0-0e8b-471b-8dd6-4dadcf5ec54b",
   "metadata": {},
   "outputs": [],
   "source": []
  }
 ],
 "metadata": {
  "kernelspec": {
   "display_name": "Python 3 (ipykernel)",
   "language": "python",
   "name": "python3"
  },
  "language_info": {
   "codemirror_mode": {
    "name": "ipython",
    "version": 3
   },
   "file_extension": ".py",
   "mimetype": "text/x-python",
   "name": "python",
   "nbconvert_exporter": "python",
   "pygments_lexer": "ipython3",
   "version": "3.11.4"
  }
 },
 "nbformat": 4,
 "nbformat_minor": 5
}
