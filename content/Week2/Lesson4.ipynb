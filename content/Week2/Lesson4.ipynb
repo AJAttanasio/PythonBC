{
 "cells": [
  {
   "cell_type": "markdown",
   "id": "6ca9bb69-f960-4611-a931-b5563a01920b",
   "metadata": {},
   "source": [
    "# Lesson 4: Loops\n",
    "\n",
    "___"
   ]
  },
  {
   "cell_type": "markdown",
   "id": "6c788f0f-1c12-4144-a5aa-15e750a05e58",
   "metadata": {},
   "source": [
    "In our normal everyday, we tend to repeat a lot of processes, sometimes without noticing. For example, if you want to cook a recipe, you might need to prepare ingredients by chopping them up. You chop and chop and chop until all the ingredients are the right size. At this point, you stop chopping. If we break down this chopping task into a series of three smaller steps, we have:\n",
    "- An **initialization**: We’re ready to cook and have a collection of ingredients we want to chop. We will start at the first ingredient.\n",
    "- A **repetition**: We’re chopping away. We are performing the action of chopping over and over on each of our ingredients, one ingredient at a time.\n",
    "- An **end condition**: We see that we have run out of ingredients to chop, so we stop.\n",
    "\n",
    "In programming, this process of using an initialization, repetitions, and an ending condition is called a **loop**. In a loop, we perform a process of **iteration** or *repeating tasks*. And just like we can automate chopping with a food processor, we can also automate other tasks via loops.\n",
    "\n",
    "Programming languages like Python implement two types of iteration:\n",
    "- **Indefinite iteration**, where the number of times the loop is executed depends on how many times a condition is met.\n",
    "- **Definite iteration**, where the number of times the loop will be executed is defined in advance (usually based on the data set size).\n",
    "\n",
    "> **List Comprehension:** \n",
    "Python list comprehensions provide a concise way for creating lists. It consists of brackets containing an expression followed by a for clause, then zero or more for or if clauses:` [EXPRESSION for ITEM in LIST <if CONDITIONAL>`].\r\n",
    "\r\n",
    "The expressions can be anything - any kind of object can go into a list.\r\n",
    "\r\n",
    "A list comprehension always returns a list.\n",
    "\n",
    "There are two kinds of loops we'll be discussing during this bootcamp: `for` and `while`.\n",
    "\n",
    "___\n",
    "\n",
    "## `For` Loops\n",
    "\n",
    "To begin with, let's talk about `for` loops.\n",
    "\n",
    "In Python, a `for` loop can be used to iterate over a list of items and perform a set of actions on each item. The syntax of a `for` loop consists of assigning a temporary value to a variable on each successive iteration. When writing a for `loop`, remember to properly indent each action, otherwise an `IndentationError` will result.\n",
    "\n",
    "In a `for` loop, we'll know in advance how many times the loop will need to iterate because we'll be working on a collection with a predefined length. We'll be using lists as our collecetion of elements in the next few examples. With `for` loops, on each iteration, we will be able to perform an action on each element of the collection.\n",
    "\n",
    "The general structure of a `for` loop is as follows:"
   ]
  },
  {
   "cell_type": "code",
   "execution_count": null,
   "id": "48d6bf21-dc0c-4c22-ac70-3959d0744839",
   "metadata": {},
   "outputs": [],
   "source": [
    "for <temporary variable> in <collection>:\n",
    "  <action>"
   ]
  },
  {
   "cell_type": "code",
   "execution_count": 1,
   "id": "fd9a8a5b-61d4-40fc-a883-7ad5090e4f9c",
   "metadata": {},
   "outputs": [
    {
     "name": "stdout",
     "output_type": "stream",
     "text": [
      "It is now 1 second after noon.\n",
      "It is now 2 second after noon.\n",
      "It is now 3 second after noon.\n",
      "It is now 4 second after noon.\n",
      "It is now 5 second after noon.\n"
     ]
    }
   ],
   "source": [
    "time = 0 # temporary variable\n",
    "space = (1, 2, 3, 4, 5) # collection\n",
    "for time in space:\n",
    "    print(\"It is now %d second after noon.\" %(time))"
   ]
  },
  {
   "cell_type": "markdown",
   "id": "dc876474-6409-4925-8671-0f7a03b36095",
   "metadata": {},
   "source": [
    "1. A `for` keyword indicates the start of a `for` loop.\n",
    "2. A `<temporary variable>` that is used to represent the value of the element in the collection the loop is currently on.\n",
    "3. An `in` keyword separates the temporary variable from the collection used for iteration.\n",
    "4. A `<collection>` to loop over. In our examples, we will be using a list.\n",
    "5. An `<action>` to do anything on every iteration of the loop.\n",
    "\n",
    "### Temporary Variables\n",
    "\n",
    "A temporary variable’s name is arbitrary and does not need to be defined beforehand. Both of the following code snippets do the exact same thing, regardless of the temporary variable's name:"
   ]
  },
  {
   "cell_type": "code",
   "execution_count": 2,
   "id": "ac238c2c-89f9-4688-8916-35fd2d92322c",
   "metadata": {},
   "outputs": [
    {
     "name": "stdout",
     "output_type": "stream",
     "text": [
      "flour\n",
      "milk\n",
      "eggs\n",
      "sugar\n",
      "salt\n"
     ]
    }
   ],
   "source": [
    "ingredients = ['flour', 'milk', 'eggs', 'sugar', 'salt'] # collection\n",
    "\n",
    "for i in ingredients:\n",
    "  print(i)"
   ]
  },
  {
   "cell_type": "code",
   "execution_count": 3,
   "id": "397499b3-a74a-4222-b879-b6525a0d110e",
   "metadata": {},
   "outputs": [
    {
     "name": "stdout",
     "output_type": "stream",
     "text": [
      "flour\n",
      "milk\n",
      "eggs\n",
      "sugar\n",
      "salt\n"
     ]
    }
   ],
   "source": [
    "for item in ingredients:\n",
    "  print(item)"
   ]
  },
  {
   "cell_type": "markdown",
   "id": "0f44aba4-efe8-4928-9aa5-a66b8ca459d1",
   "metadata": {},
   "source": [
    "Programming best practices suggest that temporary variables be as descriptive as possible. Since each iteration (*step*) of the loop is accessing an ingredient, it makes more sense to call the temporary variable `ingredient` rather than `i` or `item`. Comments are also reccomennded to ensure clarity within a script or program.\n",
    "\n",
    "### Indentation\n",
    "\n",
    "Note that in all of these examples the `print` statement is indented. Everything at the same level of indentation after the `for` loop declaration is included in the loop body and is run on every iteration of the loop. This is the same as the case of `if-else` statements defined in a previous lesson.\n",
    "\n",
    "If you ever forget to indent, you’ll get an `IndentationError` or, perhaps worse, *unexpected behavior*. So watch your indentations carefully."
   ]
  },
  {
   "cell_type": "code",
   "execution_count": null,
   "id": "9afb5ec9-f3c3-41ad-b4df-bab2ecc8d4d1",
   "metadata": {},
   "outputs": [],
   "source": [
    "for ingredient in ingredients:\n",
    "    # Note the indentation\n",
    "    # Any code at this level of indentation will run on each iteration of the loop\n",
    "print(ingredient)"
   ]
  },
  {
   "cell_type": "markdown",
   "id": "7de580ec-a623-4f0e-a8e6-bbe4a928212a",
   "metadata": {},
   "source": [
    "### Elegance in Programming\n",
    "\n",
    "As an aside, Python loves to help us write elegant code, so it allows us to write simple `for` loops in one-line.\n",
    "\n",
    "> **Note:** One-line `for` loops are useful for simple programs. I don't recommended you write one-line loops for any loop that has to perform multiple complex actions on each iteration. Doing so will hurt the readability of your code and may ultimately lead to buggier code and a headache-inducing debugging session (or five).\n",
    "\n",
    "Here is the previous example in a single line:"
   ]
  },
  {
   "cell_type": "code",
   "execution_count": 4,
   "id": "0e09a3f4-3f08-4ef0-866d-5f87ee6f692e",
   "metadata": {},
   "outputs": [
    {
     "name": "stdout",
     "output_type": "stream",
     "text": [
      "flour\n",
      "milk\n",
      "eggs\n",
      "sugar\n",
      "salt\n"
     ]
    }
   ],
   "source": [
    "for ingredient in ingredients: print(ingredient)"
   ]
  },
  {
   "cell_type": "markdown",
   "id": "eaab981e-cf8d-4996-ab18-3283bd543ad7",
   "metadata": {},
   "source": [
    "> **Note:** If you're not sure how many times you should run a `for` loop, Python has a built-in function (like `print()` is a built-in function) to compute the length of a string (or list, tuple, or any other sequence). To find out the length of a sequence, simply use it as an argument to the `len()` function."
   ]
  },
  {
   "cell_type": "code",
   "execution_count": 5,
   "id": "5e5000a4-ff07-456f-8b62-63b8dad66eee",
   "metadata": {},
   "outputs": [
    {
     "data": {
      "text/plain": [
       "5"
      ]
     },
     "execution_count": 5,
     "metadata": {},
     "output_type": "execute_result"
    }
   ],
   "source": [
    "len(ingredients) # find length (size) of collection"
   ]
  },
  {
   "cell_type": "markdown",
   "id": "3d46e629-0f08-4575-b107-79f4c329400f",
   "metadata": {},
   "source": [
    "## Iterators\n",
    "\n",
    "In previous examples, we iterated over a sequence (a list of ingredients). A sequence is one of many iterable objects, called **iterables**. Under the hood, the Python interpreter actually converts an iterable to an iterator. An **iterator** is a special object that gives values in succession. A major difference between a sequence and an iterator is that you cannot index an iterator. This seems like a trivial difference, but iterators make for more efficient computing than directly using a sequence with indexing.\n",
    "\n",
    "We can explicitly convert a sequence to an iterator using the built-in function `iter()`, but wen't bother with that here because the Python interpreter automatically does this for you when you use a sequence in a loop.\n",
    "\n",
    "> **Note:** When the list is converted to an iterator, a copy is made of each element so the original list is unchanged.\n",
    "\n",
    "Instead, now we'll explore how to create useful iterators using the `range()`, `enumerate()`, and `zip()` built-in functions of Python. We haven't covered functions yet (stay patient, it's coming), but the syntax isn't so complicated that you won't be able to understand what these functions are doing, just like with the `print()` and `len()` pre-built functions."
   ]
  },
  {
   "cell_type": "markdown",
   "id": "e95144d2-a3c5-434c-adf5-1e5a9332eaf5",
   "metadata": {},
   "source": [
    "### `range()` function\n",
    "\n",
    "The `range()` function gives an iterable that enables counting."
   ]
  },
  {
   "cell_type": "code",
   "execution_count": 6,
   "id": "59aed56e-f3ce-4508-aa0b-9a861958350a",
   "metadata": {},
   "outputs": [
    {
     "name": "stdout",
     "output_type": "stream",
     "text": [
      "0  1  2  3  4  5  6  7  8  9  "
     ]
    }
   ],
   "source": [
    "for i in range(10):\n",
    "    print(i, end='  ')"
   ]
  },
  {
   "cell_type": "markdown",
   "id": "a20b5b8b-48d1-4749-907c-2e03f522871f",
   "metadata": {},
   "source": [
    "Note that `range(10)` gives us ten numbers, from 0 to 9. As with indexing, `range()` inclusively starts at zero by default, and the ending is exclusive.\n",
    "\n",
    "It turns out that the arguments of the `range()` function work much like indexing. If you have a single argument, you get that many integers, starting at 0 and incrementing by one. If you give two arguments, you start inclusively at the first and increment by one ending exclusively at the second argument. Finally, you can specify a stride with the third argument."
   ]
  },
  {
   "cell_type": "code",
   "execution_count": 7,
   "id": "c41d48ca-541b-429c-a72e-e868465695cd",
   "metadata": {},
   "outputs": [
    {
     "name": "stdout",
     "output_type": "stream",
     "text": [
      "2  3  4  5  6  7  8  9  "
     ]
    }
   ],
   "source": [
    "# Print numbers 2 through 9\n",
    "for i in range(2, 10):\n",
    "    print(i, end='  ')"
   ]
  },
  {
   "cell_type": "code",
   "execution_count": 8,
   "id": "c67468f7-93b2-4e7a-93b2-cce20cf71e61",
   "metadata": {},
   "outputs": [
    {
     "name": "stdout",
     "output_type": "stream",
     "text": [
      "2     4     6     8     "
     ]
    }
   ],
   "source": [
    "# Print even numbers, 2 through 8\n",
    "for i in range(2, 10, 2):\n",
    "    print(i, end='     ')"
   ]
  },
  {
   "cell_type": "markdown",
   "id": "b8745185-9845-4642-8960-d1b64f156c0a",
   "metadata": {},
   "source": [
    "It's often useful to make a list or tuple that has the same entries that a corresponding range object would have. This can be done via type conversion."
   ]
  },
  {
   "cell_type": "code",
   "execution_count": 9,
   "id": "a280544e-de0a-45ef-9095-f91f91ccc98e",
   "metadata": {},
   "outputs": [
    {
     "data": {
      "text/plain": [
       "[0, 1, 2, 3, 4, 5, 6, 7, 8, 9]"
      ]
     },
     "execution_count": 9,
     "metadata": {},
     "output_type": "execute_result"
    }
   ],
   "source": [
    "list(range(10))"
   ]
  },
  {
   "cell_type": "code",
   "execution_count": 10,
   "id": "bba76fb4-984b-4481-ac29-1a7227092240",
   "metadata": {},
   "outputs": [
    {
     "data": {
      "text/plain": [
       "[2, 4, 6, 8, 10]"
      ]
     },
     "execution_count": 10,
     "metadata": {},
     "output_type": "execute_result"
    }
   ],
   "source": [
    "my_integers = [1, 2, 3, 4, 5]\n",
    "\n",
    "# Since len(my_integers) = 5, this takes i from 0 to 4, exactly the number of indices (or length) of my_integers\n",
    "for i in range(len(my_integers)):\n",
    "    my_integers[i] *= 2 # my_integers[i] = 2*my_integers[i]\n",
    "\n",
    "my_integers"
   ]
  },
  {
   "cell_type": "code",
   "execution_count": 11,
   "id": "2df6cfc7-d0e5-4bbd-b083-e16f9e7914c5",
   "metadata": {},
   "outputs": [
    {
     "data": {
      "text/plain": [
       "[2, 4, 6, 8, 10]"
      ]
     },
     "execution_count": 11,
     "metadata": {},
     "output_type": "execute_result"
    }
   ],
   "source": [
    "for i in my_integers:\n",
    "    i *= 2\n",
    "\n",
    "my_integers"
   ]
  },
  {
   "cell_type": "markdown",
   "id": "8ac7fb33-7f00-4565-859a-1ada37625316",
   "metadata": {},
   "source": [
    "### `enumerate()` function\n",
    "\n",
    "Let’s say we want to print the indices of all `G` bases in a DNA sequence."
   ]
  },
  {
   "cell_type": "code",
   "execution_count": 12,
   "id": "8709a669-630b-47b7-adec-6dcfdd57b415",
   "metadata": {},
   "outputs": [
    {
     "name": "stdout",
     "output_type": "stream",
     "text": [
      "1  3  5  10  14  22  "
     ]
    }
   ],
   "source": [
    "n_gc = 0 # Initialize GC counter\n",
    "len_seq = 0 # Initialized sequence length\n",
    "seq = 'GACAGACUCCAUGCACGUGGGUAUCUGUC' # The sequence we want to analyze\n",
    "test = 'Aa' # base to be found\n",
    "\n",
    "# Loop through sequence and print index of G's\n",
    "for base in seq:\n",
    "    if base in test:\n",
    "        print(len_seq, end='  ')\n",
    "    len_seq += 1 # len_seq = len_seq + 1"
   ]
  },
  {
   "cell_type": "markdown",
   "id": "26ca02e0-5fd7-4360-aba5-1a19f8ffa229",
   "metadata": {},
   "source": [
    "This isn't so bad, but there's an easier way to do it. The `enumerate()` function gives an iterator that provides both the index and the item of a sequence. This means the `enumerate()` function would allow us to use an index and a base at the same time.\n",
    "\n",
    "It's best demonstrated in practice."
   ]
  },
  {
   "cell_type": "code",
   "execution_count": 13,
   "id": "73687a8e-59e9-486c-8749-c98cb413b217",
   "metadata": {},
   "outputs": [
    {
     "name": "stdout",
     "output_type": "stream",
     "text": [
      "0  4  12  16  18  19  20  26  "
     ]
    }
   ],
   "source": [
    "seq = 'GACAGACUCCAUGCACGUGGGUAUCUGUC' # The sequence we want to analyze\n",
    "\n",
    "# Loop through sequence and print index of G's\n",
    "for i, base in enumerate(seq):\n",
    "    if base in 'Gg':\n",
    "        print(i, end='  ')"
   ]
  },
  {
   "cell_type": "markdown",
   "id": "292df972-dd00-4595-a3f9-651fdc8db33e",
   "metadata": {},
   "source": [
    "To make it clearer, we can print the index and base type for each base in the sequence."
   ]
  },
  {
   "cell_type": "code",
   "execution_count": null,
   "id": "9a94c6cb-0a2c-4ea8-8de5-46b54dee48aa",
   "metadata": {},
   "outputs": [],
   "source": [
    "# Print index and identity of bases\n",
    "for i, base in enumerate(seq):\n",
    "    print(i, base)"
   ]
  },
  {
   "cell_type": "markdown",
   "id": "2309cd89-66ad-40f1-8f55-96b8c14dc594",
   "metadata": {},
   "source": [
    "The `enumerate()` function is very useful and should be used in favor of just doing indexing. For example, many programmers, especially those first trained in lower-level languages, would write the above code similar to how we did but with the `range()` and `len()` functions, but this is not good practice in Python."
   ]
  },
  {
   "cell_type": "code",
   "execution_count": 14,
   "id": "be5506cd-9889-4aca-89af-29b01d3d88b6",
   "metadata": {},
   "outputs": [
    {
     "data": {
      "text/plain": [
       "[2, 4, 6, 8, 10]"
      ]
     },
     "execution_count": 14,
     "metadata": {},
     "output_type": "execute_result"
    }
   ],
   "source": [
    "# list doubling code\n",
    "my_integers = [1, 2, 3, 4, 5]\n",
    "\n",
    "# Double each one\n",
    "for i, _ in enumerate(my_integers):\n",
    "    my_integers[i] *= 2\n",
    "\n",
    "# Check out the result\n",
    "my_integers"
   ]
  },
  {
   "cell_type": "markdown",
   "id": "931672dd-8877-4329-bab6-e82d1f127d86",
   "metadata": {},
   "source": [
    "`enumerate()` is more generic and the overhead for returning a reference to an object isn’t an issue. The `range(len())` construct would break on an object without support for `len()`. In addition, you're more likely to introduce bugs by imposing indexing on objects that are iterable but not unambiguously indexable. So, it's better to use `enumerate()`.\n",
    "\n",
    "> **No:te** Sometimes the underscore character `_` is used in a variable name to denote it , as a throwaway variable that isn't actually used. There is no rule for this, but this is generally accepted Python syntax and helps signal tha the underscored variable isn't going to be used.\n",
    "\n",
    "One last gotcha: if we tried to do a similar technique with a stringd, we get a `TypeError` because a string is immutable."
   ]
  },
  {
   "cell_type": "code",
   "execution_count": null,
   "id": "2856e685-fcdd-4ab3-8aef-4f84bcc41fe8",
   "metadata": {},
   "outputs": [],
   "source": [
    "# Try to convert capital G to lower g\n",
    "for i, base in enumerate(seq):\n",
    "    if base == 'G':\n",
    "        seq[i] = 'g'"
   ]
  },
  {
   "cell_type": "markdown",
   "id": "982cd673-1fae-4e53-91a0-61c5a4348573",
   "metadata": {},
   "source": [
    "### `zip()` function\n",
    "\n",
    "The `zip()` function enables us to iterate over several iterables at once. For example, let's iterate over the jersey numbers, names, and positions of the players on the US women’s national soccer team who were named to the best eleven of the 2019 World Cup in France."
   ]
  },
  {
   "cell_type": "code",
   "execution_count": 15,
   "id": "fdfce7a3-197d-46de-be49-4da08587004f",
   "metadata": {},
   "outputs": [
    {
     "name": "stdout",
     "output_type": "stream",
     "text": [
      "19 Dunn D\n",
      "8 Ertz MF\n",
      "16 Lavelle MF\n",
      "15 Rapinoe F\n"
     ]
    }
   ],
   "source": [
    "names = ('Dunn', 'Ertz', 'Lavelle', 'Rapinoe')\n",
    "positions = ('D', 'MF', 'MF', 'F')\n",
    "numbers = (19, 8, 16, 15)\n",
    "\n",
    "for num, pos, name in zip(numbers, positions, names):\n",
    "    print(num, name, pos)"
   ]
  },
  {
   "cell_type": "markdown",
   "id": "22bdffa4-c593-470e-b715-91f470086db6",
   "metadata": {},
   "source": [
    "### `reversed()` function\n",
    "\n",
    "This function is useful for giving an iterator that goes in the reverse direction. Instead of incrementing up through a list or sequence, we'd start at the end and work our way down. This will come in handy in the next lesson."
   ]
  },
  {
   "cell_type": "code",
   "execution_count": 16,
   "id": "01c82974-da72-4b4c-a1bc-57a0160cfda1",
   "metadata": {},
   "outputs": [
    {
     "name": "stdout",
     "output_type": "stream",
     "text": [
      "10\n",
      "9\n",
      "8\n",
      "7\n",
      "6\n",
      "5\n",
      "4\n",
      "3\n",
      "2\n",
      "1\n",
      "ignition\n"
     ]
    }
   ],
   "source": [
    "# NASA count down script\n",
    "count_up = ('ignition', 1, 2, 3, 4, 5, 6, 7, 8 ,9, 10)\n",
    "\n",
    "for count in reversed(count_up):\n",
    "    print(count)"
   ]
  },
  {
   "cell_type": "markdown",
   "id": "f6f3c175-77a3-4b51-b69d-4f706161a665",
   "metadata": {},
   "source": [
    "## `While` Loops\n",
    "\n",
    "The `for` loop is very powerful and allows us to construct iterative calculations. But when we use a `for` loop, we need to set up an iterator. A `while` loop, on the other hand, allows iteration until a conditional expression evaluates `False`.\n",
    "\n",
    "Specifically, in Python, a `while` loop will repeatedly execute a code block as long as a condition evaluates to `True`. The condition of a `while` loop is always checked first before the block of code runs. If the condition is not initially met, then the code block will never run.\n",
    "\n",
    "> **Note:** A *codon* roughlys means the three consecutive bases that code for an amino acid. That means that for a three-base sequence to be a codon, it must be in-register with the start codon.\n",
    ">\n",
    "> We're being a bit looser with the definition here and taking *codon* to mean any three consecutive bases for ease of programming."
   ]
  },
  {
   "cell_type": "code",
   "execution_count": 17,
   "id": "f1d1ff40-ffe3-424c-9896-ce0868510951",
   "metadata": {},
   "outputs": [
    {
     "name": "stdout",
     "output_type": "stream",
     "text": [
      "The start codon starts at index 10\n"
     ]
    }
   ],
   "source": [
    "seq = 'GACAGACUCCAUGCACGUGGGUAUCUGUC' # The sequence we want to analyze\n",
    "start_codon = 'AUG' # define start codon (piece of sequence we're looking for)\n",
    "i = 0 # Initialize sequence index\n",
    "\n",
    "# Scan sequence by three's until we hit the start codon\n",
    "while seq[i:i+3] != start_codon:\n",
    "    i += 1\n",
    "\n",
    "# Show the result\n",
    "print('The start codon starts at index', i)"
   ]
  },
  {
   "cell_type": "markdown",
   "id": "68e933f1-dddb-4a58-b28e-9d29ba2827dd",
   "metadata": {},
   "source": [
    "Let’s walk through this `while` loop. The value of `i` (temporary variable) is changing with each iteration, incrementing by one. Each time we consider doing another iteration, the conditional is checked: do the next three bases match the start codon? We set up the conditional to evaluate to `True` when the bases are not the start codon, so the iteration continues. In other words, iteration continues in a `while` loop until the conditional returns `False`.\n",
    "\n",
    "> **Note:** We sliced the string the same way we sliced lists and tuples. In the case of strings, a slice gives another string, i.e., a sequential collection of characters.\n",
    "\n",
    "Let’s try looking for another codon... Except let’s actually not do that. If you run the code below, it'll run forever and nothing will ever print to the screen."
   ]
  },
  {
   "cell_type": "code",
   "execution_count": null,
   "id": "60003fe9-819c-4de7-b889-d18a580b5077",
   "metadata": {},
   "outputs": [],
   "source": [
    "# Define codon of interest\n",
    "codon = 'GCC'\n",
    "seq = 'GACAGACUCCAUGCACGUGGGUAUCUGUC' # The sequence we want to analyze\n",
    "\n",
    "# Initialize sequence index\n",
    "i = 0\n",
    "\n",
    "# Scan sequence until we hit the start codon, but DON'T DO THIS!!!!!\n",
    "while seq[i:i+3] != codon:\n",
    "    i += 1\n",
    "    if i is len(seq)\n",
    "        # i:i+3 be CGA (string is looped) OR i:i+3 is CNaNNan => NaNNaNNaN\n",
    "        print(\"Error: No such codon found.\") # error outputted to screen if no exact codon matched\n",
    "        break\n",
    "        \n",
    "\n",
    "# Show the result\n",
    "print('The codon starts at index', i)"
   ]
  },
  {
   "cell_type": "markdown",
   "id": "ac8046ae-c632-4418-9198-26707c4ed32d",
   "metadata": {},
   "source": [
    "The reason this runs forever is that the conditional expression in the `while` statement never returns `False`. If we slice a string beyond the length of the string the result is an empty string. Go figure."
   ]
  },
  {
   "cell_type": "code",
   "execution_count": 18,
   "id": "1c1c16b5-0455-41e3-821f-59f06df997e8",
   "metadata": {},
   "outputs": [
    {
     "data": {
      "text/plain": [
       "''"
      ]
     },
     "execution_count": 18,
     "metadata": {},
     "output_type": "execute_result"
    }
   ],
   "source": [
    "seq[100:103]"
   ]
  },
  {
   "cell_type": "markdown",
   "id": "f24a39de-1d54-4b78-a713-6b620327cd46",
   "metadata": {},
   "source": [
    "> **Infinite Loop:** An infinite loop is a loop that never terminates. Infinite loops result when the conditions of the loop prevent it from terminating. This could be due to a typo in the conditional statement within the loop or incorrect logic. To interrupt a Python program that is running forever, press the `Ctrl + C` keys together on your keyboard.\n",
    "\n",
    "___"
   ]
  },
  {
   "cell_type": "markdown",
   "id": "8a6123f5-02ab-465b-8636-7074fbf8c23b",
   "metadata": {},
   "source": [
    "## `for` vs `while`\n",
    "\n",
    "Most anything that requires a loop can be done with either a `for` loop or a `while` loop, but there’s a general rule of thumb for which type of loop to use. If you know how many times you have to do something (or if your program knows), use a `for` loop. If you don’t know how many times the loop needs to run until you run it, use a `while` loop. For example, when we want to do something with each character in a string or each entry in a list, the program knows how long the sequence is and a `for` loop is more appropriate. In the previous examples in this lesson, we don’t know how long it will be before we hit the start codon; it depends on the sequence you put into the program. That makes it more suited to a `while` loop."
   ]
  },
  {
   "cell_type": "markdown",
   "id": "4810c12c-0fc0-4260-980b-572d3fd68da7",
   "metadata": {},
   "source": [
    "## `break` and `continue`\n",
    "\n",
    "Iteration stops in a `for` loop when the iterator is exhausted. It stops in a `while` loop when the conditional evaluates to `False`. These is another way to stop iteration: the `break` keyword. Whenever `break` is encountered in a `for` or `while` loop, the iteration halts and execution continues outside the loop. Similarly, the `continue` keyword to stop the current iteration and proceed to the next loop iteration.\n",
    "\n",
    "`break` and `continue` are both keywords you should keep in mind when debugging code containing loops.\n",
    "\n",
    "> **`break` Keyword:** In a loop, the `break` keyword escapes the loop, regardless of the iteration number. Once `break` executes, the program will continue to execute after the loop.\n",
    "> \n",
    "> **`continue` Keyword:** In Python, the `continue` keyword is used inside a loop to skip the remaining code inside the loop code block and begin the next loop iteration.\n",
    "\n",
    "As an example, we’ll do the calculation above with a `for` loop with a `break` instead of a `while` loop."
   ]
  },
  {
   "cell_type": "code",
   "execution_count": null,
   "id": "01bb3b81-110f-4f71-bb85-eb0a80c579a4",
   "metadata": {},
   "outputs": [],
   "source": [
    "start_codon = 'AUG'  # define start codon (piece of sequence we're looking for)\n",
    "seq = 'GACAGACUCCAUGCACGUGGGUAUCUGUC' # The sequence we want to analyze\n",
    "\n",
    "# Scan sequence until we hit the start codon\n",
    "for i in range(len(seq)):\n",
    "    if seq[i:i+3] == start_codon:\n",
    "        print('The start codon starts at index', i)\n",
    "        break\n",
    "    else:\n",
    "        print('Codon not found in sequence.') # Error statement\n",
    "    print(\"This is a print statement within the for loop.\")\n",
    "print(\"This is NOT within the for loop\") # last line of program"
   ]
  },
  {
   "cell_type": "markdown",
   "id": "b5e2b504-4af4-4fcd-abc2-f86c14a0b23e",
   "metadata": {},
   "source": [
    "Notice that we have an `else` block after the `for` loop. In Python, `for` and `while` loops can have an `else` statement after the code block to be evaluated in the loop. The contents of the `else` block are evaluated if the loop completes without encountering a `break`. This is useful for when a `while` check condition is never encountered. So instead of an infinite loop, you can have a custom error print to screen, as is the case in the above example.\n",
    "\n",
    "> **Nested Loops:** \n",
    "In Python, loops can be nested inside other loops. Nested loops can be used to access items of lists which are inside other lists. The item selected from the outer loop can be used as the list for the inner loop to iterate over.\n",
    "\n",
    "___\n",
    "\n",
    "Proceed to Assignment 4."
   ]
  }
 ],
 "metadata": {
  "kernelspec": {
   "display_name": "Python 3 (ipykernel)",
   "language": "python",
   "name": "python3"
  },
  "language_info": {
   "codemirror_mode": {
    "name": "ipython",
    "version": 3
   },
   "file_extension": ".py",
   "mimetype": "text/x-python",
   "name": "python",
   "nbconvert_exporter": "python",
   "pygments_lexer": "ipython3",
   "version": "3.12.0"
  }
 },
 "nbformat": 4,
 "nbformat_minor": 5
}
