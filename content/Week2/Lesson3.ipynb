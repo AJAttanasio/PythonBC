{
 "cells": [
  {
   "cell_type": "markdown",
   "id": "b3bdd6a3-dec2-4c8c-8d07-317ca3584448",
   "metadata": {},
   "source": [
    "# Lesson 3: Lists & Tuples\n",
    "___"
   ]
  },
  {
   "cell_type": "markdown",
   "id": "07c92a47-5998-4268-a7eb-3b2536189b37",
   "metadata": {},
   "source": [
    "There's many different data types available for manipulation in Python, and we'll talk about two ways of organizing that data into *sequences of objects* within this bootcamp.\n",
    "\n",
    "## Lists\n",
    "\n",
    "First: lists. In programming, it is common to want to work with collections of data. In Python, a **list** is one of the many built-in data structures that allows us to work with a collection of data in sequential order.\n",
    "\n",
    "In Python, **lists** are ordered collections of items that allow for easy use of a set of data. List values are placed in between square brackets `[ ]`, separated by commas. It is good practice to put a space between the comma and the next value. The values in a list do not need to be unique (taht is, the same value can be repeated). Lists are a versatile data type that can contain multiple different data types within the same square brackets. The possible data types within a list include numbers, strings, other objects, and even other lists.\n",
    "\n",
    "Empty lists do not contain any values within the square brackets."
   ]
  },
  {
   "cell_type": "code",
   "execution_count": 1,
   "id": "2aa4b44b-6a63-44df-ad74-6c885a70eacc",
   "metadata": {},
   "outputs": [
    {
     "data": {
      "text/plain": [
       "list"
      ]
     },
     "execution_count": 1,
     "metadata": {},
     "output_type": "execute_result"
    }
   ],
   "source": [
    "new_list = [1, -1, 2, -76.2, 'apple']\n",
    "type(new_list)"
   ]
  },
  {
   "cell_type": "code",
   "execution_count": 2,
   "id": "aacf9b99-7bd5-43cb-b259-eebfdcd83f5a",
   "metadata": {},
   "outputs": [
    {
     "data": {
      "text/plain": [
       "[]"
      ]
     },
     "execution_count": 2,
     "metadata": {},
     "output_type": "execute_result"
    }
   ],
   "source": [
    "empty_list = []\n",
    "empty_list"
   ]
  },
  {
   "cell_type": "markdown",
   "id": "50075e84-007d-4a8a-8273-1e62594746e4",
   "metadata": {},
   "source": [
    "Notice how the list can be composed of any combination of types, but the type of the list itself is just `list`. A list can contain Boolean values, unevaluated arithmetic operations, or even another list as an element!"
   ]
  },
  {
   "cell_type": "code",
   "execution_count": 3,
   "id": "0a4a959b-36de-4300-81f5-4088c04e7542",
   "metadata": {},
   "outputs": [
    {
     "data": {
      "text/plain": [
       "[6, -14, 3]"
      ]
     },
     "execution_count": 3,
     "metadata": {},
     "output_type": "execute_result"
    }
   ],
   "source": [
    "math_list = [2*3, 5-19, 5-4//2]\n",
    "math_list"
   ]
  },
  {
   "cell_type": "markdown",
   "id": "84c77ca8-692a-4c0a-8dea-75cdd1ac349c",
   "metadata": {},
   "source": [
    "> **Note:** Did you calculate that last element in the list above correctly? Make sure you understand the order of operations."
   ]
  },
  {
   "cell_type": "code",
   "execution_count": 4,
   "id": "c6628378-ae68-4c33-aa72-13cbc9f437fd",
   "metadata": {},
   "outputs": [
    {
     "data": {
      "text/plain": [
       "[-32, 4.3, 'apple', [42, 'the meaning of life']]"
      ]
     },
     "execution_count": 4,
     "metadata": {},
     "output_type": "execute_result"
    }
   ],
   "source": [
    "weird_list = [-32, 4.3, \"apple\", [42, \"the meaning of life\"]]\n",
    "weird_list"
   ]
  },
  {
   "cell_type": "markdown",
   "id": "31c95574-ff85-4f5e-bd97-3960e6b431a1",
   "metadata": {},
   "source": [
    "We can also create a list from the characters of a string."
   ]
  },
  {
   "cell_type": "code",
   "execution_count": 5,
   "id": "ec6677dc-2928-4ab5-90f0-230019cef44d",
   "metadata": {},
   "outputs": [
    {
     "data": {
      "text/plain": [
       "['a', ' ', 's', 't', 'r', 'i', 'n', 'g']"
      ]
     },
     "execution_count": 5,
     "metadata": {},
     "output_type": "execute_result"
    }
   ],
   "source": [
    "sentence = 'a string'\n",
    "list(sentence)"
   ]
  },
  {
   "cell_type": "markdown",
   "id": "32c96f35-830c-442f-ab85-0f8178113eb1",
   "metadata": {},
   "source": [
    "### List Operators\n",
    "\n",
    "Operators on lists behave much like operators on strings. The `+` operator on lists means list concatenation."
   ]
  },
  {
   "cell_type": "code",
   "execution_count": 6,
   "id": "d12f153d-a68d-48f1-a73b-452d15224758",
   "metadata": {},
   "outputs": [
    {
     "data": {
      "text/plain": [
       "[1, 2, 3, 4, 5, 6]"
      ]
     },
     "execution_count": 6,
     "metadata": {},
     "output_type": "execute_result"
    }
   ],
   "source": [
    "[1, 2, 3] + [4, 5, 6]"
   ]
  },
  {
   "cell_type": "markdown",
   "id": "f69ff8b8-06e5-4905-a5b2-84fb8ddd8078",
   "metadata": {},
   "source": [
    "> **Note:** This will not work for adding one item at a time (use `.append()` method, see far below). In order to add one item, create a new list with a single value and then use the plus symbol to add the list.\n",
    "\n",
    "The `*` operator on lists means list replication and concatenation."
   ]
  },
  {
   "cell_type": "code",
   "execution_count": 7,
   "id": "bee1147f-d1ac-49b4-a855-cb7918c90b1d",
   "metadata": {},
   "outputs": [
    {
     "data": {
      "text/plain": [
       "[1, 2, 3, 1, 2, 3, 1, 2, 3]"
      ]
     },
     "execution_count": 7,
     "metadata": {},
     "output_type": "execute_result"
    }
   ],
   "source": [
    "[1, 2, 3] * 3"
   ]
  },
  {
   "cell_type": "code",
   "execution_count": 8,
   "id": "30f8134d-e48c-478c-a490-42ade23e8815",
   "metadata": {},
   "outputs": [
    {
     "data": {
      "text/plain": [
       "[1, 2, 3, 1, 2, 3, 1, 2, 3, 1, 2, 3]"
      ]
     },
     "execution_count": 8,
     "metadata": {},
     "output_type": "execute_result"
    }
   ],
   "source": [
    "[1, 2, 3] * 4"
   ]
  },
  {
   "cell_type": "markdown",
   "id": "f2a31bd5-5f4d-4b9f-8ae1-c45ed64f7db2",
   "metadata": {},
   "source": [
    "### Membership operators\n",
    "\n",
    "Membership operators are used to determine if an item is in a list. There are two membership operators: `in` and `not in`, and both result in Boolean values, `True` or `False`.\n",
    "\n",
    "| **Python** | **English** |\n",
    "|:----------:|:-----------:|\n",
    "| `in` | is a member of |\n",
    "| `not in` | is not a member of |"
   ]
  },
  {
   "cell_type": "code",
   "execution_count": 9,
   "id": "12440d96-632d-4cae-b985-81f2bc3e7e33",
   "metadata": {},
   "outputs": [
    {
     "data": {
      "text/plain": [
       "False"
      ]
     },
     "execution_count": 9,
     "metadata": {},
     "output_type": "execute_result"
    }
   ],
   "source": [
    "ex_list_2 = [1.1, -4.1, 'peach', [42, \"the meaning of life\"]]\n",
    "1 in ex_list_2"
   ]
  },
  {
   "cell_type": "code",
   "execution_count": 10,
   "id": "4d9b4084-9374-4044-89f7-7c42cbd60c5d",
   "metadata": {},
   "outputs": [
    {
     "data": {
      "text/plain": [
       "True"
      ]
     },
     "execution_count": 10,
     "metadata": {},
     "output_type": "execute_result"
    }
   ],
   "source": [
    "[42, \"the meaning of life\"] in ex_list_2"
   ]
  },
  {
   "cell_type": "code",
   "execution_count": 11,
   "id": "d9c92cec-5917-4275-9a3c-364d08d8a6e5",
   "metadata": {},
   "outputs": [
    {
     "data": {
      "text/plain": [
       "False"
      ]
     },
     "execution_count": 11,
     "metadata": {},
     "output_type": "execute_result"
    }
   ],
   "source": [
    "\"the meaning of life\" in ex_list_2"
   ]
  },
  {
   "cell_type": "code",
   "execution_count": 12,
   "id": "8cbd6bd0-8d6e-4000-be88-56461b8e5f45",
   "metadata": {},
   "outputs": [
    {
     "data": {
      "text/plain": [
       "True"
      ]
     },
     "execution_count": 12,
     "metadata": {},
     "output_type": "execute_result"
    }
   ],
   "source": [
    "\"the meaning of life\" in ex_list_2[-1]"
   ]
  },
  {
   "cell_type": "markdown",
   "id": "cf56c332-2612-4839-82cf-c4defce77d97",
   "metadata": {},
   "source": [
    "Notice that the string \"the meaning of life\" is not considered within the list `ex_list_2` because it is an element of a list within a list."
   ]
  },
  {
   "cell_type": "markdown",
   "id": "04fdba70-1a21-4c17-8b14-6f92c49a9700",
   "metadata": {},
   "source": [
    "### List Indices\n",
    "\n",
    "We've covered how to find an element in a list, but what about grabbing an element out of a list via it's location in that list? For example, what if I want the 5th entry in a list? That's what the *index* is for.\n",
    "\n",
    "Python list elements are ordered by *index*, a number referring to an element's placement in the list. List indices start at `0` and increment by one for every subsequent element in the list. To access a list element by index, square bracket notation is used: `list[index]`.\n",
    "\n",
    "> **Note: Zero-Indexing** In Python, list index begins at zero and ends at the length of the list minus one. For example, in the following list, 'apple' is found at index `2`."
   ]
  },
  {
   "cell_type": "code",
   "execution_count": 13,
   "id": "cf697752-f2e8-4473-9988-d477980e4d41",
   "metadata": {},
   "outputs": [
    {
     "data": {
      "text/plain": [
       "'apple'"
      ]
     },
     "execution_count": 13,
     "metadata": {},
     "output_type": "execute_result"
    }
   ],
   "source": [
    "ex_list = [0, 'kiwi', 'apple', -5.1, 10.02, 12.34, -0.56, 'pickles', 2, 'ten', 11.0]\n",
    "ex_list[2]"
   ]
  },
  {
   "cell_type": "markdown",
   "id": "01b1a3ec-0180-42f5-b4d1-03db8ca15242",
   "metadata": {},
   "source": [
    "> **Note:** Negative indices for lists in Python can be used to reference elements in relation to the end of a list (think of it as counting backwards instead of forwards). This can be used to access single list elements or as part of defining a list range. For example,\n",
    "> - `my_list[-1]` to select the last element\n",
    "> - `my_list[-3:]` to select the last three elements\n",
    "> - `my_list[:-2]` to select everything *except* the last two elements"
   ]
  },
  {
   "cell_type": "code",
   "execution_count": 14,
   "id": "2c95d99a-33c8-48d9-8628-83113f3d7ef5",
   "metadata": {},
   "outputs": [
    {
     "data": {
      "text/plain": [
       "['kiwi', 'apple', -5.1]"
      ]
     },
     "execution_count": 14,
     "metadata": {},
     "output_type": "execute_result"
    }
   ],
   "source": [
    "ex_list[1:4]"
   ]
  },
  {
   "cell_type": "code",
   "execution_count": 15,
   "id": "4ad0d35a-8616-42c2-8649-3230d4a863b3",
   "metadata": {},
   "outputs": [
    {
     "data": {
      "text/plain": [
       "[2, 'ten', 11.0]"
      ]
     },
     "execution_count": 15,
     "metadata": {},
     "output_type": "execute_result"
    }
   ],
   "source": [
    "ex_list[-3:]"
   ]
  },
  {
   "cell_type": "code",
   "execution_count": 16,
   "id": "ee920477-9492-4179-b12e-cc6a08665d95",
   "metadata": {},
   "outputs": [
    {
     "data": {
      "text/plain": [
       "[0, 'kiwi', 'apple', -5.1, 10.02, 12.34, -0.56, 'pickles']"
      ]
     },
     "execution_count": 16,
     "metadata": {},
     "output_type": "execute_result"
    }
   ],
   "source": [
    "ex_list[:-3]"
   ]
  },
  {
   "cell_type": "code",
   "execution_count": 17,
   "id": "7aa90f9f-76e5-40f2-aabc-5c618f336a85",
   "metadata": {},
   "outputs": [],
   "source": [
    "list_example = [0, 1, 2, 3, 4, 5, 6, 7, 8 , 9, 10]"
   ]
  },
  {
   "cell_type": "markdown",
   "id": "a618eeac-75a9-44aa-9cbe-9f697d7b5665",
   "metadata": {},
   "source": [
    "| **Values** | **0** | **1** | **2** | **3** | **4** | **5** | **6** | **7** | **8** | **9** | **10** |\n",
    "| :---: | :---: | :---: | :---: | :---: | :---: | :---: | :---: | :---: | :---: | :---: | :---: |\n",
    "| Forward indices | 0 | 1 | 2 | 3 | 4 | 5 | 6 | 7 | 8 | 9 | 10 |\n",
    "| Backward indices | -11 | -10 | -9 | -8 | -7 | -6 | -5 | -4 | -3 | -2 | -1 |"
   ]
  },
  {
   "cell_type": "code",
   "execution_count": 18,
   "id": "5cb1fa21-e803-4fb7-9cb3-fcfabad34cb1",
   "metadata": {},
   "outputs": [
    {
     "data": {
      "text/plain": [
       "10"
      ]
     },
     "execution_count": 18,
     "metadata": {},
     "output_type": "execute_result"
    }
   ],
   "source": [
    "list_example[10]"
   ]
  },
  {
   "cell_type": "code",
   "execution_count": 19,
   "id": "3a91670d-f6f5-492a-8db3-f25b3134cac8",
   "metadata": {},
   "outputs": [
    {
     "data": {
      "text/plain": [
       "10"
      ]
     },
     "execution_count": 19,
     "metadata": {},
     "output_type": "execute_result"
    }
   ],
   "source": [
    "list_example[-1]"
   ]
  },
  {
   "cell_type": "code",
   "execution_count": 20,
   "id": "6248c118-7d9b-41ea-8377-540f207b1c6c",
   "metadata": {},
   "outputs": [
    {
     "data": {
      "text/plain": [
       "1"
      ]
     },
     "execution_count": 20,
     "metadata": {},
     "output_type": "execute_result"
    }
   ],
   "source": [
    "list_example[1]"
   ]
  },
  {
   "cell_type": "code",
   "execution_count": 21,
   "id": "bc47c57d-6b70-49f7-ba26-4b15b08b6d8a",
   "metadata": {},
   "outputs": [
    {
     "data": {
      "text/plain": [
       "1"
      ]
     },
     "execution_count": 21,
     "metadata": {},
     "output_type": "execute_result"
    }
   ],
   "source": [
    "list_example[-10]"
   ]
  },
  {
   "cell_type": "code",
   "execution_count": 22,
   "id": "7e435059-1470-4e8c-aaca-294041510697",
   "metadata": {},
   "outputs": [
    {
     "data": {
      "text/plain": [
       "11"
      ]
     },
     "execution_count": 22,
     "metadata": {},
     "output_type": "execute_result"
    }
   ],
   "source": [
    "len(list_example) #length function in Python"
   ]
  },
  {
   "cell_type": "markdown",
   "id": "3d9641c6-c96b-4f9f-8de8-7dce5f158014",
   "metadata": {},
   "source": [
    "### List slicing\n",
    "\n",
    "What if we want to find a range of elements in a list? That would be a **slice**, or a sub-list of Python list elements which can be selected from a list using a colon-separated starting and ending point `(:)`. The syntax pattern is `List[start:end]`. The slice will include the `start` index, and everything until but excluding the `end` element. When slicing a list, a new list is returned, so if the slice is saved and then altered, the original list remains the same."
   ]
  },
  {
   "cell_type": "code",
   "execution_count": 23,
   "id": "7ff30ed0-0043-4036-a2a9-7550088008b8",
   "metadata": {},
   "outputs": [
    {
     "data": {
      "text/plain": [
       "[0, 1, 2, 3, 4]"
      ]
     },
     "execution_count": 23,
     "metadata": {},
     "output_type": "execute_result"
    }
   ],
   "source": [
    "list_example[0:5]"
   ]
  },
  {
   "cell_type": "markdown",
   "id": "c8bb3487-46b3-46e4-bb01-308705e01d30",
   "metadata": {},
   "source": [
    "Then `[7:10]` will pull out the last three elements from a list."
   ]
  },
  {
   "cell_type": "code",
   "execution_count": 24,
   "id": "bb4f3808-14a0-4b75-b842-16bf976e6b4a",
   "metadata": {},
   "outputs": [
    {
     "data": {
      "text/plain": [
       "[7, 8, 9]"
      ]
     },
     "execution_count": 24,
     "metadata": {},
     "output_type": "execute_result"
    }
   ],
   "source": [
    "list_example[7:10]"
   ]
  },
  {
   "cell_type": "markdown",
   "id": "9f3c9f07-8e6f-4e54-8f67-73bd3973160e",
   "metadata": {},
   "source": [
    "Using negative indices will instruct the machine what range to leave off the list instead of what to include."
   ]
  },
  {
   "cell_type": "code",
   "execution_count": 25,
   "id": "5440f838-01c1-41a5-96a2-29a6490f8c5e",
   "metadata": {},
   "outputs": [
    {
     "data": {
      "text/plain": [
       "[0, 1, 2, 3, 4, 5, 6, 7]"
      ]
     },
     "execution_count": 25,
     "metadata": {},
     "output_type": "execute_result"
    }
   ],
   "source": [
    "list_example[0:-3]"
   ]
  },
  {
   "cell_type": "markdown",
   "id": "a534d067-3b33-4c7d-8dc4-13acfa0ab698",
   "metadata": {},
   "source": [
    "In the case of the `list_example`, each value is incremented by one for each index. Instead of incrementing by one, we could increment by 2. This would be changing the **stride** of the list:"
   ]
  },
  {
   "cell_type": "code",
   "execution_count": 26,
   "id": "5bac8ad2-4c8b-459e-8627-c6cef4e87571",
   "metadata": {},
   "outputs": [
    {
     "data": {
      "text/plain": [
       "[0, 3, 6, 9]"
      ]
     },
     "execution_count": 26,
     "metadata": {},
     "output_type": "execute_result"
    }
   ],
   "source": [
    "list_example[0:10:3]"
   ]
  },
  {
   "cell_type": "markdown",
   "id": "8eeb0c65-e5b6-4b20-80f8-947030b5231c",
   "metadata": {},
   "source": [
    "> **Note:** If the end is left blank, the default is to include the entire string. Similarly, we can leave out the start index, as its default is zero."
   ]
  },
  {
   "cell_type": "code",
   "execution_count": null,
   "id": "fef7a9e1-45fd-4022-806e-76839d4f680b",
   "metadata": {},
   "outputs": [],
   "source": [
    "list_example[start:end:stride]"
   ]
  },
  {
   "cell_type": "markdown",
   "id": "fa25d2a6-0e47-4712-9bb6-668dddb5e66e",
   "metadata": {},
   "source": [
    "In general, the indexing scheme follows the properties:\n",
    "- If there are no colons, a single element is returned.\n",
    "- If there are any colons, we are slicing the list, and a list is returned.\n",
    "- If there is one colon, stride is assumed to be `1`.\n",
    "- If start is not specified, it is assumed to be zero.\n",
    "- If end is not specified, the interpreted assumed you want the entire list.\n",
    "- If stride is not specified, it is assumed to be `1`."
   ]
  },
  {
   "cell_type": "markdown",
   "id": "270c4c67-d7cb-4803-b911-a51f1f343e38",
   "metadata": {},
   "source": [
    "### Mutability\n",
    "\n",
    "Unlike the other data types we've so far encountered (`int`, `float`, `str`), lists are **mutable**. Mutable means we can change their values without creating a new list. However, we cannot change the data type or identity."
   ]
  },
  {
   "cell_type": "code",
   "execution_count": 28,
   "id": "63e3da83-884b-421e-a6e8-2b10c2bd2fc9",
   "metadata": {},
   "outputs": [
    {
     "data": {
      "text/plain": [
       "[0, 1, 2, 3, 'four', 5]"
      ]
     },
     "execution_count": 28,
     "metadata": {},
     "output_type": "execute_result"
    }
   ],
   "source": [
    "new_list = [0, 1, 2, 3, 4, 5] # a fresh new list for this example\n",
    "new_list[4] = 'four' # reassign the element at index 4 to be 'four'\n",
    "new_list # output the new new_list"
   ]
  },
  {
   "cell_type": "markdown",
   "id": "5b76dd61-88cf-4cd2-a8a0-b51d947d4b6f",
   "metadata": {},
   "source": [
    "### List Methods\n",
    "\n",
    "As a quick aside, let's talk about all the ways we can restructure a list without actually having to make a new list.\n",
    "-  **`.append()`:** As mentioned previous, in Python you can add values to the end of a list using the `.append()` method. This will place the object passed in as a new element at the very end of the list. Printing the list afterwards will visually show the appended value. This `.append()` method is not to be confused with returning an entirely new list with the passed object.\n",
    "-  **`.remove()`:** The `.remove()` method in Python is used to remove an element from a list by passing in the value of the element to be removed as an argument. In the case where two or more elements in the list have the same value, the first occurrence of the element is removed.\n",
    "-  **`.insert()`:** The Python list method `.insert()` allows us to add an element to a specific index in a list. It takes in two inputs:\n",
    "   - The index that you want to insert into.\n",
    "   - The element that you want to insert at the specified index.\n",
    "- **`.pop()`:** The `.pop()` method allows us to remove an element from a list while also returning it. It accepts one optional input which is the index of the element to remove. If no index is provided, then the last element in the list will be removed and returned.\n",
    "- **`.count()`:** The `.count()` Python list method searches a list for whatever search term it receives as an argument, then returns the number of matching entries found.\n",
    "- **`.sort()`:** The `.sort()` Python list method will sort the contents of whatever list it is called on. Numerical lists will be sorted in ascending order, and lists of strings will be sorted into alphabetical order. It modifies the original list, and has no return value.\n",
    "\n",
    "> **`sorted()` Function:** The Python `sorted()` function accepts a list as an argument, and will return a new, sorted list containing the same elements as the original. Numerical lists will be sorted in ascending order, and lists of Strings will be sorted into alphabetical order. It does not modify the original, unsorted list.\n",
    "\n",
    "---"
   ]
  },
  {
   "cell_type": "code",
   "execution_count": null,
   "id": "118d339d-2a98-4cac-a431-5cf52b63afe6",
   "metadata": {},
   "outputs": [],
   "source": [
    "new_list.append(6)\n",
    "new_list"
   ]
  },
  {
   "cell_type": "code",
   "execution_count": null,
   "id": "2cd18fd5-32ef-4e73-a6de-269f10c7aa81",
   "metadata": {},
   "outputs": [],
   "source": [
    "new_list.remove(3)\n",
    "new_list"
   ]
  },
  {
   "cell_type": "code",
   "execution_count": null,
   "id": "51926fe4-ccab-40c0-8992-32fc540deb18",
   "metadata": {},
   "outputs": [],
   "source": [
    "new_list.insert(6,'six')\n",
    "new_list"
   ]
  },
  {
   "cell_type": "code",
   "execution_count": null,
   "id": "788a2438-c853-4605-83cb-6e8db04ddb6a",
   "metadata": {},
   "outputs": [],
   "source": [
    "new_list.insert(5,4)\n",
    "new_list"
   ]
  },
  {
   "cell_type": "code",
   "execution_count": null,
   "id": "59065719-ea7f-4d48-ac43-9f75b0c5c4d4",
   "metadata": {},
   "outputs": [],
   "source": [
    "new_list.sort()"
   ]
  },
  {
   "cell_type": "code",
   "execution_count": null,
   "id": "df775a12-dc1a-4ef3-a465-c3bf9dd5dfcd",
   "metadata": {},
   "outputs": [],
   "source": [
    "sorted(new_list)"
   ]
  },
  {
   "cell_type": "markdown",
   "id": "9b2c66bf-95fe-4f4c-8790-00b000cb99cf",
   "metadata": {},
   "source": [
    "## Tuples\n",
    "\n",
    "A **tuple** is just like a list, except it's *immutable* (basically a read-only list). It's also created just like a list, except we use parentheses instead of brackets. The only thing to watch out for is that a tuple with a single item needs to include a comma after the item."
   ]
  },
  {
   "cell_type": "code",
   "execution_count": null,
   "id": "f9d64c1f-7341-44c2-a876-af7a7270fd52",
   "metadata": {},
   "outputs": [],
   "source": [
    "a_tuple = (0,)\n",
    "not_a_tuple = (0) # this is just the number 0 (normal use of parantheses)\n",
    "type(a_tuple), type(not_a_tuple)"
   ]
  },
  {
   "cell_type": "markdown",
   "id": "595840ae-6303-40fc-baf0-6f6348d8967b",
   "metadata": {},
   "source": [
    "Lists can be converted into tuples with the `tuple()` function acting on a list, as follows."
   ]
  },
  {
   "cell_type": "code",
   "execution_count": null,
   "id": "ea456ffa-524e-4b55-9e4a-61c41673ef76",
   "metadata": {},
   "outputs": [],
   "source": [
    "a_list = [-32, 4.3, \"apple\", [42, \"the meaning of life\"]]\n",
    "list_to_tuple = tuple(a_list)\n",
    "list_to_tuple"
   ]
  },
  {
   "cell_type": "markdown",
   "id": "bb79f293-0595-46cb-b3c7-ed1c1fcb65f2",
   "metadata": {},
   "source": [
    "> **Note:** The list within `a_list` is still a list, even as an element within `list_to_tuple`."
   ]
  },
  {
   "cell_type": "code",
   "execution_count": null,
   "id": "c0b50170-791e-4111-9978-44292874767d",
   "metadata": {},
   "outputs": [],
   "source": [
    "type(list_to_tuple[3])"
   ]
  },
  {
   "cell_type": "markdown",
   "id": "1d76c2c9-a3dc-418e-b873-f133367f957a",
   "metadata": {},
   "source": [
    "And if we try to change any element of this tuple, we'll get an error."
   ]
  },
  {
   "cell_type": "code",
   "execution_count": null,
   "id": "f6cad072-0bc3-40dd-b803-8bcc6862a5e7",
   "metadata": {},
   "outputs": [],
   "source": [
    "list_to_tuple[3] = 7"
   ]
  },
  {
   "cell_type": "markdown",
   "id": "8640b177-af85-4968-af8c-c968e44de72e",
   "metadata": {},
   "source": [
    "Take a good look at that error:\n",
    "\n",
    "`TypeError: 'tuple' object does not support item assignment`\n",
    "\n",
    "This is an example of the tuple's immutable property in action. In fact, the immutability of tuples makes them a rather safe and convenient way to store data, making them very useful. So, unless you really need mutability for something, use tuples instead of lists.\n",
    "\n",
    "### Tuple Slicing\n",
    "\n",
    "Slicing of tuples is the same as lists, except a tuple is returned from the slicing operation instead of a list."
   ]
  },
  {
   "cell_type": "code",
   "execution_count": 31,
   "id": "9e4bc3a2-f107-4182-9bd1-14187bec9c87",
   "metadata": {},
   "outputs": [
    {
     "data": {
      "text/plain": [
       "(10, 9, 8, 7, 6, 5, 4, 3, 2, 1, 0)"
      ]
     },
     "execution_count": 31,
     "metadata": {},
     "output_type": "execute_result"
    }
   ],
   "source": [
    "new_tup = (0, 1, 2, 3, 4, 5, 6, 7, 8, 9, 10)\n",
    "new_tup[::-1] # reverses order of entries"
   ]
  },
  {
   "cell_type": "code",
   "execution_count": 32,
   "id": "f0909807-de63-4eb9-842b-d61603b3a6e9",
   "metadata": {},
   "outputs": [
    {
     "data": {
      "text/plain": [
       "(0, 1, 2, 3, 4, 5, 6, 7, 8, 9, 10)"
      ]
     },
     "execution_count": 32,
     "metadata": {},
     "output_type": "execute_result"
    }
   ],
   "source": [
    "new_tup"
   ]
  },
  {
   "cell_type": "code",
   "execution_count": 33,
   "id": "e1324e06-e582-446c-9ea0-023f516e7010",
   "metadata": {},
   "outputs": [
    {
     "data": {
      "text/plain": [
       "(1, 3, 5, 7, 9)"
      ]
     },
     "execution_count": 33,
     "metadata": {},
     "output_type": "execute_result"
    }
   ],
   "source": [
    "new_tup[1::2] # extracts only odd-valued entries"
   ]
  },
  {
   "cell_type": "code",
   "execution_count": 34,
   "id": "48f3880a-db7c-4f48-86fa-74542f2ade1c",
   "metadata": {},
   "outputs": [
    {
     "data": {
      "text/plain": [
       "(0, 1, 2, 3, 4, 5, 6, 7, 8, 9, 10)"
      ]
     },
     "execution_count": 34,
     "metadata": {},
     "output_type": "execute_result"
    }
   ],
   "source": [
    "new_tup"
   ]
  },
  {
   "cell_type": "markdown",
   "id": "e1eaf6dd-dc1d-438c-967a-17cde0842982",
   "metadata": {},
   "source": [
    "### Operator `+` on Tuples\n",
    "\n",
    "Same as lists, the operator `+` can concatenate tuples, as seen in the example below."
   ]
  },
  {
   "cell_type": "code",
   "execution_count": 35,
   "id": "f7268cee-1cff-4c9c-a5c7-2cce774e2225",
   "metadata": {},
   "outputs": [
    {
     "data": {
      "text/plain": [
       "(0, 1, 2, 3, 4, 5, 6, 7, 8, 9, 10, 11, 12, 13, 14, 15)"
      ]
     },
     "execution_count": 35,
     "metadata": {},
     "output_type": "execute_result"
    }
   ],
   "source": [
    "diff_tup = new_tup + (11, 12, 13, 14, 15)\n",
    "diff_tup"
   ]
  },
  {
   "cell_type": "code",
   "execution_count": 36,
   "id": "4a0ced0f-b70d-4701-9fd5-0395084a0058",
   "metadata": {},
   "outputs": [
    {
     "data": {
      "text/plain": [
       "(0, 1, 2, 3, 4, 5, 6, 7, 8, 9, 10)"
      ]
     },
     "execution_count": 36,
     "metadata": {},
     "output_type": "execute_result"
    }
   ],
   "source": [
    "new_tup"
   ]
  },
  {
   "cell_type": "markdown",
   "id": "628d35e2-19e7-44f1-9b70-d45c4a55eee4",
   "metadata": {},
   "source": [
    "### Membership operators on Tuples\n",
    "\n",
    "Membership operators work the same on tuples as on lists, as well."
   ]
  },
  {
   "cell_type": "code",
   "execution_count": 37,
   "id": "50cd9a74-5902-46c9-a239-78a5e38c9572",
   "metadata": {},
   "outputs": [
    {
     "data": {
      "text/plain": [
       "True"
      ]
     },
     "execution_count": 37,
     "metadata": {},
     "output_type": "execute_result"
    }
   ],
   "source": [
    "9 in new_tup # \"is the value 9 within the tuple new_tup?\""
   ]
  },
  {
   "cell_type": "code",
   "execution_count": 38,
   "id": "dbfd6b1d-8c99-40f1-b9df-8a4d8eb98a40",
   "metadata": {},
   "outputs": [
    {
     "data": {
      "text/plain": [
       "True"
      ]
     },
     "execution_count": 38,
     "metadata": {},
     "output_type": "execute_result"
    }
   ],
   "source": [
    "'apple' not in new_tup # \"is 'apple' not within new_tup?\""
   ]
  },
  {
   "cell_type": "markdown",
   "id": "7fdd0c4e-a93f-4e6d-8855-e282c7f57ba5",
   "metadata": {},
   "source": [
    "### Unpacking Tuples\n",
    "\n",
    "Now let's talk about something slightly different: *unpacking* tuples. This action means taking the elements of a tuple and assigning them to another variable to keep track of. *Unpacking* is particularly useful when we want to return more than one value from a function and further using the values as stored in different variables. We'll make use of this later on when we talk about functions in a few lessons."
   ]
  },
  {
   "cell_type": "code",
   "execution_count": 39,
   "id": "5f7f086d-8d53-43e2-853b-c9856fffb496",
   "metadata": {},
   "outputs": [],
   "source": [
    "tiny_tup = (1, 2, 3)\n",
    "(x, y, z) = tiny_tup\n",
    "# (x, y, z) = (1, 2, 3)"
   ]
  },
  {
   "cell_type": "code",
   "execution_count": 40,
   "id": "13377a46-5ee5-4b22-9e80-3b96f171f799",
   "metadata": {},
   "outputs": [
    {
     "data": {
      "text/plain": [
       "1"
      ]
     },
     "execution_count": 40,
     "metadata": {},
     "output_type": "execute_result"
    }
   ],
   "source": [
    "x"
   ]
  },
  {
   "cell_type": "code",
   "execution_count": 41,
   "id": "663fc0c2-2f07-4817-9c39-3ae18897aca5",
   "metadata": {},
   "outputs": [
    {
     "data": {
      "text/plain": [
       "2"
      ]
     },
     "execution_count": 41,
     "metadata": {},
     "output_type": "execute_result"
    }
   ],
   "source": [
    "y"
   ]
  },
  {
   "cell_type": "code",
   "execution_count": 42,
   "id": "e6e71d17-f2f3-4aa7-b711-a8f95cfe9a7f",
   "metadata": {},
   "outputs": [
    {
     "data": {
      "text/plain": [
       "3"
      ]
     },
     "execution_count": 42,
     "metadata": {},
     "output_type": "execute_result"
    }
   ],
   "source": [
    "z"
   ]
  },
  {
   "cell_type": "markdown",
   "id": "050a9395-a9a0-4b3e-b7b4-76cf0d004f61",
   "metadata": {},
   "source": [
    "> **Note:** The paranthesis around the newly assigned variables are dispensible, as noted below."
   ]
  },
  {
   "cell_type": "code",
   "execution_count": 43,
   "id": "4baa4820-c16c-4429-97de-652a28726e85",
   "metadata": {},
   "outputs": [
    {
     "name": "stdout",
     "output_type": "stream",
     "text": [
      "1 2 3\n"
     ]
    }
   ],
   "source": [
    "a, b, c = tiny_tup\n",
    "print(a,b,c)"
   ]
  },
  {
   "cell_type": "markdown",
   "id": "4d46c21f-f2c9-4090-9f01-1c514354db17",
   "metadata": {},
   "source": [
    "___\n",
    "\n",
    "Please proceed to Assignment 3."
   ]
  }
 ],
 "metadata": {
  "kernelspec": {
   "display_name": "Python 3 (ipykernel)",
   "language": "python",
   "name": "python3"
  },
  "language_info": {
   "codemirror_mode": {
    "name": "ipython",
    "version": 3
   },
   "file_extension": ".py",
   "mimetype": "text/x-python",
   "name": "python",
   "nbconvert_exporter": "python",
   "pygments_lexer": "ipython3",
   "version": "3.12.0"
  }
 },
 "nbformat": 4,
 "nbformat_minor": 5
}
