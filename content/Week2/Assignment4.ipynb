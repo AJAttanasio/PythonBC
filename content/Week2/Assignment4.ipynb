{
 "cells": [
  {
   "cell_type": "markdown",
   "id": "ef0439b5-7ca0-4c1c-9536-bbcf775d3e3a",
   "metadata": {},
   "source": [
    "# Assignment 4\n",
    "\n",
    "All assignments *must* be submitted as a JupyterLab `.ipynb` notebook file via email (aattanasio@unm.edu). Title the file with your name: `Assignment_NAME.ipynb`.\n",
    "\n",
    "___"
   ]
  },
  {
   "cell_type": "markdown",
   "id": "504258ef-9f05-450d-b149-ed631d3458cb",
   "metadata": {},
   "source": [
    "The *Sieve of Eratosthenes* is an ancient method for calculating prime numbers. You can read about it on [Wikipedia](https://en.wikipedia.org/wiki/Sieve_of_Eratosthenes). Some pseudocode for the algorithm is below.\n",
    "\n",
    "> **Note:** **Pseudocode** is a plain language description of the steps in an algorithm. It is often composed from structural conventions of a normal programming language, but is intended for human reading rather than machine reading. That is, it will most likely error out if executed by any programming language interpreter."
   ]
  },
  {
   "cell_type": "code",
   "execution_count": null,
   "id": "949f21a9-b607-4a20-8e63-a16814719108",
   "metadata": {},
   "outputs": [],
   "source": [
    "algorithm Sieve of Eratosthenes is\n",
    "    input: an integer n > 1.\n",
    "    output: all prime numbers from 2 through n.\n",
    "\n",
    "    let A be an array of Boolean values, indexed by integers 2 to n,\n",
    "    initially all set to true.\n",
    "    \n",
    "    for i = 2, 3, 4, ..., not exceeding √n do # sqrt(n) = 100 for n = 10,000\n",
    "        if A[i] is true\n",
    "            for j = i2, i2+i, i2+2i, i2+3i, ..., not exceeding n do\n",
    "                set A[j] := false\n",
    "\n",
    "    return all i such that A[i] is true."
   ]
  },
  {
   "cell_type": "markdown",
   "id": "81b4e2e4-15eb-4475-ad7e-b542b885fd8b",
   "metadata": {},
   "source": [
    "Based on the pseudocode above, write a Python code to make a list of all primes less than 10,000 (n=100). How many are there?\n",
    "> **Note:** When you answer this question, you’ll see the curious result that the number of primes less than 10,000 is also prime!\n",
    "\n",
    "___"
   ]
  },
  {
   "cell_type": "code",
   "execution_count": null,
   "id": "a48bf2d2-a772-4a43-876d-0cfb70f27847",
   "metadata": {},
   "outputs": [],
   "source": [
    "# NAME_OF_YOUR_SCRIPT.py"
   ]
  },
  {
   "cell_type": "code",
   "execution_count": null,
   "id": "85d17ed9-ad92-44fa-9c10-626d90f39216",
   "metadata": {},
   "outputs": [],
   "source": []
  },
  {
   "cell_type": "code",
   "execution_count": null,
   "id": "264cf748-0c31-4081-8ca8-d34c179363e9",
   "metadata": {},
   "outputs": [],
   "source": []
  },
  {
   "cell_type": "code",
   "execution_count": null,
   "id": "f1fb4c7e-6af2-4730-bc1e-89e12fbcdf0e",
   "metadata": {},
   "outputs": [],
   "source": []
  }
 ],
 "metadata": {
  "kernelspec": {
   "display_name": "Python 3 (ipykernel)",
   "language": "python",
   "name": "python3"
  },
  "language_info": {
   "codemirror_mode": {
    "name": "ipython",
    "version": 3
   },
   "file_extension": ".py",
   "mimetype": "text/x-python",
   "name": "python",
   "nbconvert_exporter": "python",
   "pygments_lexer": "ipython3",
   "version": "3.12.0"
  }
 },
 "nbformat": 4,
 "nbformat_minor": 5
}
